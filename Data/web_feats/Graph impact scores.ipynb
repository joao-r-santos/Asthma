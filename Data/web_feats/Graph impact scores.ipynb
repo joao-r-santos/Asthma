{
 "cells": [
  {
   "cell_type": "markdown",
   "metadata": {},
   "source": [
    "# Calculate the rank of each county for each feature and for each subset of the population"
   ]
  },
  {
   "cell_type": "code",
   "execution_count": 1,
   "metadata": {
    "collapsed": true
   },
   "outputs": [],
   "source": [
    "%matplotlib inline\n",
    "\n",
    "import numpy as np\n",
    "import pandas as pd\n",
    "# from scipy import stats\n",
    "# import pickle\n",
    "\n",
    "import matplotlib.pyplot as plt"
   ]
  },
  {
   "cell_type": "code",
   "execution_count": 3,
   "metadata": {
    "collapsed": true
   },
   "outputs": [],
   "source": [
    "# import seaborn as sns\n",
    "# sns.set()"
   ]
  },
  {
   "cell_type": "code",
   "execution_count": 2,
   "metadata": {
    "collapsed": true
   },
   "outputs": [],
   "source": [
    "params = { 'axes.grid': True\n",
    "          ,'axes.axisbelow': True\n",
    "          ,'grid.color': '0.5'\n",
    "          ,'legend.numpoints': 1\n",
    "          ,'savefig.bbox': 'tight'\n",
    "          ,'font.size': 16\n",
    "          ,'legend.loc': 'best'\n",
    "          ,'legend.fontsize': 'medium'\n",
    "          #,'lines.markersize': 6\n",
    "          ,'xtick.labelsize': 'small'\n",
    "          ,'ytick.labelsize': 'small'\n",
    "          #,'xtick.direction': 'out'\n",
    "          #,'ytick.direction': 'out'\n",
    "          ,'figure.figsize': [8, 6]\n",
    "          #,'axes.labelsize': 'large'   # no need to change these sizes, just change font.size\n",
    "          #,'axes.titlesize': 'x-large'\n",
    "}\n",
    "plt.rcParams.update(params)"
   ]
  },
  {
   "cell_type": "markdown",
   "metadata": {},
   "source": [
    "# Get the data"
   ]
  },
  {
   "cell_type": "code",
   "execution_count": 6,
   "metadata": {
    "collapsed": false
   },
   "outputs": [
    {
     "data": {
      "text/html": [
       "<div>\n",
       "<table border=\"1\" class=\"dataframe\">\n",
       "  <thead>\n",
       "    <tr style=\"text-align: right;\">\n",
       "      <th></th>\n",
       "      <th>AQI Median</th>\n",
       "      <th>O3 AQI</th>\n",
       "      <th>PM2.5 AQI</th>\n",
       "      <th>Population near busy roads (%)</th>\n",
       "      <th>Area burned percent</th>\n",
       "    </tr>\n",
       "  </thead>\n",
       "  <tbody>\n",
       "    <tr>\n",
       "      <th>0</th>\n",
       "      <td>4.660000</td>\n",
       "      <td>8.524133</td>\n",
       "      <td>9.440333</td>\n",
       "      <td>0.000000</td>\n",
       "      <td>2.235556</td>\n",
       "    </tr>\n",
       "    <tr>\n",
       "      <th>1</th>\n",
       "      <td>21.322333</td>\n",
       "      <td>0.000000</td>\n",
       "      <td>0.000000</td>\n",
       "      <td>0.000000</td>\n",
       "      <td>0.000000</td>\n",
       "    </tr>\n",
       "    <tr>\n",
       "      <th>2</th>\n",
       "      <td>2.603667</td>\n",
       "      <td>16.981889</td>\n",
       "      <td>3.322333</td>\n",
       "      <td>12.307333</td>\n",
       "      <td>1.589111</td>\n",
       "    </tr>\n",
       "    <tr>\n",
       "      <th>3</th>\n",
       "      <td>6.009333</td>\n",
       "      <td>11.907667</td>\n",
       "      <td>3.322333</td>\n",
       "      <td>0.000000</td>\n",
       "      <td>0.000000</td>\n",
       "    </tr>\n",
       "    <tr>\n",
       "      <th>4</th>\n",
       "      <td>10.725756</td>\n",
       "      <td>3.438333</td>\n",
       "      <td>2.233067</td>\n",
       "      <td>0.639667</td>\n",
       "      <td>0.473000</td>\n",
       "    </tr>\n",
       "  </tbody>\n",
       "</table>\n",
       "</div>"
      ],
      "text/plain": [
       "   AQI Median     O3 AQI  PM2.5 AQI  Population near busy roads (%)  \\\n",
       "0    4.660000   8.524133   9.440333                        0.000000   \n",
       "1   21.322333   0.000000   0.000000                        0.000000   \n",
       "2    2.603667  16.981889   3.322333                       12.307333   \n",
       "3    6.009333  11.907667   3.322333                        0.000000   \n",
       "4   10.725756   3.438333   2.233067                        0.639667   \n",
       "\n",
       "   Area burned percent  \n",
       "0             2.235556  \n",
       "1             0.000000  \n",
       "2             1.589111  \n",
       "3             0.000000  \n",
       "4             0.473000  "
      ]
     },
     "execution_count": 6,
     "metadata": {},
     "output_type": "execute_result"
    }
   ],
   "source": [
    "impact_df= pd.read_csv('impactscore_2014.csv')\n",
    "impact_df.head()"
   ]
  },
  {
   "cell_type": "code",
   "execution_count": 7,
   "metadata": {
    "collapsed": false
   },
   "outputs": [
    {
     "data": {
      "text/html": [
       "<div>\n",
       "<table border=\"1\" class=\"dataframe\">\n",
       "  <thead>\n",
       "    <tr style=\"text-align: right;\">\n",
       "      <th></th>\n",
       "      <th>County</th>\n",
       "      <th>Year</th>\n",
       "      <th>Age (&lt;4YO)</th>\n",
       "      <th>Gender (M)</th>\n",
       "      <th>White</th>\n",
       "      <th>African</th>\n",
       "      <th>Asian</th>\n",
       "      <th>Hispanic</th>\n",
       "      <th>Other</th>\n",
       "      <th>Rate (per 10k)</th>\n",
       "      <th>Rate predict</th>\n",
       "    </tr>\n",
       "  </thead>\n",
       "  <tbody>\n",
       "    <tr>\n",
       "      <th>0</th>\n",
       "      <td>Alameda</td>\n",
       "      <td>2014</td>\n",
       "      <td>1</td>\n",
       "      <td>0</td>\n",
       "      <td>0</td>\n",
       "      <td>1</td>\n",
       "      <td>0</td>\n",
       "      <td>0</td>\n",
       "      <td>0</td>\n",
       "      <td>329.94</td>\n",
       "      <td>299.221778</td>\n",
       "    </tr>\n",
       "    <tr>\n",
       "      <th>1</th>\n",
       "      <td>Alameda</td>\n",
       "      <td>2014</td>\n",
       "      <td>1</td>\n",
       "      <td>1</td>\n",
       "      <td>0</td>\n",
       "      <td>1</td>\n",
       "      <td>0</td>\n",
       "      <td>0</td>\n",
       "      <td>0</td>\n",
       "      <td>596.67</td>\n",
       "      <td>618.332822</td>\n",
       "    </tr>\n",
       "    <tr>\n",
       "      <th>2</th>\n",
       "      <td>Alameda</td>\n",
       "      <td>2014</td>\n",
       "      <td>0</td>\n",
       "      <td>0</td>\n",
       "      <td>0</td>\n",
       "      <td>1</td>\n",
       "      <td>0</td>\n",
       "      <td>0</td>\n",
       "      <td>0</td>\n",
       "      <td>223.52</td>\n",
       "      <td>225.082222</td>\n",
       "    </tr>\n",
       "    <tr>\n",
       "      <th>3</th>\n",
       "      <td>Alameda</td>\n",
       "      <td>2014</td>\n",
       "      <td>0</td>\n",
       "      <td>1</td>\n",
       "      <td>0</td>\n",
       "      <td>1</td>\n",
       "      <td>0</td>\n",
       "      <td>0</td>\n",
       "      <td>0</td>\n",
       "      <td>304.49</td>\n",
       "      <td>254.442056</td>\n",
       "    </tr>\n",
       "    <tr>\n",
       "      <th>4</th>\n",
       "      <td>Alameda</td>\n",
       "      <td>2014</td>\n",
       "      <td>1</td>\n",
       "      <td>0</td>\n",
       "      <td>0</td>\n",
       "      <td>0</td>\n",
       "      <td>1</td>\n",
       "      <td>0</td>\n",
       "      <td>0</td>\n",
       "      <td>39.63</td>\n",
       "      <td>39.203222</td>\n",
       "    </tr>\n",
       "  </tbody>\n",
       "</table>\n",
       "</div>"
      ],
      "text/plain": [
       "    County  Year  Age (<4YO)  Gender (M)  White  African  Asian  Hispanic  \\\n",
       "0  Alameda  2014           1           0      0        1      0         0   \n",
       "1  Alameda  2014           1           1      0        1      0         0   \n",
       "2  Alameda  2014           0           0      0        1      0         0   \n",
       "3  Alameda  2014           0           1      0        1      0         0   \n",
       "4  Alameda  2014           1           0      0        0      1         0   \n",
       "\n",
       "   Other  Rate (per 10k)  Rate predict  \n",
       "0      0          329.94    299.221778  \n",
       "1      0          596.67    618.332822  \n",
       "2      0          223.52    225.082222  \n",
       "3      0          304.49    254.442056  \n",
       "4      0           39.63     39.203222  "
      ]
     },
     "execution_count": 7,
     "metadata": {},
     "output_type": "execute_result"
    }
   ],
   "source": [
    "county_info_df =pd.read_csv('index_2014.csv')\n",
    "county_info_df.head()"
   ]
  },
  {
   "cell_type": "markdown",
   "metadata": {},
   "source": [
    "### Select the subset of population"
   ]
  },
  {
   "cell_type": "code",
   "execution_count": 10,
   "metadata": {
    "collapsed": true
   },
   "outputs": [],
   "source": [
    "vals= ['Los Angeles',1,1,0,1,0,0,0]\n",
    "inds= (county_info_df.iloc[:,0]==vals[0]) & (county_info_df.iloc[:,2]==vals[1]) & (county_info_df.iloc[:,3]==vals[2]) & (county_info_df.iloc[:,4]==vals[3]) & (county_info_df.iloc[:,5]==vals[4]) & (county_info_df.iloc[:,6]==vals[5]) & (county_info_df.iloc[:,7]==vals[6]) & (county_info_df.iloc[:,8]==vals[7])"
   ]
  },
  {
   "cell_type": "code",
   "execution_count": 11,
   "metadata": {
    "collapsed": false
   },
   "outputs": [
    {
     "data": {
      "text/html": [
       "<div>\n",
       "<table border=\"1\" class=\"dataframe\">\n",
       "  <thead>\n",
       "    <tr style=\"text-align: right;\">\n",
       "      <th></th>\n",
       "      <th>County</th>\n",
       "      <th>Year</th>\n",
       "      <th>Age (&lt;4YO)</th>\n",
       "      <th>Gender (M)</th>\n",
       "      <th>White</th>\n",
       "      <th>African</th>\n",
       "      <th>Asian</th>\n",
       "      <th>Hispanic</th>\n",
       "      <th>Other</th>\n",
       "      <th>Rate (per 10k)</th>\n",
       "      <th>Rate predict</th>\n",
       "    </tr>\n",
       "  </thead>\n",
       "  <tbody>\n",
       "    <tr>\n",
       "      <th>118</th>\n",
       "      <td>Los Angeles</td>\n",
       "      <td>2014</td>\n",
       "      <td>1</td>\n",
       "      <td>1</td>\n",
       "      <td>0</td>\n",
       "      <td>1</td>\n",
       "      <td>0</td>\n",
       "      <td>0</td>\n",
       "      <td>0</td>\n",
       "      <td>416.86</td>\n",
       "      <td>454.154778</td>\n",
       "    </tr>\n",
       "  </tbody>\n",
       "</table>\n",
       "</div>"
      ],
      "text/plain": [
       "          County  Year  Age (<4YO)  Gender (M)  White  African  Asian  \\\n",
       "118  Los Angeles  2014           1           1      0        1      0   \n",
       "\n",
       "     Hispanic  Other  Rate (per 10k)  Rate predict  \n",
       "118         0      0          416.86    454.154778  "
      ]
     },
     "execution_count": 11,
     "metadata": {},
     "output_type": "execute_result"
    }
   ],
   "source": [
    "county_info_df.loc[inds]"
   ]
  },
  {
   "cell_type": "code",
   "execution_count": 18,
   "metadata": {
    "collapsed": false
   },
   "outputs": [
    {
     "data": {
      "text/html": [
       "<div>\n",
       "<table border=\"1\" class=\"dataframe\">\n",
       "  <thead>\n",
       "    <tr style=\"text-align: right;\">\n",
       "      <th></th>\n",
       "      <th>AQI Median</th>\n",
       "      <th>O3 AQI</th>\n",
       "      <th>PM2.5 AQI</th>\n",
       "      <th>Population near busy roads (%)</th>\n",
       "      <th>Area burned percent</th>\n",
       "    </tr>\n",
       "  </thead>\n",
       "  <tbody>\n",
       "    <tr>\n",
       "      <th>118</th>\n",
       "      <td>8.002622</td>\n",
       "      <td>7.971</td>\n",
       "      <td>9.227333</td>\n",
       "      <td>1.279333</td>\n",
       "      <td>0.0</td>\n",
       "    </tr>\n",
       "  </tbody>\n",
       "</table>\n",
       "</div>"
      ],
      "text/plain": [
       "     AQI Median  O3 AQI  PM2.5 AQI  Population near busy roads (%)  \\\n",
       "118    8.002622   7.971   9.227333                        1.279333   \n",
       "\n",
       "     Area burned percent  \n",
       "118                  0.0  "
      ]
     },
     "execution_count": 18,
     "metadata": {},
     "output_type": "execute_result"
    }
   ],
   "source": [
    "focus_df= impact_df.loc[inds]\n",
    "focus_df"
   ]
  },
  {
   "cell_type": "code",
   "execution_count": null,
   "metadata": {
    "collapsed": true
   },
   "outputs": [],
   "source": []
  },
  {
   "cell_type": "code",
   "execution_count": 32,
   "metadata": {
    "collapsed": false
   },
   "outputs": [
    {
     "data": {
      "image/png": "[encoded data removed]",
      "text/plain": [
       "<matplotlib.figure.Figure at 0x7f46e6476ed0>"
      ]
     },
     "metadata": {},
     "output_type": "display_data"
    }
   ],
   "source": [
    "plt.figure(figsize=(8,6))\n",
    "ax= plt.subplot(111)\n",
    "\n",
    "feats_impact= np.array(focus_ds).squeeze()\n",
    "feats_name= focus_ds.columns\n",
    "\n",
    "Nlim= len(feats_impact)\n",
    "indsPLT= np.arange(Nlim)\n",
    "width= 0.8\n",
    "shift= 0.5*(1.-width)\n",
    "\n",
    "indsSort= np.argsort(feats_impact)\n",
    "plt.barh(indsPLT+shift, feats_impact[indsSort], height=width, color='r',ec='r',alpha=.7)\n",
    "\n",
    "# plt.xlim(xmin=-0.1)\n",
    "plt.ylim(0,Nlim)\n",
    "plt.grid(axis='y')\n",
    "plt.yticks(indsPLT+0.5,feats_name[indsSort])\n",
    "plt.xlabel('Impact Score')\n",
    "\n",
    "ax.yaxis.set_ticks_position('none')\n",
    "ax.set_frame_on(False)\n",
    "ax.xaxis.set_ticks_position('bottom')\n",
    "ax.yaxis.set_ticks_position('none')\n",
    "\n",
    "plt.savefig('temp_impactscore.png')"
   ]
  }
 ],
 "metadata": {
  "kernelspec": {
   "display_name": "Python [conda env:insight]",
   "language": "python",
   "name": "conda-env-insight-py"
  },
  "language_info": {
   "codemirror_mode": {
    "name": "ipython",
    "version": 2
   },
   "file_extension": ".py",
   "mimetype": "text/x-python",
   "name": "python",
   "nbconvert_exporter": "python",
   "pygments_lexer": "ipython2",
   "version": "2.7.13"
  }
 },
 "nbformat": 4,
 "nbformat_minor": 2
}
