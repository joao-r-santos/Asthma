{
 "cells": [
  {
   "cell_type": "markdown",
   "metadata": {},
   "source": [
    "# Calculate the rank of each county for each feature"
   ]
  },
  {
   "cell_type": "code",
   "execution_count": 1,
   "metadata": {
    "collapsed": true
   },
   "outputs": [],
   "source": [
    "import pandas as pd\n",
    "import numpy as np"
   ]
  },
  {
   "cell_type": "markdown",
   "metadata": {},
   "source": [
    "Read data"
   ]
  },
  {
   "cell_type": "code",
   "execution_count": 20,
   "metadata": {
    "collapsed": false
   },
   "outputs": [
    {
     "data": {
      "text/html": [
       "<div>\n",
       "<table border=\"1\" class=\"dataframe\">\n",
       "  <thead>\n",
       "    <tr style=\"text-align: right;\">\n",
       "      <th></th>\n",
       "      <th>County</th>\n",
       "      <th>FIPS</th>\n",
       "      <th>AQI Median</th>\n",
       "      <th>O3 AQI</th>\n",
       "      <th>PM2.5 AQI</th>\n",
       "      <th>Population near busy roads (%)</th>\n",
       "      <th>Area burned percent</th>\n",
       "    </tr>\n",
       "  </thead>\n",
       "  <tbody>\n",
       "    <tr>\n",
       "      <th>0</th>\n",
       "      <td>Alameda</td>\n",
       "      <td>06001</td>\n",
       "      <td>43.0</td>\n",
       "      <td>0.416438</td>\n",
       "      <td>0.506849</td>\n",
       "      <td>71.7</td>\n",
       "      <td>0.027486</td>\n",
       "    </tr>\n",
       "    <tr>\n",
       "      <th>1</th>\n",
       "      <td>Amador</td>\n",
       "      <td>06005</td>\n",
       "      <td>42.0</td>\n",
       "      <td>1.000000</td>\n",
       "      <td>0.000000</td>\n",
       "      <td>6.8</td>\n",
       "      <td>0.047040</td>\n",
       "    </tr>\n",
       "    <tr>\n",
       "      <th>2</th>\n",
       "      <td>Butte</td>\n",
       "      <td>06007</td>\n",
       "      <td>52.0</td>\n",
       "      <td>0.624658</td>\n",
       "      <td>0.375342</td>\n",
       "      <td>31.2</td>\n",
       "      <td>0.053374</td>\n",
       "    </tr>\n",
       "    <tr>\n",
       "      <th>3</th>\n",
       "      <td>Calaveras</td>\n",
       "      <td>06009</td>\n",
       "      <td>44.0</td>\n",
       "      <td>0.756233</td>\n",
       "      <td>0.243767</td>\n",
       "      <td>3.4</td>\n",
       "      <td>0.049325</td>\n",
       "    </tr>\n",
       "    <tr>\n",
       "      <th>4</th>\n",
       "      <td>Colusa</td>\n",
       "      <td>06011</td>\n",
       "      <td>44.0</td>\n",
       "      <td>0.410959</td>\n",
       "      <td>0.586301</td>\n",
       "      <td>10.0</td>\n",
       "      <td>0.002173</td>\n",
       "    </tr>\n",
       "  </tbody>\n",
       "</table>\n",
       "</div>"
      ],
      "text/plain": [
       "      County   FIPS  AQI Median    O3 AQI  PM2.5 AQI  \\\n",
       "0    Alameda  06001        43.0  0.416438   0.506849   \n",
       "1     Amador  06005        42.0  1.000000   0.000000   \n",
       "2      Butte  06007        52.0  0.624658   0.375342   \n",
       "3  Calaveras  06009        44.0  0.756233   0.243767   \n",
       "4     Colusa  06011        44.0  0.410959   0.586301   \n",
       "\n",
       "   Population near busy roads (%)  Area burned percent  \n",
       "0                            71.7             0.027486  \n",
       "1                             6.8             0.047040  \n",
       "2                            31.2             0.053374  \n",
       "3                             3.4             0.049325  \n",
       "4                            10.0             0.002173  "
      ]
     },
     "execution_count": 20,
     "metadata": {},
     "output_type": "execute_result"
    }
   ],
   "source": [
    "feats_df= pd.read_csv('temp4rank.csv', dtype={'FIPS':np.str})\n",
    "feats_df.head()"
   ]
  },
  {
   "cell_type": "code",
   "execution_count": 21,
   "metadata": {
    "collapsed": false
   },
   "outputs": [
    {
     "name": "stdout",
     "output_type": "stream",
     "text": [
      "['AQI Median', 'O3 AQI', 'PM2.5 AQI', 'Population near busy roads (%)', 'Area burned percent']\n"
     ]
    }
   ],
   "source": [
    "header= feats_df.columns[2:].tolist()\n",
    "print header"
   ]
  },
  {
   "cell_type": "code",
   "execution_count": 22,
   "metadata": {
    "collapsed": false
   },
   "outputs": [
    {
     "data": {
      "text/html": [
       "<div>\n",
       "<table border=\"1\" class=\"dataframe\">\n",
       "  <thead>\n",
       "    <tr style=\"text-align: right;\">\n",
       "      <th></th>\n",
       "      <th>AQI Median</th>\n",
       "      <th>O3 AQI</th>\n",
       "      <th>PM2.5 AQI</th>\n",
       "      <th>Population near busy roads (%)</th>\n",
       "      <th>Area burned percent</th>\n",
       "    </tr>\n",
       "  </thead>\n",
       "  <tbody>\n",
       "    <tr>\n",
       "      <th>0</th>\n",
       "      <td>68.478261</td>\n",
       "      <td>84.782609</td>\n",
       "      <td>21.739130</td>\n",
       "      <td>8.695652</td>\n",
       "      <td>39.130435</td>\n",
       "    </tr>\n",
       "    <tr>\n",
       "      <th>1</th>\n",
       "      <td>75.000000</td>\n",
       "      <td>3.260870</td>\n",
       "      <td>98.913043</td>\n",
       "      <td>97.826087</td>\n",
       "      <td>23.913043</td>\n",
       "    </tr>\n",
       "    <tr>\n",
       "      <th>2</th>\n",
       "      <td>38.043478</td>\n",
       "      <td>45.652174</td>\n",
       "      <td>43.478261</td>\n",
       "      <td>58.695652</td>\n",
       "      <td>17.391304</td>\n",
       "    </tr>\n",
       "    <tr>\n",
       "      <th>3</th>\n",
       "      <td>60.869565</td>\n",
       "      <td>21.739130</td>\n",
       "      <td>78.260870</td>\n",
       "      <td>100.000000</td>\n",
       "      <td>21.739130</td>\n",
       "    </tr>\n",
       "    <tr>\n",
       "      <th>4</th>\n",
       "      <td>60.869565</td>\n",
       "      <td>86.956522</td>\n",
       "      <td>10.869565</td>\n",
       "      <td>93.478261</td>\n",
       "      <td>76.086957</td>\n",
       "    </tr>\n",
       "  </tbody>\n",
       "</table>\n",
       "</div>"
      ],
      "text/plain": [
       "   AQI Median     O3 AQI  PM2.5 AQI  Population near busy roads (%)  \\\n",
       "0   68.478261  84.782609  21.739130                        8.695652   \n",
       "1   75.000000   3.260870  98.913043                       97.826087   \n",
       "2   38.043478  45.652174  43.478261                       58.695652   \n",
       "3   60.869565  21.739130  78.260870                      100.000000   \n",
       "4   60.869565  86.956522  10.869565                       93.478261   \n",
       "\n",
       "   Area burned percent  \n",
       "0            39.130435  \n",
       "1            23.913043  \n",
       "2            17.391304  \n",
       "3            21.739130  \n",
       "4            76.086957  "
      ]
     },
     "execution_count": 22,
     "metadata": {},
     "output_type": "execute_result"
    }
   ],
   "source": [
    "temp_df= 100.*feats_df.loc[:,header].rank(pct=True, ascending=False)\n",
    "temp_df.head()"
   ]
  },
  {
   "cell_type": "code",
   "execution_count": 23,
   "metadata": {
    "collapsed": false
   },
   "outputs": [
    {
     "data": {
      "text/html": [
       "<div>\n",
       "<table border=\"1\" class=\"dataframe\">\n",
       "  <thead>\n",
       "    <tr style=\"text-align: right;\">\n",
       "      <th></th>\n",
       "      <th>County</th>\n",
       "      <th>FIPS</th>\n",
       "      <th>AQI Median</th>\n",
       "      <th>O3 AQI</th>\n",
       "      <th>PM2.5 AQI</th>\n",
       "      <th>Population near busy roads (%)</th>\n",
       "      <th>Area burned percent</th>\n",
       "    </tr>\n",
       "  </thead>\n",
       "  <tbody>\n",
       "    <tr>\n",
       "      <th>0</th>\n",
       "      <td>Alameda</td>\n",
       "      <td>06001</td>\n",
       "      <td>68.478261</td>\n",
       "      <td>84.782609</td>\n",
       "      <td>21.739130</td>\n",
       "      <td>8.695652</td>\n",
       "      <td>39.130435</td>\n",
       "    </tr>\n",
       "    <tr>\n",
       "      <th>1</th>\n",
       "      <td>Amador</td>\n",
       "      <td>06005</td>\n",
       "      <td>75.000000</td>\n",
       "      <td>3.260870</td>\n",
       "      <td>98.913043</td>\n",
       "      <td>97.826087</td>\n",
       "      <td>23.913043</td>\n",
       "    </tr>\n",
       "    <tr>\n",
       "      <th>2</th>\n",
       "      <td>Butte</td>\n",
       "      <td>06007</td>\n",
       "      <td>38.043478</td>\n",
       "      <td>45.652174</td>\n",
       "      <td>43.478261</td>\n",
       "      <td>58.695652</td>\n",
       "      <td>17.391304</td>\n",
       "    </tr>\n",
       "    <tr>\n",
       "      <th>3</th>\n",
       "      <td>Calaveras</td>\n",
       "      <td>06009</td>\n",
       "      <td>60.869565</td>\n",
       "      <td>21.739130</td>\n",
       "      <td>78.260870</td>\n",
       "      <td>100.000000</td>\n",
       "      <td>21.739130</td>\n",
       "    </tr>\n",
       "    <tr>\n",
       "      <th>4</th>\n",
       "      <td>Colusa</td>\n",
       "      <td>06011</td>\n",
       "      <td>60.869565</td>\n",
       "      <td>86.956522</td>\n",
       "      <td>10.869565</td>\n",
       "      <td>93.478261</td>\n",
       "      <td>76.086957</td>\n",
       "    </tr>\n",
       "  </tbody>\n",
       "</table>\n",
       "</div>"
      ],
      "text/plain": [
       "      County   FIPS  AQI Median     O3 AQI  PM2.5 AQI  \\\n",
       "0    Alameda  06001   68.478261  84.782609  21.739130   \n",
       "1     Amador  06005   75.000000   3.260870  98.913043   \n",
       "2      Butte  06007   38.043478  45.652174  43.478261   \n",
       "3  Calaveras  06009   60.869565  21.739130  78.260870   \n",
       "4     Colusa  06011   60.869565  86.956522  10.869565   \n",
       "\n",
       "   Population near busy roads (%)  Area burned percent  \n",
       "0                        8.695652            39.130435  \n",
       "1                       97.826087            23.913043  \n",
       "2                       58.695652            17.391304  \n",
       "3                      100.000000            21.739130  \n",
       "4                       93.478261            76.086957  "
      ]
     },
     "execution_count": 23,
     "metadata": {},
     "output_type": "execute_result"
    }
   ],
   "source": [
    "ranks_df= pd.concat([feats_df.iloc[:,[0,1]],temp_df],axis=1)\n",
    "ranks_df.head()"
   ]
  },
  {
   "cell_type": "code",
   "execution_count": 24,
   "metadata": {
    "collapsed": false
   },
   "outputs": [],
   "source": [
    "ranks_df.to_csv('temp_ranks_2014.csv',index=False,header=True)"
   ]
  }
 ],
 "metadata": {
  "kernelspec": {
   "display_name": "Python [conda env:insight]",
   "language": "python",
   "name": "conda-env-insight-py"
  },
  "language_info": {
   "codemirror_mode": {
    "name": "ipython",
    "version": 2
   },
   "file_extension": ".py",
   "mimetype": "text/x-python",
   "name": "python",
   "nbconvert_exporter": "python",
   "pygments_lexer": "ipython2",
   "version": "2.7.13"
  }
 },
 "nbformat": 4,
 "nbformat_minor": 2
}
