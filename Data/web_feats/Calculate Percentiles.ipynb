{
 "cells": [
  {
   "cell_type": "markdown",
   "metadata": {},
   "source": [
    "# Calculate the rank of each county for each feature and for each subset of the population"
   ]
  },
  {
   "cell_type": "code",
   "execution_count": 1,
   "metadata": {
    "collapsed": true
   },
   "outputs": [],
   "source": [
    "import pandas as pd\n",
    "import numpy as np"
   ]
  },
  {
   "cell_type": "markdown",
   "metadata": {},
   "source": [
    "Read data"
   ]
  },
  {
   "cell_type": "code",
   "execution_count": 2,
   "metadata": {
    "collapsed": false
   },
   "outputs": [
    {
     "data": {
      "text/html": [
       "<div>\n",
       "<table border=\"1\" class=\"dataframe\">\n",
       "  <thead>\n",
       "    <tr style=\"text-align: right;\">\n",
       "      <th></th>\n",
       "      <th>County</th>\n",
       "      <th>Year</th>\n",
       "      <th>Age (&lt;4YO)</th>\n",
       "      <th>Gender (M)</th>\n",
       "      <th>White</th>\n",
       "      <th>African</th>\n",
       "      <th>Asian</th>\n",
       "      <th>Hispanic</th>\n",
       "      <th>Other</th>\n",
       "      <th>Rate (per 10k)</th>\n",
       "      <th>Rate predict</th>\n",
       "    </tr>\n",
       "  </thead>\n",
       "  <tbody>\n",
       "    <tr>\n",
       "      <th>0</th>\n",
       "      <td>Alameda</td>\n",
       "      <td>2014</td>\n",
       "      <td>1</td>\n",
       "      <td>0</td>\n",
       "      <td>0</td>\n",
       "      <td>1</td>\n",
       "      <td>0</td>\n",
       "      <td>0</td>\n",
       "      <td>0</td>\n",
       "      <td>329.94</td>\n",
       "      <td>299.221778</td>\n",
       "    </tr>\n",
       "    <tr>\n",
       "      <th>1</th>\n",
       "      <td>Alameda</td>\n",
       "      <td>2014</td>\n",
       "      <td>1</td>\n",
       "      <td>1</td>\n",
       "      <td>0</td>\n",
       "      <td>1</td>\n",
       "      <td>0</td>\n",
       "      <td>0</td>\n",
       "      <td>0</td>\n",
       "      <td>596.67</td>\n",
       "      <td>618.332822</td>\n",
       "    </tr>\n",
       "    <tr>\n",
       "      <th>2</th>\n",
       "      <td>Alameda</td>\n",
       "      <td>2014</td>\n",
       "      <td>0</td>\n",
       "      <td>0</td>\n",
       "      <td>0</td>\n",
       "      <td>1</td>\n",
       "      <td>0</td>\n",
       "      <td>0</td>\n",
       "      <td>0</td>\n",
       "      <td>223.52</td>\n",
       "      <td>225.082222</td>\n",
       "    </tr>\n",
       "    <tr>\n",
       "      <th>3</th>\n",
       "      <td>Alameda</td>\n",
       "      <td>2014</td>\n",
       "      <td>0</td>\n",
       "      <td>1</td>\n",
       "      <td>0</td>\n",
       "      <td>1</td>\n",
       "      <td>0</td>\n",
       "      <td>0</td>\n",
       "      <td>0</td>\n",
       "      <td>304.49</td>\n",
       "      <td>254.442056</td>\n",
       "    </tr>\n",
       "    <tr>\n",
       "      <th>4</th>\n",
       "      <td>Alameda</td>\n",
       "      <td>2014</td>\n",
       "      <td>1</td>\n",
       "      <td>0</td>\n",
       "      <td>0</td>\n",
       "      <td>0</td>\n",
       "      <td>1</td>\n",
       "      <td>0</td>\n",
       "      <td>0</td>\n",
       "      <td>39.63</td>\n",
       "      <td>39.203222</td>\n",
       "    </tr>\n",
       "  </tbody>\n",
       "</table>\n",
       "</div>"
      ],
      "text/plain": [
       "    County  Year  Age (<4YO)  Gender (M)  White  African  Asian  Hispanic  \\\n",
       "0  Alameda  2014           1           0      0        1      0         0   \n",
       "1  Alameda  2014           1           1      0        1      0         0   \n",
       "2  Alameda  2014           0           0      0        1      0         0   \n",
       "3  Alameda  2014           0           1      0        1      0         0   \n",
       "4  Alameda  2014           1           0      0        0      1         0   \n",
       "\n",
       "   Other  Rate (per 10k)  Rate predict  \n",
       "0      0          329.94    299.221778  \n",
       "1      0          596.67    618.332822  \n",
       "2      0          223.52    225.082222  \n",
       "3      0          304.49    254.442056  \n",
       "4      0           39.63     39.203222  "
      ]
     },
     "execution_count": 2,
     "metadata": {},
     "output_type": "execute_result"
    }
   ],
   "source": [
    "county_info_df =pd.read_csv('index_2014.csv')\n",
    "county_info_df.head()"
   ]
  },
  {
   "cell_type": "code",
   "execution_count": 3,
   "metadata": {
    "collapsed": false
   },
   "outputs": [
    {
     "data": {
      "text/html": [
       "<div>\n",
       "<table border=\"1\" class=\"dataframe\">\n",
       "  <thead>\n",
       "    <tr style=\"text-align: right;\">\n",
       "      <th></th>\n",
       "      <th>Age (&lt;4YO)</th>\n",
       "      <th>Gender (M)</th>\n",
       "      <th>African</th>\n",
       "      <th>Other</th>\n",
       "      <th>AQI Median</th>\n",
       "      <th>O3 AQI</th>\n",
       "      <th>PM2.5 AQI</th>\n",
       "      <th>Population near busy roads (%)</th>\n",
       "      <th>Area burned percent</th>\n",
       "      <th>Private (%)</th>\n",
       "      <th>Other (%)</th>\n",
       "      <th>Median household income</th>\n",
       "    </tr>\n",
       "  </thead>\n",
       "  <tbody>\n",
       "    <tr>\n",
       "      <th>0</th>\n",
       "      <td>1</td>\n",
       "      <td>0</td>\n",
       "      <td>1</td>\n",
       "      <td>0</td>\n",
       "      <td>43.0</td>\n",
       "      <td>0.416438</td>\n",
       "      <td>0.506849</td>\n",
       "      <td>71.7</td>\n",
       "      <td>0.027486</td>\n",
       "      <td>23.22</td>\n",
       "      <td>14.9</td>\n",
       "      <td>75619</td>\n",
       "    </tr>\n",
       "    <tr>\n",
       "      <th>1</th>\n",
       "      <td>1</td>\n",
       "      <td>1</td>\n",
       "      <td>1</td>\n",
       "      <td>0</td>\n",
       "      <td>43.0</td>\n",
       "      <td>0.416438</td>\n",
       "      <td>0.506849</td>\n",
       "      <td>71.7</td>\n",
       "      <td>0.027486</td>\n",
       "      <td>23.22</td>\n",
       "      <td>14.9</td>\n",
       "      <td>75619</td>\n",
       "    </tr>\n",
       "    <tr>\n",
       "      <th>2</th>\n",
       "      <td>0</td>\n",
       "      <td>0</td>\n",
       "      <td>1</td>\n",
       "      <td>0</td>\n",
       "      <td>43.0</td>\n",
       "      <td>0.416438</td>\n",
       "      <td>0.506849</td>\n",
       "      <td>71.7</td>\n",
       "      <td>0.027486</td>\n",
       "      <td>23.22</td>\n",
       "      <td>14.9</td>\n",
       "      <td>75619</td>\n",
       "    </tr>\n",
       "    <tr>\n",
       "      <th>3</th>\n",
       "      <td>0</td>\n",
       "      <td>1</td>\n",
       "      <td>1</td>\n",
       "      <td>0</td>\n",
       "      <td>43.0</td>\n",
       "      <td>0.416438</td>\n",
       "      <td>0.506849</td>\n",
       "      <td>71.7</td>\n",
       "      <td>0.027486</td>\n",
       "      <td>23.22</td>\n",
       "      <td>14.9</td>\n",
       "      <td>75619</td>\n",
       "    </tr>\n",
       "    <tr>\n",
       "      <th>4</th>\n",
       "      <td>1</td>\n",
       "      <td>0</td>\n",
       "      <td>0</td>\n",
       "      <td>0</td>\n",
       "      <td>43.0</td>\n",
       "      <td>0.416438</td>\n",
       "      <td>0.506849</td>\n",
       "      <td>71.7</td>\n",
       "      <td>0.027486</td>\n",
       "      <td>23.22</td>\n",
       "      <td>14.9</td>\n",
       "      <td>75619</td>\n",
       "    </tr>\n",
       "  </tbody>\n",
       "</table>\n",
       "</div>"
      ],
      "text/plain": [
       "   Age (<4YO)  Gender (M)  African  Other  AQI Median    O3 AQI  PM2.5 AQI  \\\n",
       "0           1           0        1      0        43.0  0.416438   0.506849   \n",
       "1           1           1        1      0        43.0  0.416438   0.506849   \n",
       "2           0           0        1      0        43.0  0.416438   0.506849   \n",
       "3           0           1        1      0        43.0  0.416438   0.506849   \n",
       "4           1           0        0      0        43.0  0.416438   0.506849   \n",
       "\n",
       "   Population near busy roads (%)  Area burned percent  Private (%)  \\\n",
       "0                            71.7             0.027486        23.22   \n",
       "1                            71.7             0.027486        23.22   \n",
       "2                            71.7             0.027486        23.22   \n",
       "3                            71.7             0.027486        23.22   \n",
       "4                            71.7             0.027486        23.22   \n",
       "\n",
       "   Other (%)  Median household income  \n",
       "0       14.9                    75619  \n",
       "1       14.9                    75619  \n",
       "2       14.9                    75619  \n",
       "3       14.9                    75619  \n",
       "4       14.9                    75619  "
      ]
     },
     "execution_count": 3,
     "metadata": {},
     "output_type": "execute_result"
    }
   ],
   "source": [
    "feats_df= pd.read_csv('feats_2014.csv')\n",
    "feats_df.head()"
   ]
  },
  {
   "cell_type": "code",
   "execution_count": 4,
   "metadata": {
    "collapsed": false
   },
   "outputs": [
    {
     "name": "stdout",
     "output_type": "stream",
     "text": [
      "['AQI Median', 'O3 AQI', 'PM2.5 AQI', 'Population near busy roads (%)', 'Area burned percent']\n"
     ]
    }
   ],
   "source": [
    "fin= open('impactscore_2014.csv','r')\n",
    "line= fin.readline()\n",
    "fin.close()\n",
    "header= line.strip().split(',')\n",
    "\n",
    "print header"
   ]
  },
  {
   "cell_type": "markdown",
   "metadata": {},
   "source": [
    "### Filter through each subset of the population"
   ]
  },
  {
   "cell_type": "code",
   "execution_count": 5,
   "metadata": {
    "collapsed": true
   },
   "outputs": [],
   "source": [
    "df= pd.DataFrame()"
   ]
  },
  {
   "cell_type": "code",
   "execution_count": 6,
   "metadata": {
    "collapsed": true
   },
   "outputs": [],
   "source": [
    "# White population\n",
    "for age in [0,1]:\n",
    "    for gender in [0,1]:\n",
    "        vals= [age,gender,1,0,0,0,0]\n",
    "        inds= (county_info_df.iloc[:,2]==vals[0]) & (county_info_df.iloc[:,3]==vals[1]) & (county_info_df.iloc[:,4]==vals[2]) & (county_info_df.iloc[:,5]==vals[3]) & (county_info_df.iloc[:,6]==vals[4]) & (county_info_df.iloc[:,7]==vals[5]) & (county_info_df.iloc[:,8]==vals[6])\n",
    "        tmp_df= pd.concat([county_info_df.loc[inds], 100.*feats_df.loc[inds,header].rank(pct=True, ascending=False)], axis=1)\n",
    "        df= pd.concat([df,tmp_df])"
   ]
  },
  {
   "cell_type": "code",
   "execution_count": 7,
   "metadata": {
    "collapsed": false
   },
   "outputs": [],
   "source": [
    "# Compare with actual values\n",
    "# vals= [0,0,1,0,0,0,0]\n",
    "# inds= (county_info_df.iloc[:,2]==vals[0]) & (county_info_df.iloc[:,3]==vals[1]) & (county_info_df.iloc[:,4]==vals[2]) & (county_info_df.iloc[:,5]==vals[3]) & (county_info_df.iloc[:,6]==vals[4]) & (county_info_df.iloc[:,7]==vals[5]) & (county_info_df.iloc[:,8]==vals[6])\n",
    "# df_aux= pd.concat([county_info_df.loc[inds], feats_df.loc[inds,header]], axis=1)"
   ]
  },
  {
   "cell_type": "code",
   "execution_count": 8,
   "metadata": {
    "collapsed": true
   },
   "outputs": [],
   "source": [
    "# African population\n",
    "for age in [0,1]:\n",
    "    for gender in [0,1]:\n",
    "        vals= [age,gender,0,1,0,0,0]\n",
    "        inds= (county_info_df.iloc[:,2]==vals[0]) & (county_info_df.iloc[:,3]==vals[1]) & (county_info_df.iloc[:,4]==vals[2]) & (county_info_df.iloc[:,5]==vals[3]) & (county_info_df.iloc[:,6]==vals[4]) & (county_info_df.iloc[:,7]==vals[5]) & (county_info_df.iloc[:,8]==vals[6])\n",
    "        tmp_df= pd.concat([county_info_df.loc[inds], 100.*feats_df.loc[inds,header].rank(pct=True, ascending=False)], axis=1)\n",
    "        df= pd.concat([df,tmp_df])"
   ]
  },
  {
   "cell_type": "code",
   "execution_count": 9,
   "metadata": {
    "collapsed": true
   },
   "outputs": [],
   "source": [
    "# Asian population\n",
    "for age in [0,1]:\n",
    "    for gender in [0,1]:\n",
    "        vals= [age,gender,0,0,1,0,0]\n",
    "        inds= (county_info_df.iloc[:,2]==vals[0]) & (county_info_df.iloc[:,3]==vals[1]) & (county_info_df.iloc[:,4]==vals[2]) & (county_info_df.iloc[:,5]==vals[3]) & (county_info_df.iloc[:,6]==vals[4]) & (county_info_df.iloc[:,7]==vals[5]) & (county_info_df.iloc[:,8]==vals[6])\n",
    "        tmp_df= pd.concat([county_info_df.loc[inds], 100.*feats_df.loc[inds,header].rank(pct=True, ascending=False)], axis=1)\n",
    "        df= pd.concat([df,tmp_df])"
   ]
  },
  {
   "cell_type": "code",
   "execution_count": 10,
   "metadata": {
    "collapsed": true
   },
   "outputs": [],
   "source": [
    "# Hispanic population\n",
    "for age in [0,1]:\n",
    "    for gender in [0,1]:\n",
    "        vals= [age,gender,0,0,0,1,0]\n",
    "        inds= (county_info_df.iloc[:,2]==vals[0]) & (county_info_df.iloc[:,3]==vals[1]) & (county_info_df.iloc[:,4]==vals[2]) & (county_info_df.iloc[:,5]==vals[3]) & (county_info_df.iloc[:,6]==vals[4]) & (county_info_df.iloc[:,7]==vals[5]) & (county_info_df.iloc[:,8]==vals[6])\n",
    "        tmp_df= pd.concat([county_info_df.loc[inds], 100.*feats_df.loc[inds,header].rank(pct=True, ascending=False)], axis=1)\n",
    "        df= pd.concat([df,tmp_df])"
   ]
  },
  {
   "cell_type": "code",
   "execution_count": 11,
   "metadata": {
    "collapsed": true
   },
   "outputs": [],
   "source": [
    "# Other population\n",
    "for age in [0,1]:\n",
    "    for gender in [0,1]:\n",
    "        vals= [age,gender,0,0,0,0,1]\n",
    "        inds= (county_info_df.iloc[:,2]==vals[0]) & (county_info_df.iloc[:,3]==vals[1]) & (county_info_df.iloc[:,4]==vals[2]) & (county_info_df.iloc[:,5]==vals[3]) & (county_info_df.iloc[:,6]==vals[4]) & (county_info_df.iloc[:,7]==vals[5]) & (county_info_df.iloc[:,8]==vals[6])\n",
    "        tmp_df= pd.concat([county_info_df.loc[inds], 100.*feats_df.loc[inds,header].rank(pct=True, ascending=False)], axis=1)\n",
    "        df= pd.concat([df,tmp_df])"
   ]
  },
  {
   "cell_type": "markdown",
   "metadata": {},
   "source": [
    "Sort through index values and get only the header columns"
   ]
  },
  {
   "cell_type": "code",
   "execution_count": 12,
   "metadata": {
    "collapsed": false
   },
   "outputs": [],
   "source": [
    "df.sort_index(inplace=True)\n",
    "df= df.loc[:,header]"
   ]
  },
  {
   "cell_type": "code",
   "execution_count": 13,
   "metadata": {
    "collapsed": false
   },
   "outputs": [],
   "source": [
    "df.to_csv('temp_ranks_2014.csv',index=False,header=True)"
   ]
  }
 ],
 "metadata": {
  "kernelspec": {
   "display_name": "Python [conda env:insight]",
   "language": "python",
   "name": "conda-env-insight-py"
  },
  "language_info": {
   "codemirror_mode": {
    "name": "ipython",
    "version": 2
   },
   "file_extension": ".py",
   "mimetype": "text/x-python",
   "name": "python",
   "nbconvert_exporter": "python",
   "pygments_lexer": "ipython2",
   "version": "2.7.13"
  }
 },
 "nbformat": 4,
 "nbformat_minor": 2
}
