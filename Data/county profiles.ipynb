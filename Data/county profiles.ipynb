{
 "cells": [
  {
   "cell_type": "markdown",
   "metadata": {},
   "source": [
    "# Getting the data relative to the county profiles in California"
   ]
  },
  {
   "cell_type": "markdown",
   "metadata": {},
   "source": [
    "Get the county asthma profile together with demographics data from all counties in California, as shown in http://www.californiabreathing.org/asthma-data/county-asthma-profiles\n",
    "\n",
    "Adapted from https://github.com/gkafka/Rehab4Rehab/blob/master/GetDataRehabCenters.ipynb"
   ]
  },
  {
   "cell_type": "code",
   "execution_count": 21,
   "metadata": {
    "collapsed": true
   },
   "outputs": [],
   "source": [
    "%matplotlib inline\n",
    "\n",
    "# Web scrapping\n",
    "import requests\n",
    "from bs4 import BeautifulSoup\n",
    "\n",
    "# Data handling\n",
    "import pandas as pd\n",
    "import numpy as np\n",
    "# import scipy as sp\n",
    "\n",
    "# Graphing capabilities\n",
    "import matplotlib.pyplot as plt\n",
    "# import seaborn as sns\n",
    "\n",
    "import json\n",
    "# import matplotlib as mpl\n",
    "# import string\n",
    "import time"
   ]
  },
  {
   "cell_type": "markdown",
   "metadata": {},
   "source": [
    "### Get the list of counties and respective pages"
   ]
  },
  {
   "cell_type": "code",
   "execution_count": 2,
   "metadata": {
    "collapsed": true
   },
   "outputs": [],
   "source": [
    "url = 'http://www.californiabreathing.org/asthma-data/county-asthma-profiles'\n",
    "baseurl = 'http://www.californiabreathing.org'"
   ]
  },
  {
   "cell_type": "code",
   "execution_count": 3,
   "metadata": {
    "collapsed": false
   },
   "outputs": [
    {
     "name": "stdout",
     "output_type": "stream",
     "text": [
      "Successfully acquired page.\n"
     ]
    }
   ],
   "source": [
    "try:\n",
    "    response = requests.get(url)\n",
    "    print 'Successfully acquired page.'\n",
    "except:\n",
    "    print 'Failed to get url page.'"
   ]
  },
  {
   "cell_type": "code",
   "execution_count": 4,
   "metadata": {
    "collapsed": true
   },
   "outputs": [],
   "source": [
    "soup = BeautifulSoup(response.text, 'lxml')\n",
    "# soup = BeautifulSoup(response.text, \"html.parser\")"
   ]
  },
  {
   "cell_type": "code",
   "execution_count": 5,
   "metadata": {
    "collapsed": false
   },
   "outputs": [
    {
     "name": "stdout",
     "output_type": "stream",
     "text": [
      "Found 1 unordered list(s)\n"
     ]
    }
   ],
   "source": [
    "html_entries = soup.find_all('ul',attrs={'class': 'zoo-item-list zoo-list page-profiles'})\n",
    "print 'Found %d unordered list(s)' % len(html_entries)"
   ]
  },
  {
   "cell_type": "code",
   "execution_count": 6,
   "metadata": {
    "collapsed": false
   },
   "outputs": [
    {
     "name": "stdout",
     "output_type": "stream",
     "text": [
      "Found 58 county entries\n"
     ]
    }
   ],
   "source": [
    "county_entries = html_entries[0].find_all('li')\n",
    "N_counties = len(county_entries)\n",
    "print 'Found %d county entries' % len(county_entries)"
   ]
  },
  {
   "cell_type": "markdown",
   "metadata": {},
   "source": [
    "Find all counties and respective web pages"
   ]
  },
  {
   "cell_type": "code",
   "execution_count": 7,
   "metadata": {
    "collapsed": false
   },
   "outputs": [],
   "source": [
    "county_name= []\n",
    "county_url= []\n",
    "\n",
    "for entry in county_entries:\n",
    "    county_link= entry.find_all('a')[0]\n",
    "    county_url.append( county_link.get('href').strip() )\n",
    "    county_name.append( county_link.get('title').strip().title() )   # strip all spaces of the title and make only the first letter capitalized"
   ]
  },
  {
   "cell_type": "code",
   "execution_count": 8,
   "metadata": {
    "collapsed": false
   },
   "outputs": [
    {
     "name": "stdout",
     "output_type": "stream",
     "text": [
      "Alameda   http://www.californiabreathing.org/asthma-data/county-asthma-profiles/alameda-county-asthma-profile\n",
      "Alpine   http://www.californiabreathing.org/asthma-data/county-asthma-profiles/alpine-county-asthma-profile\n",
      "Amador   http://www.californiabreathing.org/asthma-data/county-asthma-profiles/amador-county-asthma-profile\n",
      "Butte   http://www.californiabreathing.org/asthma-data/county-asthma-profiles/butte-county-asthma-profile\n",
      "Calaveras   http://www.californiabreathing.org/asthma-data/county-asthma-profiles/calaveras-county-asthma-profile\n",
      "Colusa   http://www.californiabreathing.org/asthma-data/county-asthma-profiles/colusa-county-asthma-profile\n",
      "Contra Costa   http://www.californiabreathing.org/asthma-data/county-asthma-profiles/contra-costa-county-asthma-profile\n",
      "Del Norte   http://www.californiabreathing.org/asthma-data/county-asthma-profiles/del-norte-county-asthma-profile\n",
      "El Dorado   http://www.californiabreathing.org/asthma-data/county-asthma-profiles/el-dorado-county-asthma-profile\n",
      "Fresno   http://www.californiabreathing.org/asthma-data/county-asthma-profiles/fresno-county-asthma-profile\n",
      "Glenn   http://www.californiabreathing.org/asthma-data/county-asthma-profiles/glenn-county-asthma-profile\n",
      "Humboldt   http://www.californiabreathing.org/asthma-data/county-asthma-profiles/humboldt-county-asthma-profile\n",
      "Imperial   http://www.californiabreathing.org/asthma-data/county-asthma-profiles/imperial-county-asthma-profile\n",
      "Inyo   http://www.californiabreathing.org/asthma-data/county-asthma-profiles/inyo-county-asthma-profile\n",
      "Kern   http://www.californiabreathing.org/asthma-data/county-asthma-profiles/kern-county-asthma-profile\n",
      "Kings   http://www.californiabreathing.org/asthma-data/county-asthma-profiles/kings-county-asthma-profile\n",
      "Lake   http://www.californiabreathing.org/asthma-data/county-asthma-profiles/lake-county-asthma-profile\n",
      "Lassen   http://www.californiabreathing.org/asthma-data/county-asthma-profiles/lassen-county-asthma-profile\n",
      "Los Angeles   http://www.californiabreathing.org/asthma-data/county-asthma-profiles/los-angeles-county-asthma-profile\n",
      "Madera   http://www.californiabreathing.org/asthma-data/county-asthma-profiles/madera-county-asthma-profile\n",
      "Marin   http://www.californiabreathing.org/asthma-data/county-asthma-profiles/marin-county-asthma-profile\n",
      "Mariposa   http://www.californiabreathing.org/asthma-data/county-asthma-profiles/mariposa-county-asthma-profile\n",
      "Mendocino   http://www.californiabreathing.org/asthma-data/county-asthma-profiles/mendocino-county-asthma-profile\n",
      "Merced   http://www.californiabreathing.org/asthma-data/county-asthma-profiles/merced-county-asthma-profile\n",
      "Modoc   http://www.californiabreathing.org/asthma-data/county-asthma-profiles/modoc-county-asthma-profile\n",
      "Mono   http://www.californiabreathing.org/asthma-data/county-asthma-profiles/mono-county-asthma-profile\n",
      "Monterey   http://www.californiabreathing.org/asthma-data/county-asthma-profiles/monterey-county-asthma-profile\n",
      "Napa   http://www.californiabreathing.org/asthma-data/county-asthma-profiles/napa-county-asthma-profile\n",
      "Nevada   http://www.californiabreathing.org/asthma-data/county-asthma-profiles/nevada-county-asthma-profile\n",
      "Orange   http://www.californiabreathing.org/asthma-data/county-asthma-profiles/orange-county-asthma-profile\n",
      "Placer   http://www.californiabreathing.org/asthma-data/county-asthma-profiles/placer-county-asthma-profile\n",
      "Plumas   http://www.californiabreathing.org/asthma-data/county-asthma-profiles/plumas-county-asthma-profile\n",
      "Riverside   http://www.californiabreathing.org/asthma-data/county-asthma-profiles/riverside-county-asthma-profile\n",
      "Sacramento   http://www.californiabreathing.org/asthma-data/county-asthma-profiles/sacramento-county-asthma-profile\n",
      "San Benito   http://www.californiabreathing.org/asthma-data/county-asthma-profiles/san-benito-county-asthma-profile\n",
      "San Bernardino   http://www.californiabreathing.org/asthma-data/county-asthma-profiles/san-bernardino-county-asthma-profile\n",
      "San Diego   http://www.californiabreathing.org/asthma-data/county-asthma-profiles/san-diego-county-asthma-profile\n",
      "San Francisco   http://www.californiabreathing.org/asthma-data/county-asthma-profiles/san-francisco-county-asthma-profile\n",
      "San Joaquin   http://www.californiabreathing.org/asthma-data/county-asthma-profiles/san-joaquin-county-asthma-profile\n",
      "San Luis Obispo   http://www.californiabreathing.org/asthma-data/county-asthma-profiles/san-luis-obispo-county-asthma-profile\n",
      "San Mateo   http://www.californiabreathing.org/asthma-data/county-asthma-profiles/san-mateo-county-asthma-profile\n",
      "Santa Barbara   http://www.californiabreathing.org/asthma-data/county-asthma-profiles/santa-barbara-county-asthma-profile\n",
      "Santa Clara   http://www.californiabreathing.org/asthma-data/county-asthma-profiles/santa-clara-county-asthma-profile\n",
      "Santa Cruz   http://www.californiabreathing.org/asthma-data/county-asthma-profiles/santa-cruz-county-asthma-profile\n",
      "Shasta   http://www.californiabreathing.org/asthma-data/county-asthma-profiles/shasta-county-asthma-profile\n",
      "Sierra   http://www.californiabreathing.org/asthma-data/county-asthma-profiles/sierra-county-asthma-profile\n",
      "Siskiyou   http://www.californiabreathing.org/asthma-data/county-asthma-profiles/siskiyou-county-asthma-profile\n",
      "Solano   http://www.californiabreathing.org/asthma-data/county-asthma-profiles/solano-county-asthma-profile\n",
      "Sonoma   http://www.californiabreathing.org/asthma-data/county-asthma-profiles/sonoma-county-asthma-profile\n",
      "Stanislaus   http://www.californiabreathing.org/asthma-data/county-asthma-profiles/stanislaus-county-asthma-profile\n",
      "Sutter   http://www.californiabreathing.org/asthma-data/county-asthma-profiles/sutter-county-asthma-profile\n",
      "Tehama   http://www.californiabreathing.org/asthma-data/county-asthma-profiles/tehama-county-asthma-profile\n",
      "Trinity   http://www.californiabreathing.org/asthma-data/county-asthma-profiles/trinity-county-asthma-profile\n",
      "Tulare   http://www.californiabreathing.org/asthma-data/county-asthma-profiles/tulare-county-asthma-profile\n",
      "Tuolumne   http://www.californiabreathing.org/asthma-data/county-asthma-profiles/tuolumne-county-asthma-profile\n",
      "Ventura   http://www.californiabreathing.org/asthma-data/county-asthma-profiles/ventura-county-asthma-profile\n",
      "Yolo   http://www.californiabreathing.org/asthma-data/county-asthma-profiles/yolo-county-asthma-profile\n",
      "Yuba   http://www.californiabreathing.org/asthma-data/county-asthma-profiles/yuba-county-asthma-profile\n"
     ]
    }
   ],
   "source": [
    "for i in xrange(len(county_name)):\n",
    "    print '%s   %s%s' % (county_name[i].title(), baseurl, county_url[i])"
   ]
  },
  {
   "cell_type": "markdown",
   "metadata": {},
   "source": [
    "## Now we need to go to each county page and scrape the data"
   ]
  },
  {
   "cell_type": "markdown",
   "metadata": {},
   "source": [
    "### Get population data"
   ]
  },
  {
   "cell_type": "code",
   "execution_count": 29,
   "metadata": {
    "collapsed": true
   },
   "outputs": [],
   "source": [
    "population = {'header':[]}\n",
    "\n",
    "for i in xrange(N_counties):\n",
    "    print county_name[i]\n",
    "\n",
    "    try:\n",
    "        response = requests.get(baseurl+county_url[i])\n",
    "    except:\n",
    "        print 'Failed to get url page %s' % url+county_url[i]\n",
    "\n",
    "    soup = BeautifulSoup(response.text, 'lxml')\n",
    "\n",
    "    # Find all tables containing data in the web page\n",
    "    html_entries = soup.find_all('table',attrs={'class': 'datatable'})\n",
    "#     print 'Found %d tables' % len(html_entries)\n",
    "    table = html_entries[0]  # population data is in first table\n",
    "    try:\n",
    "        print 'ID:', table['id']\n",
    "    except:\n",
    "        pass    \n",
    "\n",
    "    rows = table.find_all('tr')\n",
    "\n",
    "    # Get the column names if you don't have them yet\n",
    "    if len(population['header']) == 0:  # still have no column names; get them\n",
    "#         print 'Column header:'\n",
    "        for j in xrange(1,len(rows)): # ignore first row: table header\n",
    "            row= rows[j]\n",
    "            col = row.find_all('th')[0]\n",
    "            column_name = 'population ' + col.get_text().lower()\n",
    "#             print column_name\n",
    "            population['header'].append( column_name )\n",
    "\n",
    "    # Get the data for each county\n",
    "    population[county_name[i]] = []\n",
    "    for j in xrange(1,len(rows)): # ignore first row: table header\n",
    "        row= rows[j]\n",
    "        col= row.find_all('td')[0] # get the first table value\n",
    "        val= eval(col.get_text().replace(',','')) # correct for all the thousands commas e.g., 10,000 to 10000\n",
    "        print '%s: %d' % (population['header'][j-1], val)\n",
    "        population[county_name[i]].append( val )\n",
    "\n",
    "    print ''"
   ]
  },
  {
   "cell_type": "markdown",
   "metadata": {},
   "source": [
    "### Get ethnicity data"
   ]
  },
  {
   "cell_type": "code",
   "execution_count": 29,
   "metadata": {
    "collapsed": true
   },
   "outputs": [],
   "source": [
    "population = {'header':[]}\n",
    "\n",
    "for i in xrange(N_counties):\n",
    "    print county_name[i]\n",
    "\n",
    "    try:\n",
    "        response = requests.get(baseurl+county_url[i])\n",
    "    except:\n",
    "        print 'Failed to get url page %s' % url+county_url[i]\n",
    "\n",
    "    soup = BeautifulSoup(response.text, 'lxml')\n",
    "\n",
    "    # Find all tables containing data in the web page\n",
    "    html_entries = soup.find_all('table',attrs={'class': 'datatable'})\n",
    "#     print 'Found %d tables' % len(html_entries)\n",
    "    table = html_entries[0]  # population data is in first table\n",
    "    try:\n",
    "        print 'ID:', table['id']\n",
    "    except:\n",
    "        pass    \n",
    "\n",
    "    rows = table.find_all('tr')\n",
    "\n",
    "    # Get the column names if you don't have them yet\n",
    "    if len(population['header']) == 0:  # still have no column names; get them\n",
    "#         print 'Column header:'\n",
    "        for j in xrange(1,len(rows)): # ignore first row: table header\n",
    "            row= rows[j]\n",
    "            col = row.find_all('th')[0]\n",
    "            column_name = 'population ' + col.get_text().lower()\n",
    "#             print column_name\n",
    "            population['header'].append( column_name )\n",
    "\n",
    "    # Get the data for each county\n",
    "    population[county_name[i]] = []\n",
    "    for j in xrange(1,len(rows)): # ignore first row: table header\n",
    "        row= rows[j]\n",
    "        col= row.find_all('td')[0] # get the first table value\n",
    "        val= eval(col.get_text().replace(',','')) # correct for all the thousands commas e.g., 10,000 to 10000\n",
    "        print '%s: %d' % (population['header'][j-1], val)\n",
    "        population[county_name[i]].append( val )\n",
    "\n",
    "    print ''"
   ]
  },
  {
   "cell_type": "code",
   "execution_count": null,
   "metadata": {
    "collapsed": true
   },
   "outputs": [],
   "source": []
  },
  {
   "cell_type": "code",
   "execution_count": null,
   "metadata": {
    "collapsed": true
   },
   "outputs": [],
   "source": []
  },
  {
   "cell_type": "code",
   "execution_count": null,
   "metadata": {
    "collapsed": true
   },
   "outputs": [],
   "source": []
  },
  {
   "cell_type": "code",
   "execution_count": null,
   "metadata": {
    "collapsed": true
   },
   "outputs": [],
   "source": []
  },
  {
   "cell_type": "code",
   "execution_count": null,
   "metadata": {
    "collapsed": true
   },
   "outputs": [],
   "source": []
  },
  {
   "cell_type": "code",
   "execution_count": 14,
   "metadata": {
    "collapsed": false
   },
   "outputs": [
    {
     "name": "stdout",
     "output_type": "stream",
     "text": [
      "population\n",
      "ethnicity\n",
      "prevalence\n",
      "prevalence\n",
      "riskfactors\n",
      "No id found\n",
      "No id found\n",
      "No id found\n",
      "numhospitalizations\n",
      "No id found\n",
      "No id found\n",
      "disparities\n",
      "hosprates\n",
      "hospitals\n",
      "edvisits\n"
     ]
    }
   ],
   "source": [
    "for t in html_entries:\n",
    "    try:\n",
    "        print t['id']\n",
    "    except:\n",
    "        print 'No id found'"
   ]
  },
  {
   "cell_type": "markdown",
   "metadata": {
    "collapsed": true
   },
   "source": [
    "Datas of interest are 0,1,4,..."
   ]
  }
 ],
 "metadata": {
  "kernelspec": {
   "display_name": "Python [conda env:insight]",
   "language": "python",
   "name": "conda-env-insight-py"
  },
  "language_info": {
   "codemirror_mode": {
    "name": "ipython",
    "version": 2
   },
   "file_extension": ".py",
   "mimetype": "text/x-python",
   "name": "python",
   "nbconvert_exporter": "python",
   "pygments_lexer": "ipython2",
   "version": "2.7.13"
  }
 },
 "nbformat": 4,
 "nbformat_minor": 2
}
