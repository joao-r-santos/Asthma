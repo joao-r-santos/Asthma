{
 "cells": [
  {
   "cell_type": "markdown",
   "metadata": {},
   "source": [
    "# Getting the list of counties in California and links to quick facts from wikipedia"
   ]
  },
  {
   "cell_type": "code",
   "execution_count": 1,
   "metadata": {
    "collapsed": true
   },
   "outputs": [],
   "source": [
    "%matplotlib inline\n",
    "\n",
    "# Web scrapping\n",
    "import requests\n",
    "from bs4 import BeautifulSoup\n",
    "\n",
    "# Data handling\n",
    "# import pandas as pd\n",
    "import numpy as np\n",
    "# import scipy as sp\n",
    "\n",
    "# Graphing capabilities\n",
    "import matplotlib.pyplot as plt\n",
    "# import seaborn as sns\n",
    "\n",
    "import json\n",
    "import pickle\n",
    "import time"
   ]
  },
  {
   "cell_type": "markdown",
   "metadata": {},
   "source": [
    "### Get the list of counties and respective links"
   ]
  },
  {
   "cell_type": "code",
   "execution_count": 2,
   "metadata": {
    "collapsed": true
   },
   "outputs": [],
   "source": [
    "url = 'https://en.wikipedia.org/wiki/List_of_counties_in_California'\n",
    "# baseurl = 'http://www.californiabreathing.org'"
   ]
  },
  {
   "cell_type": "code",
   "execution_count": 3,
   "metadata": {
    "collapsed": false
   },
   "outputs": [
    {
     "name": "stdout",
     "output_type": "stream",
     "text": [
      "Successfully acquired page.\n"
     ]
    }
   ],
   "source": [
    "try:\n",
    "    response = requests.get(url)\n",
    "    print 'Successfully acquired page.'\n",
    "except:\n",
    "    print 'Failed to get url page.'"
   ]
  },
  {
   "cell_type": "code",
   "execution_count": 4,
   "metadata": {
    "collapsed": true
   },
   "outputs": [],
   "source": [
    "soup = BeautifulSoup(response.text, 'lxml')\n",
    "# soup = BeautifulSoup(response.text, \"html.parser\")"
   ]
  },
  {
   "cell_type": "markdown",
   "metadata": {},
   "source": [
    "Find table with list of counties"
   ]
  },
  {
   "cell_type": "code",
   "execution_count": 24,
   "metadata": {
    "collapsed": false
   },
   "outputs": [
    {
     "name": "stdout",
     "output_type": "stream",
     "text": [
      "Found 1 table(s)\n"
     ]
    }
   ],
   "source": [
    "table= soup.find_all('table', attrs={'class':'wikitable sortable'})[0]\n",
    "print 'Found %d table(s)' % len(tables)"
   ]
  },
  {
   "cell_type": "markdown",
   "metadata": {},
   "source": [
    "Get headers"
   ]
  },
  {
   "cell_type": "code",
   "execution_count": 50,
   "metadata": {
    "collapsed": false
   },
   "outputs": [
    {
     "name": "stdout",
     "output_type": "stream",
     "text": [
      "0 -  County\n",
      "1 -  FIPS County Code\n",
      "[3]\n",
      "2 -  County seat\n",
      "[4]\n",
      "3 -  Established\n",
      "[4]\n",
      "4 -  Formed from\n",
      "5 -  Etymology\n",
      "[5]\n",
      "6 -  Population\n",
      "[6]\n",
      "7 -  Area\n",
      "[4]\n",
      "8 -  Map\n"
     ]
    }
   ],
   "source": [
    "ths= table.find_all('th')\n",
    "\n",
    "for i in xrange(len(ths)):\n",
    "    print '%d -  %s' %(i, ths[i].get_text())"
   ]
  },
  {
   "cell_type": "markdown",
   "metadata": {},
   "source": [
    "Choosing which columns we want"
   ]
  },
  {
   "cell_type": "code",
   "execution_count": 51,
   "metadata": {
    "collapsed": true
   },
   "outputs": [],
   "source": [
    "cols= [0,1,6,7]"
   ]
  },
  {
   "cell_type": "code",
   "execution_count": 56,
   "metadata": {
    "collapsed": false
   },
   "outputs": [
    {
     "name": "stdout",
     "output_type": "stream",
     "text": [
      "County\n",
      "FIPS County Code\n",
      "Population\n",
      "Area\n"
     ]
    }
   ],
   "source": [
    "header= []\n",
    "for col in cols:\n",
    "    header.append(ths[col].get_text().split('\\n')[0])\n",
    "    print header[-1]"
   ]
  },
  {
   "cell_type": "code",
   "execution_count": 130,
   "metadata": {
    "collapsed": false
   },
   "outputs": [
    {
     "name": "stdout",
     "output_type": "stream",
     "text": [
      "Found 58 rows\n"
     ]
    }
   ],
   "source": [
    "trs= table.find_all('tr')[1:]  # remove header row\n",
    "Nrows= len(trs)\n",
    "print 'Found %d rows' % Nrows"
   ]
  },
  {
   "cell_type": "code",
   "execution_count": 161,
   "metadata": {
    "collapsed": false
   },
   "outputs": [
    {
     "name": "stdout",
     "output_type": "stream",
     "text": [
      "[u'Alameda', u'06001', u'1638215', u'738']\n",
      "[u'Alpine', u'06003', u'1110', u'739']\n",
      "[u'Amador', u'06005', u'37001', u'606']\n",
      "[u'Butte', u'06007', u'225411', u'1640']\n",
      "[u'Calaveras', u'06009', u'44828', u'1020']\n",
      "[u'Colusa', u'06011', u'21482', u'1151']\n",
      "[u'Contra Costa', u'06013', u'1126745', u'720']\n",
      "[u'Del Norte', u'06015', u'27254', u'1008']\n",
      "[u'El Dorado', u'06017', u'184452', u'1712']\n",
      "[u'Fresno', u'06019', u'974861', u'5963']\n",
      "[u'Glenn', u'06021', u'28017', u'1315']\n",
      "[u'Humboldt', u'06023', u'135727', u'3573']\n",
      "[u'Imperial', u'06025', u'180191', u'4175']\n",
      "[u'Inyo', u'06027', u'18260', u'10192']\n",
      "[u'Kern', u'06029', u'882176', u'8142']\n",
      "[u'Kings', u'06031', u'150965', u'1390']\n",
      "[u'Lake', u'06033', u'64591', u'1258']\n",
      "[u'Lassen', u'06035', u'31345', u'4558']\n",
      "[u'Los Angeles', u'06037', u'10170292', u'4060']\n",
      "[u'Madera', u'06039', u'154998', u'2138']\n",
      "[u'Marin', u'06041', u'261221', u'520']\n",
      "[u'Mariposa', u'06043', u'17531', u'1451']\n",
      "[u'Mendocino', u'06045', u'87649', u'3509']\n",
      "[u'Merced', u'06047', u'268455', u'1929']\n",
      "[u'Modoc', u'06049', u'8965', u'3944']\n",
      "[u'Mono', u'06051', u'13909', u'3044']\n",
      "[u'Monterey', u'06053', u'433898', u'3322']\n",
      "[u'Napa', u'06055', u'142456', u'754']\n",
      "[u'Nevada', u'06057', u'98877', u'958']\n",
      "[u'Orange', u'06059', u'3169776', u'790']\n",
      "[u'Placer', u'06061', u'375391', u'1503']\n",
      "[u'Plumas', u'06063', u'18409', u'2554']\n",
      "[u'Riverside', u'06065', u'2361026', u'7208']\n",
      "[u'Sacramento', u'06067', u'1501335', u'966']\n",
      "[u'San Benito', u'06069', u'58792', u'1389']\n",
      "[u'San Bernardino', u'06071', u'2128133', u'20062']\n",
      "[u'San Diego', u'06073', u'3299521', u'4204']\n",
      "[u'City And', u'06075', u'864816', u'47']\n",
      "[u'San Joaquin', u'06077', u'726106', u'1399']\n",
      "[u'San Luis Obispo', u'06079', u'281401', u'3304']\n",
      "[u'San Mateo', u'06081', u'765135', u'449']\n",
      "[u'Santa Barbara', u'06083', u'444769', u'2738']\n",
      "[u'Santa Clara', u'06085', u'1918044', u'1291']\n",
      "[u'Santa Cruz', u'06087', u'274146', u'446']\n",
      "[u'Shasta', u'06089', u'179533', u'3786']\n",
      "[u'Sierra', u'06091', u'2967', u'953']\n",
      "[u'Siskiyou', u'06093', u'43554', u'6287']\n",
      "[u'Solano', u'06095', u'436092', u'828']\n",
      "[u'Sonoma', u'06097', u'502146', u'1576']\n",
      "[u'Stanislaus', u'06099', u'538388', u'1495']\n",
      "[u'Sutter', u'06101', u'96463', u'603']\n",
      "[u'Tehama', u'06103', u'63308', u'2951']\n",
      "[u'Trinity', u'06105', u'13069', u'3179']\n",
      "[u'Tulare', u'06107', u'459863', u'4824']\n",
      "[u'Tuolumne', u'06109', u'53709', u'2236']\n",
      "[u'Ventura', u'06111', u'850536', u'1846']\n",
      "[u'Yolo', u'06113', u'213016', u'1012']\n",
      "[u'Yuba', u'06115', u'74492', u'630']\n"
     ]
    }
   ],
   "source": [
    "table= []\n",
    "links= []\n",
    "for i in xrange(Nrows):\n",
    "    tds= trs[i].find_all('td')\n",
    "\n",
    "    # Find link to census page in FIPS column\n",
    "    l= tds[1].find_all('a')[0]\n",
    "    links.append(l.get('href')[:-3])\n",
    "\n",
    "    row= []\n",
    "    for col in cols:\n",
    "    #     print tds[col].get_text()\n",
    "        text= tds[col].get_text()\n",
    "        if col== 0: # County: remove county text\n",
    "            ind= text.lower().find('county')\n",
    "            text= text[:ind].strip().title()\n",
    "        if col== 1: # FIPS\n",
    "            text = '06'+text\n",
    "        if text.find(u\"\\u2660\")>=0: # certain cell values have a weird character in it before the actual value\n",
    "            text= text.split(u\"\\u2660\")[1].replace(',','')\n",
    "            ind= text.find('sq')\n",
    "            if ind>=0:\n",
    "                text= text[:ind].strip()\n",
    "        row.append(text)\n",
    "\n",
    "    print row\n",
    "    table.append(row)\n",
    "    #     print tds[col].find_all('a')"
   ]
  },
  {
   "cell_type": "code",
   "execution_count": 165,
   "metadata": {
    "collapsed": false
   },
   "outputs": [
    {
     "name": "stdout",
     "output_type": "stream",
     "text": [
      "['http://www.census.gov/quickfacts/table/PST045215/06001', 'http://www.census.gov/quickfacts/table/PST045215/06003', 'http://www.census.gov/quickfacts/table/PST045215/06005', 'http://www.census.gov/quickfacts/table/PST045215/06007', 'http://www.census.gov/quickfacts/table/PST045215/06009', 'http://www.census.gov/quickfacts/table/PST045215/06011', 'http://www.census.gov/quickfacts/table/PST045215/06013', 'http://www.census.gov/quickfacts/table/PST045215/06015', 'http://www.census.gov/quickfacts/table/PST045215/06017', 'http://www.census.gov/quickfacts/table/PST045215/06019', 'http://www.census.gov/quickfacts/table/PST045215/06021', 'http://www.census.gov/quickfacts/table/PST045215/06023', 'http://www.census.gov/quickfacts/table/PST045215/06025', 'http://www.census.gov/quickfacts/table/PST045215/06027', 'http://www.census.gov/quickfacts/table/PST045215/06029', 'http://www.census.gov/quickfacts/table/PST045215/06031', 'http://www.census.gov/quickfacts/table/PST045215/06033', 'http://www.census.gov/quickfacts/table/PST045215/06035', 'http://www.census.gov/quickfacts/table/PST045215/06037', 'http://www.census.gov/quickfacts/table/PST045215/06039', 'http://www.census.gov/quickfacts/table/PST045215/06041', 'http://www.census.gov/quickfacts/table/PST045215/06043', 'http://www.census.gov/quickfacts/table/PST045215/06045', 'http://www.census.gov/quickfacts/table/PST045215/06047', 'http://www.census.gov/quickfacts/table/PST045215/06049', 'http://www.census.gov/quickfacts/table/PST045215/06051', 'http://www.census.gov/quickfacts/table/PST045215/06053', 'http://www.census.gov/quickfacts/table/PST045215/06055', 'http://www.census.gov/quickfacts/table/PST045215/06057', 'http://www.census.gov/quickfacts/table/PST045215/06059', 'http://www.census.gov/quickfacts/table/PST045215/06061', 'http://www.census.gov/quickfacts/table/PST045215/06063', 'http://www.census.gov/quickfacts/table/PST045215/06065', 'http://www.census.gov/quickfacts/table/PST045215/06067', 'http://www.census.gov/quickfacts/table/PST045215/06069', 'http://www.census.gov/quickfacts/table/PST045215/06071', 'http://www.census.gov/quickfacts/table/PST045215/06073', 'http://www.census.gov/quickfacts/table/PST045215/06075', 'http://www.census.gov/quickfacts/table/PST045215/06077', 'http://www.census.gov/quickfacts/table/PST045215/06079', 'http://www.census.gov/quickfacts/table/PST045215/06081', 'http://www.census.gov/quickfacts/table/PST045215/06083', 'http://www.census.gov/quickfacts/table/PST045215/06085', 'http://www.census.gov/quickfacts/table/PST045215/06087', 'http://www.census.gov/quickfacts/table/PST045215/06089', 'http://www.census.gov/quickfacts/table/PST045215/06091', 'http://www.census.gov/quickfacts/table/PST045215/06093', 'http://www.census.gov/quickfacts/table/PST045215/06095', 'http://www.census.gov/quickfacts/table/PST045215/06097', 'http://www.census.gov/quickfacts/table/PST045215/06099', 'http://www.census.gov/quickfacts/table/PST045215/06101', 'http://www.census.gov/quickfacts/table/PST045215/06103', 'http://www.census.gov/quickfacts/table/PST045215/06105', 'http://www.census.gov/quickfacts/table/PST045215/06107', 'http://www.census.gov/quickfacts/table/PST045215/06109', 'http://www.census.gov/quickfacts/table/PST045215/06111', 'http://www.census.gov/quickfacts/table/PST045215/06113', 'http://www.census.gov/quickfacts/table/PST045215/06115']\n"
     ]
    }
   ],
   "source": [
    "# List of links\n",
    "print links"
   ]
  },
  {
   "cell_type": "markdown",
   "metadata": {},
   "source": [
    "Check names of counties"
   ]
  },
  {
   "cell_type": "code",
   "execution_count": 189,
   "metadata": {
    "collapsed": false
   },
   "outputs": [],
   "source": [
    "county_names= json.load(open('county_names.json','r'))\n",
    "for i in xrange(Nrows):\n",
    "    if county_names[i] != table[i][0]:\n",
    "        print 'Does not match: %s != %s' % ( county_names[i], table[i][0] )\n",
    "        print 'Correcting...'\n",
    "        table[i][0]= county_names[i]"
   ]
  },
  {
   "cell_type": "markdown",
   "metadata": {},
   "source": [
    "Save information of counties in file"
   ]
  },
  {
   "cell_type": "code",
   "execution_count": 184,
   "metadata": {
    "collapsed": true
   },
   "outputs": [],
   "source": [
    "fin= open('county_info.csv','w')\n",
    "\n",
    "line= ','.join(header)\n",
    "fin.write(line+'\\n')\n",
    "\n",
    "for i in xrange(Nrows):\n",
    "    line= ','.join(table[i])\n",
    "    fin.write(line+'\\n')\n",
    "\n",
    "fin.close()"
   ]
  },
  {
   "cell_type": "markdown",
   "metadata": {},
   "source": [
    "## Get info from the census pages for each county"
   ]
  },
  {
   "cell_type": "code",
   "execution_count": 192,
   "metadata": {
    "collapsed": false
   },
   "outputs": [
    {
     "name": "stdout",
     "output_type": "stream",
     "text": [
      "Alameda   http://www.census.gov/quickfacts/table/PST045215/06001\n",
      "Alpine   http://www.census.gov/quickfacts/table/PST045215/06003\n",
      "Amador   http://www.census.gov/quickfacts/table/PST045215/06005\n",
      "Butte   http://www.census.gov/quickfacts/table/PST045215/06007\n",
      "Calaveras   http://www.census.gov/quickfacts/table/PST045215/06009\n",
      "Colusa   http://www.census.gov/quickfacts/table/PST045215/06011\n",
      "Contra Costa   http://www.census.gov/quickfacts/table/PST045215/06013\n",
      "Del Norte   http://www.census.gov/quickfacts/table/PST045215/06015\n",
      "El Dorado   http://www.census.gov/quickfacts/table/PST045215/06017\n",
      "Fresno   http://www.census.gov/quickfacts/table/PST045215/06019\n",
      "Glenn   http://www.census.gov/quickfacts/table/PST045215/06021\n",
      "Humboldt   http://www.census.gov/quickfacts/table/PST045215/06023\n",
      "Imperial   http://www.census.gov/quickfacts/table/PST045215/06025\n",
      "Inyo   http://www.census.gov/quickfacts/table/PST045215/06027\n",
      "Kern   http://www.census.gov/quickfacts/table/PST045215/06029\n",
      "Kings   http://www.census.gov/quickfacts/table/PST045215/06031\n",
      "Lake   http://www.census.gov/quickfacts/table/PST045215/06033\n",
      "Lassen   http://www.census.gov/quickfacts/table/PST045215/06035\n",
      "Los Angeles   http://www.census.gov/quickfacts/table/PST045215/06037\n",
      "Madera   http://www.census.gov/quickfacts/table/PST045215/06039\n",
      "Marin   http://www.census.gov/quickfacts/table/PST045215/06041\n",
      "Mariposa   http://www.census.gov/quickfacts/table/PST045215/06043\n",
      "Mendocino   http://www.census.gov/quickfacts/table/PST045215/06045\n",
      "Merced   http://www.census.gov/quickfacts/table/PST045215/06047\n",
      "Modoc   http://www.census.gov/quickfacts/table/PST045215/06049\n",
      "Mono   http://www.census.gov/quickfacts/table/PST045215/06051\n",
      "Monterey   http://www.census.gov/quickfacts/table/PST045215/06053\n",
      "Napa   http://www.census.gov/quickfacts/table/PST045215/06055\n",
      "Nevada   http://www.census.gov/quickfacts/table/PST045215/06057\n",
      "Orange   http://www.census.gov/quickfacts/table/PST045215/06059\n",
      "Placer   http://www.census.gov/quickfacts/table/PST045215/06061\n",
      "Plumas   http://www.census.gov/quickfacts/table/PST045215/06063\n",
      "Riverside   http://www.census.gov/quickfacts/table/PST045215/06065\n",
      "Sacramento   http://www.census.gov/quickfacts/table/PST045215/06067\n",
      "San Benito   http://www.census.gov/quickfacts/table/PST045215/06069\n",
      "San Bernardino   http://www.census.gov/quickfacts/table/PST045215/06071\n",
      "San Diego   http://www.census.gov/quickfacts/table/PST045215/06073\n",
      "San Francisco   http://www.census.gov/quickfacts/table/PST045215/06075\n",
      "San Joaquin   http://www.census.gov/quickfacts/table/PST045215/06077\n",
      "San Luis Obispo   http://www.census.gov/quickfacts/table/PST045215/06079\n",
      "San Mateo   http://www.census.gov/quickfacts/table/PST045215/06081\n",
      "Santa Barbara   http://www.census.gov/quickfacts/table/PST045215/06083\n",
      "Santa Clara   http://www.census.gov/quickfacts/table/PST045215/06085\n",
      "Santa Cruz   http://www.census.gov/quickfacts/table/PST045215/06087\n",
      "Shasta   http://www.census.gov/quickfacts/table/PST045215/06089\n",
      "Sierra   http://www.census.gov/quickfacts/table/PST045215/06091\n",
      "Siskiyou   http://www.census.gov/quickfacts/table/PST045215/06093\n",
      "Solano   http://www.census.gov/quickfacts/table/PST045215/06095\n",
      "Sonoma   http://www.census.gov/quickfacts/table/PST045215/06097\n",
      "Stanislaus   http://www.census.gov/quickfacts/table/PST045215/06099\n",
      "Sutter   http://www.census.gov/quickfacts/table/PST045215/06101\n",
      "Tehama   http://www.census.gov/quickfacts/table/PST045215/06103\n",
      "Trinity   http://www.census.gov/quickfacts/table/PST045215/06105\n",
      "Tulare   http://www.census.gov/quickfacts/table/PST045215/06107\n",
      "Tuolumne   http://www.census.gov/quickfacts/table/PST045215/06109\n",
      "Ventura   http://www.census.gov/quickfacts/table/PST045215/06111\n",
      "Yolo   http://www.census.gov/quickfacts/table/PST045215/06113\n",
      "Yuba   http://www.census.gov/quickfacts/table/PST045215/06115\n"
     ]
    }
   ],
   "source": [
    "Nrows= len(county_names)\n",
    "for i in xrange(Nrows):\n",
    "    print '%s   %s' % (county_names[i], links[i])"
   ]
  },
  {
   "cell_type": "markdown",
   "metadata": {},
   "source": [
    "### Now we need to go to each county page and scrape the data"
   ]
  },
  {
   "cell_type": "code",
   "execution_count": 373,
   "metadata": {
    "collapsed": false
   },
   "outputs": [
    {
     "name": "stdout",
     "output_type": "stream",
     "text": [
      "Found 1 table(s)\n"
     ]
    }
   ],
   "source": [
    "try:\n",
    "    response = requests.get(links[0])\n",
    "except:\n",
    "    print 'Failed to get url page %s' % links[i]\n",
    "\n",
    "soup= BeautifulSoup(response.text,'lxml')\n",
    "\n",
    "tables= soup.find_all('table')\n",
    "print 'Found %d table(s)' % len(tables)\n",
    "table= tables[0]\n",
    "trs= table.find_all('tr')"
   ]
  },
  {
   "cell_type": "code",
   "execution_count": 374,
   "metadata": {
    "collapsed": false
   },
   "outputs": [
    {
     "name": "stdout",
     "output_type": "stream",
     "text": [
      "3 -  Population estimates, July 1, 2016,  (V2016)\n",
      "4 -  Population estimates, July 1, 2015,  (V2015)\n",
      "5 -  Population estimates base, April 1, 2010,  (V2016)\n",
      "6 -  Population estimates base, April 1, 2010,  (V2015)\n",
      "7 -  Population, percent change - April 1, 2010 (estimates base) to July 1, 2016,  (V2016)\n",
      "8 -  Population, percent change - April 1, 2010 (estimates base) to July 1, 2015,  (V2015)\n",
      "9 -  Population, Census, April 1, 2010\n",
      "10 -  []\n",
      "11 -  Persons under 5 years, percent, July 1, 2015,  (V2015)\n",
      "12 -  Persons under 5 years, percent, April 1, 2010\n",
      "13 -  Persons under 18 years, percent, July 1, 2015,  (V2015)\n",
      "14 -  Persons under 18 years, percent, April 1, 2010\n",
      "15 -  Persons 65 years and over, percent,  July 1, 2015,  (V2015)\n",
      "16 -  Persons 65 years and over, percent, April 1, 2010\n",
      "17 -  Female persons, percent,  July 1, 2015,  (V2015)\n",
      "18 -  Female persons, percent, April 1, 2010\n",
      "19 -  []\n",
      "20 -  White alone, percent, July 1, 2015,  (V2015)\n",
      "21 -  White alone, percent, April 1, 2010\n",
      "22 -  Black or African American alone, percent, July 1, 2015,  (V2015)\n",
      "23 -  Black or African American alone, percent, April 1, 2010\n",
      "24 -  American Indian and Alaska Native alone, percent, July 1, 2015,  (V2015)\n",
      "25 -  American Indian and Alaska Native alone, percent, April 1, 2010\n",
      "26 -  Asian alone, percent, July 1, 2015,  (V2015)\n",
      "27 -  Asian alone, percent, April 1, 2010\n",
      "28 -  Native Hawaiian and Other Pacific Islander alone, percent, July 1, 2015,  (V2015)\n",
      "29 -  Native Hawaiian and Other Pacific Islander alone, percent, April 1, 2010\n",
      "30 -  Two or More Races, percent, July 1, 2015,  (V2015)\n",
      "31 -  Two or More Races, percent, April 1, 2010\n",
      "32 -  Hispanic or Latino, percent, July 1, 2015,  (V2015)\n",
      "33 -  Hispanic or Latino, percent, April 1, 2010\n",
      "34 -  White alone, not Hispanic or Latino, percent, July 1, 2015,  (V2015)\n",
      "35 -  White alone, not Hispanic or Latino, percent, April 1, 2010\n",
      "36 -  []\n",
      "37 -  Veterans, 2011-2015\n",
      "38 -  Foreign born persons, percent, 2011-2015\n",
      "39 -  []\n",
      "40 -  Housing units,  July 1, 2015,  (V2015)\n",
      "41 -  Housing units, April 1, 2010\n",
      "42 -  Owner-occupied housing unit rate, 2011-2015\n",
      "43 -  Median value of owner-occupied housing units, 2011-2015\n",
      "44 -  Median selected monthly owner costs -with a mortgage, 2011-2015\n",
      "45 -  Median selected monthly owner costs -without a mortgage, 2011-2015\n",
      "46 -  Median gross rent, 2011-2015\n",
      "47 -  Building permits, 2015\n",
      "48 -  []\n",
      "49 -  Households, 2011-2015\n",
      "50 -  Persons per household, 2011-2015\n",
      "51 -  Living in same house 1 year ago, percent of persons age 1 year+, 2011-2015\n",
      "52 -  Language other than English spoken at home, percent of persons age 5 years+, 2011-2015\n",
      "53 -  []\n",
      "54 -  High school graduate or higher, percent of persons age 25 years+, 2011-2015\n",
      "55 -  Bachelor's degree or higher, percent of persons age 25 years+, 2011-2015\n",
      "56 -  []\n",
      "57 -  With a disability, under age 65 years, percent, 2011-2015\n",
      "58 -  Persons  without health insurance, under age 65 years, percent\n",
      "59 -  []\n",
      "60 -  In civilian labor force, total, percent of population age 16 years+, 2011-2015\n",
      "61 -  In civilian labor force, female, percent of population age 16 years+, 2011-2015\n",
      "62 -  Total accommodation and food services sales, 2012 ($1,000)\n",
      "63 -  Total health care and social assistance receipts/revenue, 2012 ($1,000)\n",
      "64 -  Total manufacturers shipments, 2012 ($1,000)\n",
      "65 -  Total merchant wholesaler sales, 2012 ($1,000)\n",
      "66 -  Total retail sales, 2012 ($1,000)\n",
      "67 -  Total retail sales per capita, 2012\n",
      "68 -  []\n",
      "69 -  Mean travel time to work (minutes), workers age 16 years+, 2011-2015\n",
      "70 -  []\n",
      "71 -  Median household income (in 2015 dollars), 2011-2015\n",
      "72 -  Per capita income in past 12 months (in 2015 dollars), 2011-2015\n",
      "73 -  Persons in poverty, percent\n",
      "74 -  []\n",
      "75 -  Total employer establishments, 2014\n",
      "76 -  Total employment, 2014\n",
      "77 -  Total annual payroll, 2014 ($1,000)\n",
      "78 -  Total employment, percent change, 2013-2014\n",
      "79 -  Total nonemployer establishments, 2014\n",
      "80 -  All firms, 2012\n",
      "81 -  Men-owned firms, 2012\n",
      "82 -  Women-owned firms, 2012\n",
      "83 -  Minority-owned firms, 2012\n",
      "84 -  Nonminority-owned firms, 2012\n",
      "85 -  Veteran-owned firms, 2012\n",
      "86 -  Nonveteran-owned firms, 2012\n",
      "87 -  []\n",
      "88 -  Population per square mile, 2010\n",
      "89 -  Land area in square miles, 2010\n",
      "90 -  Metropolitan or Micropolitan Statistical Area\n",
      "91 -  FIPS Code\n"
     ]
    }
   ],
   "source": [
    "for t in xrange(3,len(trs)):\n",
    "    text=[]\n",
    "    if trs[t].find_all('th') == []: # only consider rows that do not have header info\n",
    "        text= trs[t].find_all('td')[0].get_text()\n",
    "        text= text.strip()\n",
    "        if text[:2]=='i ' or text[:2]=='i\\n':\n",
    "            text= text[2:]\n",
    "            text= text.strip()\n",
    "        if text[-2:]=='a)' or text[-2:]=='b)' or text[-2:]=='c)':\n",
    "            text= text[:-3]\n",
    "            text= text.strip()\n",
    "\n",
    "    print '%d -  %s' %(t, text)"
   ]
  },
  {
   "cell_type": "markdown",
   "metadata": {},
   "source": [
    "Columns to pick from census data"
   ]
  },
  {
   "cell_type": "code",
   "execution_count": 375,
   "metadata": {
    "collapsed": false
   },
   "outputs": [],
   "source": [
    "cols= [4,11,13,15,17,20,22,24,26,28,30,32,34,38,50,54,55,58,71,73,88,89]"
   ]
  },
  {
   "cell_type": "code",
   "execution_count": 389,
   "metadata": {
    "collapsed": true
   },
   "outputs": [],
   "source": [
    "header= []\n",
    "for t in cols:\n",
    "    text=[]\n",
    "    if trs[t].find_all('th') == []: # only consider rows that do not have header info\n",
    "        text= trs[t].find_all('td')[0].get_text()\n",
    "        text= text.strip().replace(',','')\n",
    "        if text[:2]=='i ' or text[:2]=='i\\n':\n",
    "            text= text[2:]\n",
    "            text= text.strip()\n",
    "        if text[-2:]=='a)' or text[-2:]=='b)' or text[-2:]=='c)':\n",
    "            text= text[:-3]\n",
    "            text= text.strip()\n",
    "\n",
    "    header.append(text)"
   ]
  },
  {
   "cell_type": "code",
   "execution_count": 390,
   "metadata": {
    "collapsed": false
   },
   "outputs": [
    {
     "data": {
      "text/plain": [
       "[u'Population estimates July 1 2015  (V2015)',\n",
       " u'Persons under 5 years percent July 1 2015  (V2015)',\n",
       " u'Persons under 18 years percent July 1 2015  (V2015)',\n",
       " u'Persons 65 years and over percent  July 1 2015  (V2015)',\n",
       " u'Female persons percent  July 1 2015  (V2015)',\n",
       " u'White alone percent July 1 2015  (V2015)',\n",
       " u'Black or African American alone percent July 1 2015  (V2015)',\n",
       " u'American Indian and Alaska Native alone percent July 1 2015  (V2015)',\n",
       " u'Asian alone percent July 1 2015  (V2015)',\n",
       " u'Native Hawaiian and Other Pacific Islander alone percent July 1 2015  (V2015)',\n",
       " u'Two or More Races percent July 1 2015  (V2015)',\n",
       " u'Hispanic or Latino percent July 1 2015  (V2015)',\n",
       " u'White alone not Hispanic or Latino percent July 1 2015  (V2015)',\n",
       " u'Foreign born persons percent 2011-2015',\n",
       " u'Persons per household 2011-2015',\n",
       " u'High school graduate or higher percent of persons age 25 years+ 2011-2015',\n",
       " u\"Bachelor's degree or higher percent of persons age 25 years+ 2011-2015\",\n",
       " u'Persons  without health insurance under age 65 years percent',\n",
       " u'Median household income (in 2015 dollars) 2011-2015',\n",
       " u'Persons in poverty percent',\n",
       " u'Population per square mile 2010',\n",
       " u'Land area in square miles 2010']"
      ]
     },
     "execution_count": 390,
     "metadata": {},
     "output_type": "execute_result"
    }
   ],
   "source": [
    "header"
   ]
  },
  {
   "cell_type": "code",
   "execution_count": 391,
   "metadata": {
    "collapsed": true
   },
   "outputs": [],
   "source": [
    "header=[u'Population',\n",
    " u'Persons under 5 years percent',\n",
    " u'Persons under 18 years percent',\n",
    " u'Persons 65 years and over percent',\n",
    " u'Female persons percent',\n",
    " u'White alone percent',\n",
    " u'Black or African American alone percent',\n",
    " u'American Indian and Alaska Native alone percent',\n",
    " u'Asian alone percent',\n",
    " u'Native Hawaiian and Other Pacific Islander alone percent',\n",
    " u'Two or More Races percent',\n",
    " u'Hispanic or Latino percent',\n",
    " u'White alone  not Hispanic or Latino percent',\n",
    " u'Foreign born persons percent',\n",
    " u'Persons per household',\n",
    " u'High school graduate or higher percent of persons age 25 years+',\n",
    " u\"Bachelor's degree or higher percent of persons age 25 years+\",\n",
    " u'Persons  without health insurance  under age 65 years percent',\n",
    " u'Median household income (in 2015 dollars)',\n",
    " u'Persons in poverty percent',\n",
    " u'Population per square mile',\n",
    " u'Land area in square miles']"
   ]
  },
  {
   "cell_type": "code",
   "execution_count": 379,
   "metadata": {
    "collapsed": false
   },
   "outputs": [
    {
     "name": "stdout",
     "output_type": "stream",
     "text": [
      "Found 1 table(s)\n",
      "Found 1 table(s)\n",
      "Found 1 table(s)\n",
      "Found 1 table(s)\n",
      "Found 1 table(s)\n",
      "Found 1 table(s)\n",
      "Found 1 table(s)\n",
      "Found 1 table(s)\n",
      "Found 1 table(s)\n",
      "Found 1 table(s)\n",
      "Found 1 table(s)\n",
      "Found 1 table(s)\n",
      "Found 1 table(s)\n",
      "Found 1 table(s)\n",
      "Found 1 table(s)\n",
      "Found 1 table(s)\n",
      "Found 1 table(s)\n",
      "Found 1 table(s)\n",
      "Found 1 table(s)\n",
      "Found 1 table(s)\n",
      "Found 1 table(s)\n",
      "Found 1 table(s)\n",
      "Found 1 table(s)\n",
      "Found 1 table(s)\n",
      "Found 1 table(s)\n",
      "Found 1 table(s)\n",
      "Found 1 table(s)\n",
      "Found 1 table(s)\n",
      "Found 1 table(s)\n",
      "Found 1 table(s)\n",
      "Found 1 table(s)\n",
      "Found 1 table(s)\n",
      "Found 1 table(s)\n",
      "Found 1 table(s)\n",
      "Found 1 table(s)\n",
      "Found 1 table(s)\n",
      "Found 1 table(s)\n",
      "Found 1 table(s)\n",
      "Found 1 table(s)\n",
      "Found 1 table(s)\n",
      "Found 1 table(s)\n",
      "Found 1 table(s)\n",
      "Found 1 table(s)\n",
      "Found 1 table(s)\n",
      "Found 1 table(s)\n",
      "Found 1 table(s)\n",
      "Found 1 table(s)\n",
      "Found 1 table(s)\n",
      "Found 1 table(s)\n",
      "Found 1 table(s)\n",
      "Found 1 table(s)\n",
      "Found 1 table(s)\n",
      "Found 1 table(s)\n",
      "Found 1 table(s)\n",
      "Found 1 table(s)\n",
      "Found 1 table(s)\n",
      "Found 1 table(s)\n",
      "Found 1 table(s)\n"
     ]
    }
   ],
   "source": [
    "data=[]\n",
    "\n",
    "for i in xrange(Nrows):\n",
    "    row=[]\n",
    "    try:\n",
    "        response = requests.get(links[i])\n",
    "    except:\n",
    "        print 'Failed to get url page %s' % links[i]\n",
    "        \n",
    "    soup= BeautifulSoup(response.text,'lxml')\n",
    "\n",
    "    tables= soup.find_all('table')\n",
    "#     print 'Found %d table(s)' % len(tables)\n",
    "    table= tables[0]\n",
    "    trs= table.find_all('tr')\n",
    "\n",
    "\n",
    "    for t in cols:\n",
    "        text=[]\n",
    "        if trs[t].find_all('th') == []: # only consider rows that do not have header info\n",
    "            text= trs[t].find_all('td')[1].get_text()\n",
    "            text= text.replace(',','').replace('%','').replace('&nbsp','').replace('$','').strip()\n",
    "\n",
    "        row.append(text)\n",
    "\n",
    "    data.append(row)"
   ]
  },
  {
   "cell_type": "markdown",
   "metadata": {},
   "source": [
    "Save information of counties in file"
   ]
  },
  {
   "cell_type": "code",
   "execution_count": 392,
   "metadata": {
    "collapsed": false
   },
   "outputs": [],
   "source": [
    "fin= open('county_census.csv','w')\n",
    "\n",
    "line= 'County,' + ','.join(header)\n",
    "fin.write(line+'\\n')\n",
    "\n",
    "for i in xrange(Nrows):\n",
    "    line= county_names[i] + ',' + ','.join(data[i])\n",
    "    fin.write(line+'\\n')\n",
    "\n",
    "fin.close()"
   ]
  }
 ],
 "metadata": {
  "kernelspec": {
   "display_name": "Python [conda env:insight]",
   "language": "python",
   "name": "conda-env-insight-py"
  },
  "language_info": {
   "codemirror_mode": {
    "name": "ipython",
    "version": 2
   },
   "file_extension": ".py",
   "mimetype": "text/x-python",
   "name": "python",
   "nbconvert_exporter": "python",
   "pygments_lexer": "ipython2",
   "version": "2.7.13"
  }
 },
 "nbformat": 4,
 "nbformat_minor": 2
}
