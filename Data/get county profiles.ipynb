{
 "cells": [
  {
   "cell_type": "markdown",
   "metadata": {},
   "source": [
    "# Getting the data relative to the county profiles in California"
   ]
  },
  {
   "cell_type": "markdown",
   "metadata": {},
   "source": [
    "Get the county asthma profile together with demographics data from all counties in California, as shown in http://www.californiabreathing.org/asthma-data/county-asthma-profiles\n",
    "\n",
    "Adapted from https://github.com/gkafka/Rehab4Rehab/blob/master/GetDataRehabCenters.ipynb"
   ]
  },
  {
   "cell_type": "code",
   "execution_count": 1,
   "metadata": {
    "collapsed": true
   },
   "outputs": [],
   "source": [
    "%matplotlib inline\n",
    "\n",
    "# Web scrapping\n",
    "import requests\n",
    "from bs4 import BeautifulSoup\n",
    "\n",
    "# Data handling\n",
    "# import pandas as pd\n",
    "import numpy as np\n",
    "# import scipy as sp\n",
    "\n",
    "# Graphing capabilities\n",
    "import matplotlib.pyplot as plt\n",
    "# import seaborn as sns\n",
    "\n",
    "import json\n",
    "# import time"
   ]
  },
  {
   "cell_type": "markdown",
   "metadata": {},
   "source": [
    "### Get the list of counties and respective pages"
   ]
  },
  {
   "cell_type": "code",
   "execution_count": 2,
   "metadata": {
    "collapsed": true
   },
   "outputs": [],
   "source": [
    "url = 'http://www.californiabreathing.org/asthma-data/county-asthma-profiles'\n",
    "baseurl = 'http://www.californiabreathing.org'"
   ]
  },
  {
   "cell_type": "code",
   "execution_count": 3,
   "metadata": {
    "collapsed": false
   },
   "outputs": [
    {
     "name": "stdout",
     "output_type": "stream",
     "text": [
      "Successfully acquired page.\n"
     ]
    }
   ],
   "source": [
    "try:\n",
    "    response = requests.get(url)\n",
    "    print 'Successfully acquired page.'\n",
    "except:\n",
    "    print 'Failed to get url page.'"
   ]
  },
  {
   "cell_type": "code",
   "execution_count": 4,
   "metadata": {
    "collapsed": true
   },
   "outputs": [],
   "source": [
    "soup = BeautifulSoup(response.text, 'lxml')\n",
    "# soup = BeautifulSoup(response.text, \"html.parser\")"
   ]
  },
  {
   "cell_type": "code",
   "execution_count": 5,
   "metadata": {
    "collapsed": false
   },
   "outputs": [
    {
     "name": "stdout",
     "output_type": "stream",
     "text": [
      "Found 1 unordered list(s)\n"
     ]
    }
   ],
   "source": [
    "html_entries = soup.find_all('ul',attrs={'class': 'zoo-item-list zoo-list page-profiles'})\n",
    "print 'Found %d unordered list(s)' % len(html_entries)"
   ]
  },
  {
   "cell_type": "code",
   "execution_count": 6,
   "metadata": {
    "collapsed": false
   },
   "outputs": [
    {
     "name": "stdout",
     "output_type": "stream",
     "text": [
      "Found 58 county entries\n"
     ]
    }
   ],
   "source": [
    "county_entries = html_entries[0].find_all('li')\n",
    "N_counties = len(county_entries)\n",
    "print 'Found %d county entries' % len(county_entries)"
   ]
  },
  {
   "cell_type": "markdown",
   "metadata": {},
   "source": [
    "Find all counties and respective web pages"
   ]
  },
  {
   "cell_type": "code",
   "execution_count": 7,
   "metadata": {
    "collapsed": false
   },
   "outputs": [],
   "source": [
    "county_name= []\n",
    "county_url= []\n",
    "\n",
    "for entry in county_entries:\n",
    "    county_link= entry.find_all('a')[0]\n",
    "    county_url.append( county_link.get('href').strip() )\n",
    "    county_name.append( county_link.get('title').strip().title() )   # strip all spaces of the title and make only the first letter capitalized\n",
    "    \n",
    "county_name = np.array(county_name)\n",
    "county_url = np.array(county_url)"
   ]
  },
  {
   "cell_type": "markdown",
   "metadata": {},
   "source": [
    "Making sure the counties are in alphabetical order"
   ]
  },
  {
   "cell_type": "code",
   "execution_count": 8,
   "metadata": {
    "collapsed": false
   },
   "outputs": [],
   "source": [
    "indsSort = np.argsort(county_name)\n",
    "county_name = county_name[indsSort]\n",
    "county_url = county_url[indsSort]"
   ]
  },
  {
   "cell_type": "code",
   "execution_count": 9,
   "metadata": {
    "collapsed": false
   },
   "outputs": [],
   "source": [
    "filename = 'county_names.json'\n",
    "outfile = open(filename, \"w\")\n",
    "json.dump(county_name.tolist(), outfile)\n",
    "outfile.close()"
   ]
  },
  {
   "cell_type": "code",
   "execution_count": 10,
   "metadata": {
    "collapsed": false
   },
   "outputs": [
    {
     "name": "stdout",
     "output_type": "stream",
     "text": [
      "Alameda   http://www.californiabreathing.org/asthma-data/county-asthma-profiles/alameda-county-asthma-profile\n",
      "Alpine   http://www.californiabreathing.org/asthma-data/county-asthma-profiles/alpine-county-asthma-profile\n",
      "Amador   http://www.californiabreathing.org/asthma-data/county-asthma-profiles/amador-county-asthma-profile\n",
      "Butte   http://www.californiabreathing.org/asthma-data/county-asthma-profiles/butte-county-asthma-profile\n",
      "Calaveras   http://www.californiabreathing.org/asthma-data/county-asthma-profiles/calaveras-county-asthma-profile\n",
      "Colusa   http://www.californiabreathing.org/asthma-data/county-asthma-profiles/colusa-county-asthma-profile\n",
      "Contra Costa   http://www.californiabreathing.org/asthma-data/county-asthma-profiles/contra-costa-county-asthma-profile\n",
      "Del Norte   http://www.californiabreathing.org/asthma-data/county-asthma-profiles/del-norte-county-asthma-profile\n",
      "El Dorado   http://www.californiabreathing.org/asthma-data/county-asthma-profiles/el-dorado-county-asthma-profile\n",
      "Fresno   http://www.californiabreathing.org/asthma-data/county-asthma-profiles/fresno-county-asthma-profile\n",
      "Glenn   http://www.californiabreathing.org/asthma-data/county-asthma-profiles/glenn-county-asthma-profile\n",
      "Humboldt   http://www.californiabreathing.org/asthma-data/county-asthma-profiles/humboldt-county-asthma-profile\n",
      "Imperial   http://www.californiabreathing.org/asthma-data/county-asthma-profiles/imperial-county-asthma-profile\n",
      "Inyo   http://www.californiabreathing.org/asthma-data/county-asthma-profiles/inyo-county-asthma-profile\n",
      "Kern   http://www.californiabreathing.org/asthma-data/county-asthma-profiles/kern-county-asthma-profile\n",
      "Kings   http://www.californiabreathing.org/asthma-data/county-asthma-profiles/kings-county-asthma-profile\n",
      "Lake   http://www.californiabreathing.org/asthma-data/county-asthma-profiles/lake-county-asthma-profile\n",
      "Lassen   http://www.californiabreathing.org/asthma-data/county-asthma-profiles/lassen-county-asthma-profile\n",
      "Los Angeles   http://www.californiabreathing.org/asthma-data/county-asthma-profiles/los-angeles-county-asthma-profile\n",
      "Madera   http://www.californiabreathing.org/asthma-data/county-asthma-profiles/madera-county-asthma-profile\n",
      "Marin   http://www.californiabreathing.org/asthma-data/county-asthma-profiles/marin-county-asthma-profile\n",
      "Mariposa   http://www.californiabreathing.org/asthma-data/county-asthma-profiles/mariposa-county-asthma-profile\n",
      "Mendocino   http://www.californiabreathing.org/asthma-data/county-asthma-profiles/mendocino-county-asthma-profile\n",
      "Merced   http://www.californiabreathing.org/asthma-data/county-asthma-profiles/merced-county-asthma-profile\n",
      "Modoc   http://www.californiabreathing.org/asthma-data/county-asthma-profiles/modoc-county-asthma-profile\n",
      "Mono   http://www.californiabreathing.org/asthma-data/county-asthma-profiles/mono-county-asthma-profile\n",
      "Monterey   http://www.californiabreathing.org/asthma-data/county-asthma-profiles/monterey-county-asthma-profile\n",
      "Napa   http://www.californiabreathing.org/asthma-data/county-asthma-profiles/napa-county-asthma-profile\n",
      "Nevada   http://www.californiabreathing.org/asthma-data/county-asthma-profiles/nevada-county-asthma-profile\n",
      "Orange   http://www.californiabreathing.org/asthma-data/county-asthma-profiles/orange-county-asthma-profile\n",
      "Placer   http://www.californiabreathing.org/asthma-data/county-asthma-profiles/placer-county-asthma-profile\n",
      "Plumas   http://www.californiabreathing.org/asthma-data/county-asthma-profiles/plumas-county-asthma-profile\n",
      "Riverside   http://www.californiabreathing.org/asthma-data/county-asthma-profiles/riverside-county-asthma-profile\n",
      "Sacramento   http://www.californiabreathing.org/asthma-data/county-asthma-profiles/sacramento-county-asthma-profile\n",
      "San Benito   http://www.californiabreathing.org/asthma-data/county-asthma-profiles/san-benito-county-asthma-profile\n",
      "San Bernardino   http://www.californiabreathing.org/asthma-data/county-asthma-profiles/san-bernardino-county-asthma-profile\n",
      "San Diego   http://www.californiabreathing.org/asthma-data/county-asthma-profiles/san-diego-county-asthma-profile\n",
      "San Francisco   http://www.californiabreathing.org/asthma-data/county-asthma-profiles/san-francisco-county-asthma-profile\n",
      "San Joaquin   http://www.californiabreathing.org/asthma-data/county-asthma-profiles/san-joaquin-county-asthma-profile\n",
      "San Luis Obispo   http://www.californiabreathing.org/asthma-data/county-asthma-profiles/san-luis-obispo-county-asthma-profile\n",
      "San Mateo   http://www.californiabreathing.org/asthma-data/county-asthma-profiles/san-mateo-county-asthma-profile\n",
      "Santa Barbara   http://www.californiabreathing.org/asthma-data/county-asthma-profiles/santa-barbara-county-asthma-profile\n",
      "Santa Clara   http://www.californiabreathing.org/asthma-data/county-asthma-profiles/santa-clara-county-asthma-profile\n",
      "Santa Cruz   http://www.californiabreathing.org/asthma-data/county-asthma-profiles/santa-cruz-county-asthma-profile\n",
      "Shasta   http://www.californiabreathing.org/asthma-data/county-asthma-profiles/shasta-county-asthma-profile\n",
      "Sierra   http://www.californiabreathing.org/asthma-data/county-asthma-profiles/sierra-county-asthma-profile\n",
      "Siskiyou   http://www.californiabreathing.org/asthma-data/county-asthma-profiles/siskiyou-county-asthma-profile\n",
      "Solano   http://www.californiabreathing.org/asthma-data/county-asthma-profiles/solano-county-asthma-profile\n",
      "Sonoma   http://www.californiabreathing.org/asthma-data/county-asthma-profiles/sonoma-county-asthma-profile\n",
      "Stanislaus   http://www.californiabreathing.org/asthma-data/county-asthma-profiles/stanislaus-county-asthma-profile\n",
      "Sutter   http://www.californiabreathing.org/asthma-data/county-asthma-profiles/sutter-county-asthma-profile\n",
      "Tehama   http://www.californiabreathing.org/asthma-data/county-asthma-profiles/tehama-county-asthma-profile\n",
      "Trinity   http://www.californiabreathing.org/asthma-data/county-asthma-profiles/trinity-county-asthma-profile\n",
      "Tulare   http://www.californiabreathing.org/asthma-data/county-asthma-profiles/tulare-county-asthma-profile\n",
      "Tuolumne   http://www.californiabreathing.org/asthma-data/county-asthma-profiles/tuolumne-county-asthma-profile\n",
      "Ventura   http://www.californiabreathing.org/asthma-data/county-asthma-profiles/ventura-county-asthma-profile\n",
      "Yolo   http://www.californiabreathing.org/asthma-data/county-asthma-profiles/yolo-county-asthma-profile\n",
      "Yuba   http://www.californiabreathing.org/asthma-data/county-asthma-profiles/yuba-county-asthma-profile\n"
     ]
    }
   ],
   "source": [
    "for i in xrange(len(county_name)):\n",
    "    print '%s   %s%s' % (county_name[i].title(), baseurl, county_url[i])"
   ]
  },
  {
   "cell_type": "markdown",
   "metadata": {},
   "source": [
    "## Now we need to go to each county page and scrape the data"
   ]
  },
  {
   "cell_type": "markdown",
   "metadata": {},
   "source": [
    "### Get population data"
   ]
  },
  {
   "cell_type": "markdown",
   "metadata": {},
   "source": [
    "Data will be saved in a csv file"
   ]
  },
  {
   "cell_type": "code",
   "execution_count": null,
   "metadata": {
    "collapsed": true
   },
   "outputs": [],
   "source": [
    "filename = 'Population_AgeGroup_byCounty.csv'\n",
    "fout = open(filename, 'w')"
   ]
  },
  {
   "cell_type": "markdown",
   "metadata": {},
   "source": [
    "Write the header for the csv file"
   ]
  },
  {
   "cell_type": "code",
   "execution_count": 12,
   "metadata": {
    "collapsed": true
   },
   "outputs": [],
   "source": [
    "line ='county,0-4,5-17,18-64,65+,total'\n",
    "fout.write(line+'\\n')"
   ]
  },
  {
   "cell_type": "code",
   "execution_count": 13,
   "metadata": {
    "collapsed": false
   },
   "outputs": [
    {
     "name": "stdout",
     "output_type": "stream",
     "text": [
      "Alameda\n",
      "ID: population\n",
      "99911\n",
      "248516\n",
      "1022113\n",
      "196707\n",
      "1567248\n",
      "\n",
      "Alpine\n",
      "ID: population\n",
      "35\n",
      "210\n",
      "683\n",
      "219\n",
      "1148\n",
      "\n",
      "Amador\n",
      "ID: population\n",
      "1341\n",
      "4466\n",
      "22016\n",
      "9011\n",
      "36833\n",
      "\n",
      "Butte\n",
      "ID: population\n",
      "11474\n",
      "33791\n",
      "140503\n",
      "37584\n",
      "223353\n",
      "\n",
      "Calaveras\n",
      "ID: population\n",
      "1692\n",
      "6109\n",
      "26210\n",
      "10992\n",
      "45004\n",
      "\n",
      "Colusa\n",
      "ID: population\n",
      "1590\n",
      "4524\n",
      "13132\n",
      "2837\n",
      "22083\n",
      "\n",
      "Contra Costa\n",
      "ID: population\n",
      "62767\n",
      "189096\n",
      "679089\n",
      "153863\n",
      "1084815\n",
      "\n",
      "Del Norte\n",
      "ID: population\n",
      "1511\n",
      "4144\n",
      "18464\n",
      "4430\n",
      "28549\n",
      "\n",
      "El Dorado\n",
      "ID: population\n",
      "8414\n",
      "29251\n",
      "112898\n",
      "31798\n",
      "182360\n",
      "\n",
      "Fresno\n",
      "ID: population\n",
      "79872\n",
      "199933\n",
      "585623\n",
      "107296\n",
      "972724\n",
      "\n",
      "Glenn\n",
      "ID: population\n",
      "2041\n",
      "5501\n",
      "16985\n",
      "4098\n",
      "28626\n",
      "\n",
      "Humboldt\n",
      "ID: population\n",
      "6806\n",
      "19018\n",
      "88330\n",
      "21237\n",
      "135392\n",
      "\n",
      "Imperial\n",
      "ID: population\n",
      "15369\n",
      "37095\n",
      "112755\n",
      "21524\n",
      "186744\n",
      "\n",
      "Inyo\n",
      "ID: population\n",
      "954\n",
      "2635\n",
      "11232\n",
      "3834\n",
      "18656\n",
      "\n",
      "Kern\n",
      "ID: population\n",
      "73380\n",
      "183155\n",
      "540506\n",
      "90089\n",
      "887129\n",
      "\n",
      "Kings\n",
      "ID: population\n",
      "12201\n",
      "29268\n",
      "99322\n",
      "13938\n",
      "154729\n",
      "\n",
      "Lake\n",
      "ID: population\n",
      "3441\n",
      "9284\n",
      "39190\n",
      "12968\n",
      "64884\n",
      "\n",
      "Lassen\n",
      "ID: population\n",
      "1406\n",
      "4113\n",
      "24387\n",
      "4012\n",
      "33918\n",
      "\n",
      "Los Angeles\n",
      "ID: population\n",
      "670558\n",
      "1651655\n",
      "6497777\n",
      "1205588\n",
      "10025579\n",
      "\n",
      "Madera\n",
      "ID: population\n",
      "11891\n",
      "31124\n",
      "95335\n",
      "19480\n",
      "157830\n",
      "\n",
      "Marin\n",
      "ID: population\n",
      "12575\n",
      "38547\n",
      "155296\n",
      "48456\n",
      "254873\n",
      "\n",
      "Mariposa\n",
      "ID: population\n",
      "723\n",
      "2244\n",
      "10640\n",
      "4337\n",
      "17944\n",
      "\n",
      "Mendocino\n",
      "ID: population\n",
      "5111\n",
      "13673\n",
      "53901\n",
      "16374\n",
      "89059\n",
      "\n",
      "Merced\n",
      "ID: population\n",
      "21018\n",
      "58269\n",
      "161704\n",
      "27856\n",
      "268846\n",
      "\n",
      "Modoc\n",
      "ID: population\n",
      "466\n",
      "1439\n",
      "5456\n",
      "2154\n",
      "9515\n",
      "\n",
      "Mono\n",
      "ID: population\n",
      "857\n",
      "2189\n",
      "9801\n",
      "1658\n",
      "14505\n",
      "\n",
      "Monterey\n",
      "ID: population\n",
      "35503\n",
      "79601\n",
      "266072\n",
      "50352\n",
      "429528\n",
      "\n",
      "Napa\n",
      "ID: population\n",
      "8108\n",
      "22833\n",
      "86074\n",
      "23158\n",
      "140174\n",
      "\n",
      "Nevada\n",
      "ID: population\n",
      "4068\n",
      "13169\n",
      "58682\n",
      "22304\n",
      "98223\n",
      "\n",
      "Orange\n",
      "ID: population\n",
      "197867\n",
      "521905\n",
      "1995613\n",
      "403333\n",
      "3118718\n",
      "\n",
      "Placer\n",
      "ID: population\n",
      "19964\n",
      "63718\n",
      "222081\n",
      "61433\n",
      "367196\n",
      "\n",
      "Plumas\n",
      "ID: population\n",
      "827\n",
      "2425\n",
      "11641\n",
      "4788\n",
      "19680\n",
      "\n",
      "Riverside\n",
      "ID: population\n",
      "157578\n",
      "451550\n",
      "1405703\n",
      "292942\n",
      "2307772\n",
      "\n",
      "Sacramento\n",
      "ID: population\n",
      "99572\n",
      "259294\n",
      "921326\n",
      "183414\n",
      "1463605\n",
      "\n",
      "San Benito\n",
      "ID: population\n",
      "3940\n",
      "11334\n",
      "35680\n",
      "6317\n",
      "57271\n",
      "\n",
      "San Bernardino\n",
      "ID: population\n",
      "156055\n",
      "419543\n",
      "1318404\n",
      "218303\n",
      "2112305\n",
      "\n",
      "San Diego\n",
      "ID: population\n",
      "213088\n",
      "512931\n",
      "2072631\n",
      "399513\n",
      "3198165\n",
      "\n",
      "San Francisco\n",
      "ID: population\n",
      "43660\n",
      "79674\n",
      "586185\n",
      "120601\n",
      "830120\n",
      "\n",
      "San Joaquin\n",
      "ID: population\n",
      "52671\n",
      "144221\n",
      "435432\n",
      "83055\n",
      "715379\n",
      "\n",
      "San Luis Obispo\n",
      "ID: population\n",
      "13043\n",
      "36847\n",
      "176281\n",
      "46397\n",
      "272568\n",
      "\n",
      "San Mateo\n",
      "ID: population\n",
      "47224\n",
      "116676\n",
      "472766\n",
      "108996\n",
      "745661\n",
      "\n",
      "Santa Barbara\n",
      "ID: population\n",
      "27955\n",
      "70071\n",
      "275947\n",
      "58856\n",
      "432830\n",
      "\n",
      "Santa Clara\n",
      "ID: population\n",
      "124223\n",
      "318033\n",
      "1191141\n",
      "226677\n",
      "1860074\n",
      "\n",
      "Santa Cruz\n",
      "ID: population\n",
      "16058\n",
      "39954\n",
      "178292\n",
      "35566\n",
      "269871\n",
      "\n",
      "Shasta\n",
      "ID: population\n",
      "10519\n",
      "28013\n",
      "107479\n",
      "34243\n",
      "180254\n",
      "\n",
      "Sierra\n",
      "ID: population\n",
      "116\n",
      "333\n",
      "1834\n",
      "778\n",
      "3062\n",
      "\n",
      "Siskiyou\n",
      "ID: population\n",
      "2156\n",
      "6483\n",
      "25895\n",
      "10033\n",
      "44567\n",
      "\n",
      "Solano\n",
      "ID: population\n",
      "25366\n",
      "71357\n",
      "267783\n",
      "56750\n",
      "421256\n",
      "\n",
      "Sonoma\n",
      "ID: population\n",
      "27515\n",
      "76783\n",
      "309744\n",
      "79629\n",
      "493671\n",
      "\n",
      "Stanislaus\n",
      "ID: population\n",
      "45343\n",
      "124971\n",
      "314766\n",
      "54219\n",
      "539299\n",
      "\n",
      "Sutter\n",
      "ID: population\n",
      "8036\n",
      "21164\n",
      "56651\n",
      "11949\n",
      "97800\n",
      "\n",
      "Tehama\n",
      "ID: population\n",
      "3813\n",
      "11325\n",
      "37692\n",
      "11418\n",
      "64249\n",
      "\n",
      "Trinity\n",
      "ID: population\n",
      "553\n",
      "1662\n",
      "8079\n",
      "3180\n",
      "13475\n",
      "\n",
      "Tulare\n",
      "ID: population\n",
      "40537\n",
      "103935\n",
      "272249\n",
      "48596\n",
      "465316\n",
      "\n",
      "Tuolumne\n",
      "ID: population\n",
      "2205\n",
      "6737\n",
      "32756\n",
      "12502\n",
      "54201\n",
      "\n",
      "Ventura\n",
      "ID: population\n",
      "55653\n",
      "149248\n",
      "529640\n",
      "111865\n",
      "846407\n",
      "\n",
      "Yolo\n",
      "ID: population\n",
      "11672\n",
      "31724\n",
      "140466\n",
      "23450\n",
      "207312\n",
      "\n",
      "Yuba\n",
      "ID: population\n",
      "5934\n",
      "14672\n",
      "45426\n",
      "8591\n",
      "74624\n",
      "\n"
     ]
    }
   ],
   "source": [
    "dict_tmp = {}\n",
    "\n",
    "for i in xrange(N_counties):\n",
    "    print county_name[i]\n",
    "    line= county_name[i]\n",
    "\n",
    "    try:\n",
    "        response = requests.get(baseurl+county_url[i])\n",
    "    except:\n",
    "        print 'Failed to get url page %s' % url+county_url[i]\n",
    "\n",
    "    soup = BeautifulSoup(response.text, 'lxml')\n",
    "\n",
    "    # Find all tables containing data in the web page\n",
    "    html_entries = soup.find_all('table',attrs={'class': 'datatable'})\n",
    "#     print 'Found %d tables' % len(html_entries)\n",
    "\n",
    "    # Population data is in first table\n",
    "    ind= 0\n",
    "    table = html_entries[ind]\n",
    "    try:\n",
    "        print 'ID:', table['id']\n",
    "    except:\n",
    "        pass    \n",
    "\n",
    "    rows = table.find_all('tr')\n",
    "\n",
    "\n",
    "    # Get the data for each county\n",
    "    dict_tmp[county_name[i]] = []\n",
    "    for j in xrange(1,len(rows)): # ignore first row: table header\n",
    "        row= rows[j]\n",
    "        col= row.find_all('td')[0] # get the first table value\n",
    "        val= eval(col.get_text().replace(',','')) # correct for all the thousands commas e.g., 10,000 to 10000\n",
    "        print '%d' % (val)\n",
    "        line= line+','+np.str(val)\n",
    "\n",
    "    print ''\n",
    "    fout.write(line+'\\n')\n",
    "\n",
    "fout.close()"
   ]
  },
  {
   "cell_type": "markdown",
   "metadata": {},
   "source": [
    "### Get ethnicity data"
   ]
  },
  {
   "cell_type": "code",
   "execution_count": null,
   "metadata": {
    "collapsed": true
   },
   "outputs": [],
   "source": []
  },
  {
   "cell_type": "code",
   "execution_count": null,
   "metadata": {
    "collapsed": true
   },
   "outputs": [],
   "source": []
  },
  {
   "cell_type": "code",
   "execution_count": null,
   "metadata": {
    "collapsed": true
   },
   "outputs": [],
   "source": []
  },
  {
   "cell_type": "code",
   "execution_count": null,
   "metadata": {
    "collapsed": true
   },
   "outputs": [],
   "source": []
  },
  {
   "cell_type": "code",
   "execution_count": null,
   "metadata": {
    "collapsed": true
   },
   "outputs": [],
   "source": []
  },
  {
   "cell_type": "code",
   "execution_count": 14,
   "metadata": {
    "collapsed": false
   },
   "outputs": [
    {
     "name": "stdout",
     "output_type": "stream",
     "text": [
      "population\n",
      "ethnicity\n",
      "prevalence\n",
      "prevalence\n",
      "riskfactors\n",
      "No id found\n",
      "No id found\n",
      "No id found\n",
      "numhospitalizations\n",
      "No id found\n",
      "No id found\n",
      "disparities\n",
      "hosprates\n",
      "hospitals\n",
      "edvisits\n"
     ]
    }
   ],
   "source": [
    "for t in html_entries:\n",
    "    try:\n",
    "        print t['id']\n",
    "    except:\n",
    "        print 'No id found'"
   ]
  },
  {
   "cell_type": "markdown",
   "metadata": {
    "collapsed": true
   },
   "source": [
    "Datas of interest are 0,1,4,..."
   ]
  }
 ],
 "metadata": {
  "kernelspec": {
   "display_name": "Python [conda env:insight]",
   "language": "python",
   "name": "conda-env-insight-py"
  },
  "language_info": {
   "codemirror_mode": {
    "name": "ipython",
    "version": 2
   },
   "file_extension": ".py",
   "mimetype": "text/x-python",
   "name": "python",
   "nbconvert_exporter": "python",
   "pygments_lexer": "ipython2",
   "version": "2.7.13"
  }
 },
 "nbformat": 4,
 "nbformat_minor": 2
}
