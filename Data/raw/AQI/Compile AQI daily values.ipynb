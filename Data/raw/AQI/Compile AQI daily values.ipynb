{
 "cells": [
  {
   "cell_type": "markdown",
   "metadata": {},
   "source": [
    "# Get overall AQI values for each county"
   ]
  },
  {
   "cell_type": "code",
   "execution_count": 1,
   "metadata": {
    "collapsed": true
   },
   "outputs": [],
   "source": [
    "%matplotlib inline\n",
    "\n",
    "import numpy as np\n",
    "import os\n",
    "import json"
   ]
  },
  {
   "cell_type": "markdown",
   "metadata": {},
   "source": [
    "Get the list of the counties"
   ]
  },
  {
   "cell_type": "code",
   "execution_count": 6,
   "metadata": {
    "collapsed": false
   },
   "outputs": [],
   "source": [
    "fin= open('../../county_names.json','r')\n",
    "county_names= json.load(fin)"
   ]
  },
  {
   "cell_type": "markdown",
   "metadata": {},
   "source": [
    "### Get daily information from each file for each county and compile it into a row"
   ]
  },
  {
   "cell_type": "code",
   "execution_count": 7,
   "metadata": {
    "collapsed": true
   },
   "outputs": [],
   "source": [
    "year='2015'"
   ]
  },
  {
   "cell_type": "code",
   "execution_count": 8,
   "metadata": {
    "collapsed": false
   },
   "outputs": [],
   "source": [
    "list_files = os.listdir('./')\n",
    "prefix= 'aqidaily'+year\n",
    "list_files= np.sort([u for u in list_files if u[:len(prefix)]==prefix])"
   ]
  },
  {
   "cell_type": "markdown",
   "metadata": {},
   "source": [
    "Data will be saved in csv format"
   ]
  },
  {
   "cell_type": "code",
   "execution_count": 16,
   "metadata": {
    "collapsed": true
   },
   "outputs": [],
   "source": [
    "filename = 'AQI_%s_byCounty.csv' % year\n",
    "fout = open(filename, 'w')"
   ]
  },
  {
   "cell_type": "markdown",
   "metadata": {},
   "source": [
    "Write header"
   ]
  },
  {
   "cell_type": "code",
   "execution_count": 17,
   "metadata": {
    "collapsed": true
   },
   "outputs": [],
   "source": [
    "line ='County,Year,Average AQI,Maximum AQI,IQR AQI'\n",
    "fout.write(line+'\\n')"
   ]
  },
  {
   "cell_type": "markdown",
   "metadata": {},
   "source": [
    "Calculate average AQI values, the maximum AQI, as well as the IQR (interquartile range)"
   ]
  },
  {
   "cell_type": "code",
   "execution_count": 18,
   "metadata": {
    "collapsed": false,
    "scrolled": true
   },
   "outputs": [
    {
     "name": "stdout",
     "output_type": "stream",
     "text": [
      "No data found for Alpine county\n",
      "No data found for Lassen county\n",
      "No data found for Modoc county\n",
      "No data found for Sierra county\n",
      "No data found for Yuba county\n"
     ]
    }
   ],
   "source": [
    "for county in county_names:\n",
    "    filename = 'aqidaily'+year+'_'+county.title().replace(' ','_')+'.csv'\n",
    "#     county= filename[len(prefix)+1:-4].replace('_',' ').title()\n",
    "    line= county+','+year\n",
    "\n",
    "    try:\n",
    "        daily_AQI = np.genfromtxt(filename, delimiter=',', usecols=(2,), skip_header=1, dtype=np.float)\n",
    "        avg_AQI = np.mean(daily_AQI)\n",
    "        max_AQI = np.max(daily_AQI)\n",
    "        iqr_AQI = np.percentile(daily_AQI,75) - np.percentile(daily_AQI,25)\n",
    "        line = line+',%.2f,%.1f,%.1f' % (avg_AQI, max_AQI, iqr_AQI)\n",
    "    except:\n",
    "        print 'No data found for %s county' % county\n",
    "        line = line+',,,'\n",
    "    fout.write(line+'\\n')\n",
    "\n",
    "fout.close()"
   ]
  }
 ],
 "metadata": {
  "kernelspec": {
   "display_name": "Python [conda env:insight]",
   "language": "python",
   "name": "conda-env-insight-py"
  },
  "language_info": {
   "codemirror_mode": {
    "name": "ipython",
    "version": 2
   },
   "file_extension": ".py",
   "mimetype": "text/x-python",
   "name": "python",
   "nbconvert_exporter": "python",
   "pygments_lexer": "ipython2",
   "version": "2.7.13"
  }
 },
 "nbformat": 4,
 "nbformat_minor": 2
}
