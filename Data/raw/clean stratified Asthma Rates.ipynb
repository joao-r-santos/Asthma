{
 "cells": [
  {
   "cell_type": "code",
   "execution_count": 1,
   "metadata": {
    "collapsed": true
   },
   "outputs": [],
   "source": [
    "%matplotlib inline\n",
    "\n",
    "import pandas as pd\n",
    "import numpy as np\n",
    "import matplotlib.pyplot as plt"
   ]
  },
  {
   "cell_type": "code",
   "execution_count": 2,
   "metadata": {
    "collapsed": true
   },
   "outputs": [],
   "source": [
    "params = { 'axes.grid': True\n",
    "          ,'axes.axisbelow': True\n",
    "          ,'grid.color': '0.5'\n",
    "          ,'legend.numpoints': 1\n",
    "          ,'savefig.bbox': 'tight'\n",
    "          ,'font.size': 16\n",
    "          ,'legend.loc': 'best'\n",
    "          ,'legend.fontsize': 'medium'\n",
    "          #,'lines.markersize': 6\n",
    "          ,'xtick.labelsize': 'small'\n",
    "          ,'ytick.labelsize': 'small'\n",
    "          #,'xtick.direction': 'out'\n",
    "          #,'ytick.direction': 'out'\n",
    "          #,'text.usetex': False\n",
    "          ,'figure.figsize': [8, 6]\n",
    "          #,'axes.labelsize': 'large'   # no need to change these sizes, just change font.size\n",
    "          #,'axes.titlesize': 'x-large'\n",
    "          ,'axes.formatter.useoffset': False\n",
    "}\n",
    "plt.rcParams.update(params)"
   ]
  },
  {
   "cell_type": "markdown",
   "metadata": {},
   "source": [
    "# Get county data"
   ]
  },
  {
   "cell_type": "code",
   "execution_count": 3,
   "metadata": {
    "collapsed": true
   },
   "outputs": [],
   "source": [
    "County_info_df= pd.read_csv('../county_info.csv')"
   ]
  },
  {
   "cell_type": "code",
   "execution_count": 4,
   "metadata": {
    "collapsed": false
   },
   "outputs": [
    {
     "data": {
      "text/plain": [
       "Index([u'County', u'FIPS'], dtype='object')"
      ]
     },
     "execution_count": 4,
     "metadata": {},
     "output_type": "execute_result"
    }
   ],
   "source": [
    "County_info_df.columns"
   ]
  },
  {
   "cell_type": "code",
   "execution_count": 6,
   "metadata": {
    "collapsed": false
   },
   "outputs": [
    {
     "name": "stdout",
     "output_type": "stream",
     "text": [
      "Number of counties: 58\n",
      "\n",
      "0             Alameda\n",
      "1              Alpine\n",
      "2              Amador\n",
      "3               Butte\n",
      "4           Calaveras\n",
      "5              Colusa\n",
      "6        Contra Costa\n",
      "7           Del Norte\n",
      "8           El Dorado\n",
      "9              Fresno\n",
      "10              Glenn\n",
      "11           Humboldt\n",
      "12           Imperial\n",
      "13               Inyo\n",
      "14               Kern\n",
      "15              Kings\n",
      "16               Lake\n",
      "17             Lassen\n",
      "18        Los Angeles\n",
      "19             Madera\n",
      "20              Marin\n",
      "21           Mariposa\n",
      "22          Mendocino\n",
      "23             Merced\n",
      "24              Modoc\n",
      "25               Mono\n",
      "26           Monterey\n",
      "27               Napa\n",
      "28             Nevada\n",
      "29             Orange\n",
      "30             Placer\n",
      "31             Plumas\n",
      "32          Riverside\n",
      "33         Sacramento\n",
      "34         San Benito\n",
      "35     San Bernardino\n",
      "36          San Diego\n",
      "37      San Francisco\n",
      "38        San Joaquin\n",
      "39    San Luis Obispo\n",
      "40          San Mateo\n",
      "41      Santa Barbara\n",
      "42        Santa Clara\n",
      "43         Santa Cruz\n",
      "44             Shasta\n",
      "45             Sierra\n",
      "46           Siskiyou\n",
      "47             Solano\n",
      "48             Sonoma\n",
      "49         Stanislaus\n",
      "50             Sutter\n",
      "51             Tehama\n",
      "52            Trinity\n",
      "53             Tulare\n",
      "54           Tuolumne\n",
      "55            Ventura\n",
      "56               Yolo\n",
      "57               Yuba\n",
      "Name: County, dtype: object\n"
     ]
    }
   ],
   "source": [
    "print 'Number of counties: %d' % len(County_info_df)\n",
    "print ''\n",
    "print County_info_df['County']"
   ]
  },
  {
   "cell_type": "markdown",
   "metadata": {},
   "source": [
    "# Check the ED visits data"
   ]
  },
  {
   "cell_type": "code",
   "execution_count": 7,
   "metadata": {
    "collapsed": true
   },
   "outputs": [],
   "source": [
    "ED_visits_df= pd.read_csv('ASED_0514.csv')"
   ]
  },
  {
   "cell_type": "code",
   "execution_count": 8,
   "metadata": {
    "collapsed": false
   },
   "outputs": [
    {
     "data": {
      "text/plain": [
       "Index([u'FIPS', u'Year', u'Value', u'Value Type', u'Ethnicity', u'Age',\n",
       "       u'Gender'],\n",
       "      dtype='object')"
      ]
     },
     "execution_count": 8,
     "metadata": {},
     "output_type": "execute_result"
    }
   ],
   "source": [
    "ED_visits_df.columns"
   ]
  },
  {
   "cell_type": "code",
   "execution_count": 9,
   "metadata": {
    "collapsed": false
   },
   "outputs": [
    {
     "data": {
      "text/html": [
       "<div>\n",
       "<table border=\"1\" class=\"dataframe\">\n",
       "  <thead>\n",
       "    <tr style=\"text-align: right;\">\n",
       "      <th></th>\n",
       "      <th>FIPS</th>\n",
       "      <th>Year</th>\n",
       "      <th>Value</th>\n",
       "    </tr>\n",
       "  </thead>\n",
       "  <tbody>\n",
       "    <tr>\n",
       "      <th>count</th>\n",
       "      <td>142200.000000</td>\n",
       "      <td>142200.000000</td>\n",
       "      <td>142194.000000</td>\n",
       "    </tr>\n",
       "    <tr>\n",
       "      <th>mean</th>\n",
       "      <td>6058.954149</td>\n",
       "      <td>2009.521435</td>\n",
       "      <td>261.302678</td>\n",
       "    </tr>\n",
       "    <tr>\n",
       "      <th>std</th>\n",
       "      <td>33.188348</td>\n",
       "      <td>2.878453</td>\n",
       "      <td>2389.383971</td>\n",
       "    </tr>\n",
       "    <tr>\n",
       "      <th>min</th>\n",
       "      <td>6000.000000</td>\n",
       "      <td>2005.000000</td>\n",
       "      <td>1.540000</td>\n",
       "    </tr>\n",
       "    <tr>\n",
       "      <th>25%</th>\n",
       "      <td>6031.000000</td>\n",
       "      <td>2007.000000</td>\n",
       "      <td>33.870000</td>\n",
       "    </tr>\n",
       "    <tr>\n",
       "      <th>50%</th>\n",
       "      <td>6065.000000</td>\n",
       "      <td>2010.000000</td>\n",
       "      <td>58.460000</td>\n",
       "    </tr>\n",
       "    <tr>\n",
       "      <th>75%</th>\n",
       "      <td>6085.000000</td>\n",
       "      <td>2012.000000</td>\n",
       "      <td>121.000000</td>\n",
       "    </tr>\n",
       "    <tr>\n",
       "      <th>max</th>\n",
       "      <td>6115.000000</td>\n",
       "      <td>2014.000000</td>\n",
       "      <td>186540.000000</td>\n",
       "    </tr>\n",
       "  </tbody>\n",
       "</table>\n",
       "</div>"
      ],
      "text/plain": [
       "                FIPS           Year          Value\n",
       "count  142200.000000  142200.000000  142194.000000\n",
       "mean     6058.954149    2009.521435     261.302678\n",
       "std        33.188348       2.878453    2389.383971\n",
       "min      6000.000000    2005.000000       1.540000\n",
       "25%      6031.000000    2007.000000      33.870000\n",
       "50%      6065.000000    2010.000000      58.460000\n",
       "75%      6085.000000    2012.000000     121.000000\n",
       "max      6115.000000    2014.000000  186540.000000"
      ]
     },
     "execution_count": 9,
     "metadata": {},
     "output_type": "execute_result"
    }
   ],
   "source": [
    "ED_visits_df.describe()"
   ]
  },
  {
   "cell_type": "code",
   "execution_count": 10,
   "metadata": {
    "collapsed": false
   },
   "outputs": [
    {
     "name": "stdout",
     "output_type": "stream",
     "text": [
      "[6000 6001 6005 6007 6009 6011 6013 6015 6017 6019 6021 6023 6025 6027 6029\n",
      " 6031 6033 6035 6037 6039 6041 6043 6045 6047 6049 6051 6053 6055 6057 6059\n",
      " 6061 6063 6065 6067 6069 6071 6073 6075 6077 6079 6081 6083 6085 6087 6089\n",
      " 6091 6093 6095 6097 6099 6101 6103 6105 6107 6109 6111 6113 6115]\n",
      "58\n"
     ]
    }
   ],
   "source": [
    "print ED_visits_df['FIPS'].sort_values().unique()\n",
    "print len(ED_visits_df['FIPS'].unique())"
   ]
  },
  {
   "cell_type": "markdown",
   "metadata": {},
   "source": [
    "We have a code for California (6000) but no code for Alpine (6003)"
   ]
  },
  {
   "cell_type": "code",
   "execution_count": 11,
   "metadata": {
    "collapsed": false
   },
   "outputs": [],
   "source": [
    "ED_visits_df= ED_visits_df[ED_visits_df['FIPS']!=6000]"
   ]
  },
  {
   "cell_type": "markdown",
   "metadata": {},
   "source": [
    "Get only kids with ages bellow 18"
   ]
  },
  {
   "cell_type": "code",
   "execution_count": 12,
   "metadata": {
    "collapsed": false
   },
   "outputs": [
    {
     "data": {
      "text/plain": [
       "array(['0004', '0517', '1834', '3564', '65OV', 'TOTL'], dtype=object)"
      ]
     },
     "execution_count": 12,
     "metadata": {},
     "output_type": "execute_result"
    }
   ],
   "source": [
    "ED_visits_df['Age'].unique()"
   ]
  },
  {
   "cell_type": "code",
   "execution_count": 13,
   "metadata": {
    "collapsed": false
   },
   "outputs": [],
   "source": [
    "ED_visits_df= ED_visits_df[(ED_visits_df['Age']=='0004') | (ED_visits_df['Age']=='0517')]"
   ]
  },
  {
   "cell_type": "code",
   "execution_count": 14,
   "metadata": {
    "collapsed": false
   },
   "outputs": [
    {
     "data": {
      "text/plain": [
       "array(['0004', '0517'], dtype=object)"
      ]
     },
     "execution_count": 14,
     "metadata": {},
     "output_type": "execute_result"
    }
   ],
   "source": [
    "ED_visits_df['Age'].unique()"
   ]
  },
  {
   "cell_type": "markdown",
   "metadata": {},
   "source": [
    "Let's separate the number and rates into different columns"
   ]
  },
  {
   "cell_type": "code",
   "execution_count": 15,
   "metadata": {
    "collapsed": false
   },
   "outputs": [
    {
     "data": {
      "text/plain": [
       "array(['N', 'R10K', 'R10KLL', 'R10KUL'], dtype=object)"
      ]
     },
     "execution_count": 15,
     "metadata": {},
     "output_type": "execute_result"
    }
   ],
   "source": [
    "ED_visits_df['Value Type'].unique()"
   ]
  },
  {
   "cell_type": "code",
   "execution_count": 16,
   "metadata": {
    "collapsed": false
   },
   "outputs": [
    {
     "name": "stdout",
     "output_type": "stream",
     "text": [
      "10584\n"
     ]
    }
   ],
   "source": [
    "number_ED_visits_df= ED_visits_df[ED_visits_df['Value Type']=='N']\n",
    "number_ED_visits_df= number_ED_visits_df.rename(columns={'Value':'Number'})\n",
    "number_ED_visits_df= number_ED_visits_df.drop('Value Type', axis=1)\n",
    "print len(number_ED_visits_df)"
   ]
  },
  {
   "cell_type": "code",
   "execution_count": 17,
   "metadata": {
    "collapsed": false
   },
   "outputs": [
    {
     "data": {
      "text/html": [
       "<div>\n",
       "<table border=\"1\" class=\"dataframe\">\n",
       "  <thead>\n",
       "    <tr style=\"text-align: right;\">\n",
       "      <th></th>\n",
       "      <th>FIPS</th>\n",
       "      <th>Year</th>\n",
       "      <th>Number</th>\n",
       "      <th>Ethnicity</th>\n",
       "      <th>Age</th>\n",
       "      <th>Gender</th>\n",
       "    </tr>\n",
       "  </thead>\n",
       "  <tbody>\n",
       "    <tr>\n",
       "      <th>4320</th>\n",
       "      <td>6001</td>\n",
       "      <td>2005</td>\n",
       "      <td>257.0</td>\n",
       "      <td>AFAM</td>\n",
       "      <td>0004</td>\n",
       "      <td>FEML</td>\n",
       "    </tr>\n",
       "    <tr>\n",
       "      <th>4321</th>\n",
       "      <td>6001</td>\n",
       "      <td>2005</td>\n",
       "      <td>420.0</td>\n",
       "      <td>AFAM</td>\n",
       "      <td>0004</td>\n",
       "      <td>MALE</td>\n",
       "    </tr>\n",
       "    <tr>\n",
       "      <th>4322</th>\n",
       "      <td>6001</td>\n",
       "      <td>2005</td>\n",
       "      <td>677.0</td>\n",
       "      <td>AFAM</td>\n",
       "      <td>0004</td>\n",
       "      <td>TOTL</td>\n",
       "    </tr>\n",
       "    <tr>\n",
       "      <th>4323</th>\n",
       "      <td>6001</td>\n",
       "      <td>2005</td>\n",
       "      <td>406.0</td>\n",
       "      <td>AFAM</td>\n",
       "      <td>0517</td>\n",
       "      <td>FEML</td>\n",
       "    </tr>\n",
       "    <tr>\n",
       "      <th>4324</th>\n",
       "      <td>6001</td>\n",
       "      <td>2005</td>\n",
       "      <td>461.0</td>\n",
       "      <td>AFAM</td>\n",
       "      <td>0517</td>\n",
       "      <td>MALE</td>\n",
       "    </tr>\n",
       "  </tbody>\n",
       "</table>\n",
       "</div>"
      ],
      "text/plain": [
       "      FIPS  Year  Number Ethnicity   Age Gender\n",
       "4320  6001  2005   257.0      AFAM  0004   FEML\n",
       "4321  6001  2005   420.0      AFAM  0004   MALE\n",
       "4322  6001  2005   677.0      AFAM  0004   TOTL\n",
       "4323  6001  2005   406.0      AFAM  0517   FEML\n",
       "4324  6001  2005   461.0      AFAM  0517   MALE"
      ]
     },
     "execution_count": 17,
     "metadata": {},
     "output_type": "execute_result"
    }
   ],
   "source": [
    "number_ED_visits_df.head()"
   ]
  },
  {
   "cell_type": "code",
   "execution_count": 18,
   "metadata": {
    "collapsed": false
   },
   "outputs": [
    {
     "name": "stdout",
     "output_type": "stream",
     "text": [
      "10584\n"
     ]
    }
   ],
   "source": [
    "rates_ED_visits_df= ED_visits_df[ED_visits_df['Value Type']=='R10K']\n",
    "rates_ED_visits_df= rates_ED_visits_df.rename(columns={'Value':'Rates'})\n",
    "rates_ED_visits_df= rates_ED_visits_df.drop('Value Type', axis=1)\n",
    "print len(rates_ED_visits_df)"
   ]
  },
  {
   "cell_type": "code",
   "execution_count": 19,
   "metadata": {
    "collapsed": false
   },
   "outputs": [
    {
     "data": {
      "text/html": [
       "<div>\n",
       "<table border=\"1\" class=\"dataframe\">\n",
       "  <thead>\n",
       "    <tr style=\"text-align: right;\">\n",
       "      <th></th>\n",
       "      <th>FIPS</th>\n",
       "      <th>Year</th>\n",
       "      <th>Rates</th>\n",
       "      <th>Ethnicity</th>\n",
       "      <th>Age</th>\n",
       "      <th>Gender</th>\n",
       "    </tr>\n",
       "  </thead>\n",
       "  <tbody>\n",
       "    <tr>\n",
       "      <th>4428</th>\n",
       "      <td>6001</td>\n",
       "      <td>2005</td>\n",
       "      <td>448.28</td>\n",
       "      <td>AFAM</td>\n",
       "      <td>0004</td>\n",
       "      <td>FEML</td>\n",
       "    </tr>\n",
       "    <tr>\n",
       "      <th>4429</th>\n",
       "      <td>6001</td>\n",
       "      <td>2005</td>\n",
       "      <td>708.98</td>\n",
       "      <td>AFAM</td>\n",
       "      <td>0004</td>\n",
       "      <td>MALE</td>\n",
       "    </tr>\n",
       "    <tr>\n",
       "      <th>4430</th>\n",
       "      <td>6001</td>\n",
       "      <td>2005</td>\n",
       "      <td>580.77</td>\n",
       "      <td>AFAM</td>\n",
       "      <td>0004</td>\n",
       "      <td>TOTL</td>\n",
       "    </tr>\n",
       "    <tr>\n",
       "      <th>4431</th>\n",
       "      <td>6001</td>\n",
       "      <td>2005</td>\n",
       "      <td>221.79</td>\n",
       "      <td>AFAM</td>\n",
       "      <td>0517</td>\n",
       "      <td>FEML</td>\n",
       "    </tr>\n",
       "    <tr>\n",
       "      <th>4432</th>\n",
       "      <td>6001</td>\n",
       "      <td>2005</td>\n",
       "      <td>254.14</td>\n",
       "      <td>AFAM</td>\n",
       "      <td>0517</td>\n",
       "      <td>MALE</td>\n",
       "    </tr>\n",
       "  </tbody>\n",
       "</table>\n",
       "</div>"
      ],
      "text/plain": [
       "      FIPS  Year   Rates Ethnicity   Age Gender\n",
       "4428  6001  2005  448.28      AFAM  0004   FEML\n",
       "4429  6001  2005  708.98      AFAM  0004   MALE\n",
       "4430  6001  2005  580.77      AFAM  0004   TOTL\n",
       "4431  6001  2005  221.79      AFAM  0517   FEML\n",
       "4432  6001  2005  254.14      AFAM  0517   MALE"
      ]
     },
     "execution_count": 19,
     "metadata": {},
     "output_type": "execute_result"
    }
   ],
   "source": [
    "rates_ED_visits_df.head()"
   ]
  },
  {
   "cell_type": "markdown",
   "metadata": {},
   "source": [
    "Join the databases"
   ]
  },
  {
   "cell_type": "code",
   "execution_count": 20,
   "metadata": {
    "collapsed": false
   },
   "outputs": [
    {
     "name": "stdout",
     "output_type": "stream",
     "text": [
      "10584\n"
     ]
    }
   ],
   "source": [
    "ED_df= pd.merge(number_ED_visits_df,rates_ED_visits_df,how='inner',on=['FIPS','Year','Ethnicity','Age','Gender'])\n",
    "print len(ED_df)"
   ]
  },
  {
   "cell_type": "code",
   "execution_count": 21,
   "metadata": {
    "collapsed": false
   },
   "outputs": [
    {
     "data": {
      "text/html": [
       "<div>\n",
       "<table border=\"1\" class=\"dataframe\">\n",
       "  <thead>\n",
       "    <tr style=\"text-align: right;\">\n",
       "      <th></th>\n",
       "      <th>FIPS</th>\n",
       "      <th>Year</th>\n",
       "      <th>Number</th>\n",
       "      <th>Ethnicity</th>\n",
       "      <th>Age</th>\n",
       "      <th>Gender</th>\n",
       "      <th>Rates</th>\n",
       "    </tr>\n",
       "  </thead>\n",
       "  <tbody>\n",
       "    <tr>\n",
       "      <th>0</th>\n",
       "      <td>6001</td>\n",
       "      <td>2005</td>\n",
       "      <td>257.0</td>\n",
       "      <td>AFAM</td>\n",
       "      <td>0004</td>\n",
       "      <td>FEML</td>\n",
       "      <td>448.28</td>\n",
       "    </tr>\n",
       "    <tr>\n",
       "      <th>1</th>\n",
       "      <td>6001</td>\n",
       "      <td>2005</td>\n",
       "      <td>420.0</td>\n",
       "      <td>AFAM</td>\n",
       "      <td>0004</td>\n",
       "      <td>MALE</td>\n",
       "      <td>708.98</td>\n",
       "    </tr>\n",
       "    <tr>\n",
       "      <th>2</th>\n",
       "      <td>6001</td>\n",
       "      <td>2005</td>\n",
       "      <td>677.0</td>\n",
       "      <td>AFAM</td>\n",
       "      <td>0004</td>\n",
       "      <td>TOTL</td>\n",
       "      <td>580.77</td>\n",
       "    </tr>\n",
       "    <tr>\n",
       "      <th>3</th>\n",
       "      <td>6001</td>\n",
       "      <td>2005</td>\n",
       "      <td>406.0</td>\n",
       "      <td>AFAM</td>\n",
       "      <td>0517</td>\n",
       "      <td>FEML</td>\n",
       "      <td>221.79</td>\n",
       "    </tr>\n",
       "    <tr>\n",
       "      <th>4</th>\n",
       "      <td>6001</td>\n",
       "      <td>2005</td>\n",
       "      <td>461.0</td>\n",
       "      <td>AFAM</td>\n",
       "      <td>0517</td>\n",
       "      <td>MALE</td>\n",
       "      <td>254.14</td>\n",
       "    </tr>\n",
       "  </tbody>\n",
       "</table>\n",
       "</div>"
      ],
      "text/plain": [
       "   FIPS  Year  Number Ethnicity   Age Gender   Rates\n",
       "0  6001  2005   257.0      AFAM  0004   FEML  448.28\n",
       "1  6001  2005   420.0      AFAM  0004   MALE  708.98\n",
       "2  6001  2005   677.0      AFAM  0004   TOTL  580.77\n",
       "3  6001  2005   406.0      AFAM  0517   FEML  221.79\n",
       "4  6001  2005   461.0      AFAM  0517   MALE  254.14"
      ]
     },
     "execution_count": 21,
     "metadata": {},
     "output_type": "execute_result"
    }
   ],
   "source": [
    "ED_df.head()"
   ]
  },
  {
   "cell_type": "markdown",
   "metadata": {},
   "source": [
    "Drop all rows with totals"
   ]
  },
  {
   "cell_type": "code",
   "execution_count": 22,
   "metadata": {
    "collapsed": false
   },
   "outputs": [],
   "source": [
    "ED_df= ED_df[ED_df['Gender']!='TOTL']"
   ]
  },
  {
   "cell_type": "code",
   "execution_count": 23,
   "metadata": {
    "collapsed": false
   },
   "outputs": [],
   "source": [
    "ED_df= ED_df[ED_df['Ethnicity']!='TOTL']"
   ]
  },
  {
   "cell_type": "code",
   "execution_count": 24,
   "metadata": {
    "collapsed": false
   },
   "outputs": [
    {
     "data": {
      "text/plain": [
       "FIPS         False\n",
       "Year         False\n",
       "Number       False\n",
       "Ethnicity    False\n",
       "Age          False\n",
       "Gender       False\n",
       "Rates        False\n",
       "dtype: bool"
      ]
     },
     "execution_count": 24,
     "metadata": {},
     "output_type": "execute_result"
    }
   ],
   "source": [
    "# Confirming there's no NaN values\n",
    "ED_df.isnull().any(0)"
   ]
  },
  {
   "cell_type": "markdown",
   "metadata": {},
   "source": [
    "Create number variables for the category variables"
   ]
  },
  {
   "cell_type": "code",
   "execution_count": 25,
   "metadata": {
    "collapsed": true
   },
   "outputs": [],
   "source": [
    "ED_df['Age (<4)']= [0]*len(ED_df)\n",
    "\n",
    "ED_df['Gender (M)']= [0]*len(ED_df)\n",
    "\n",
    "ED_df['White']= [0]*len(ED_df)\n",
    "ED_df['African']= [0]*len(ED_df)\n",
    "ED_df['Asian']= [0]*len(ED_df)\n",
    "ED_df['Hispanic']= [0]*len(ED_df)\n",
    "ED_df['Other Ethnicity']= [0]*len(ED_df)"
   ]
  },
  {
   "cell_type": "code",
   "execution_count": 26,
   "metadata": {
    "collapsed": false
   },
   "outputs": [],
   "source": [
    "ED_df.loc[ED_df['Age']=='0004','Age (<4)']= 1"
   ]
  },
  {
   "cell_type": "code",
   "execution_count": 27,
   "metadata": {
    "collapsed": true
   },
   "outputs": [],
   "source": [
    "ED_df.loc[ED_df['Gender']=='MALE','Gender (M)']= 1"
   ]
  },
  {
   "cell_type": "code",
   "execution_count": 28,
   "metadata": {
    "collapsed": true
   },
   "outputs": [],
   "source": [
    "ED_df.loc[ED_df['Ethnicity']=='WHIT','White']= 1\n",
    "ED_df.loc[ED_df['Ethnicity']=='AFAM','African']= 1\n",
    "ED_df.loc[ED_df['Ethnicity']=='ASPI','Asian']= 1\n",
    "ED_df.loc[ED_df['Ethnicity']=='HISP','Hispanic']= 1\n",
    "ED_df.loc[ED_df['Ethnicity']=='OTHR','Other Ethnicity']= 1"
   ]
  },
  {
   "cell_type": "code",
   "execution_count": 29,
   "metadata": {
    "collapsed": false
   },
   "outputs": [
    {
     "data": {
      "text/html": [
       "<div>\n",
       "<table border=\"1\" class=\"dataframe\">\n",
       "  <thead>\n",
       "    <tr style=\"text-align: right;\">\n",
       "      <th></th>\n",
       "      <th>FIPS</th>\n",
       "      <th>Year</th>\n",
       "      <th>Number</th>\n",
       "      <th>Ethnicity</th>\n",
       "      <th>Age</th>\n",
       "      <th>Gender</th>\n",
       "      <th>Rates</th>\n",
       "      <th>Age (&lt;4)</th>\n",
       "      <th>Gender (M)</th>\n",
       "      <th>White</th>\n",
       "      <th>African</th>\n",
       "      <th>Asian</th>\n",
       "      <th>Hispanic</th>\n",
       "      <th>Other Ethnicity</th>\n",
       "    </tr>\n",
       "  </thead>\n",
       "  <tbody>\n",
       "    <tr>\n",
       "      <th>0</th>\n",
       "      <td>6001</td>\n",
       "      <td>2005</td>\n",
       "      <td>257.0</td>\n",
       "      <td>AFAM</td>\n",
       "      <td>0004</td>\n",
       "      <td>FEML</td>\n",
       "      <td>448.28</td>\n",
       "      <td>1</td>\n",
       "      <td>0</td>\n",
       "      <td>0</td>\n",
       "      <td>1</td>\n",
       "      <td>0</td>\n",
       "      <td>0</td>\n",
       "      <td>0</td>\n",
       "    </tr>\n",
       "    <tr>\n",
       "      <th>1</th>\n",
       "      <td>6001</td>\n",
       "      <td>2005</td>\n",
       "      <td>420.0</td>\n",
       "      <td>AFAM</td>\n",
       "      <td>0004</td>\n",
       "      <td>MALE</td>\n",
       "      <td>708.98</td>\n",
       "      <td>1</td>\n",
       "      <td>1</td>\n",
       "      <td>0</td>\n",
       "      <td>1</td>\n",
       "      <td>0</td>\n",
       "      <td>0</td>\n",
       "      <td>0</td>\n",
       "    </tr>\n",
       "    <tr>\n",
       "      <th>3</th>\n",
       "      <td>6001</td>\n",
       "      <td>2005</td>\n",
       "      <td>406.0</td>\n",
       "      <td>AFAM</td>\n",
       "      <td>0517</td>\n",
       "      <td>FEML</td>\n",
       "      <td>221.79</td>\n",
       "      <td>0</td>\n",
       "      <td>0</td>\n",
       "      <td>0</td>\n",
       "      <td>1</td>\n",
       "      <td>0</td>\n",
       "      <td>0</td>\n",
       "      <td>0</td>\n",
       "    </tr>\n",
       "    <tr>\n",
       "      <th>4</th>\n",
       "      <td>6001</td>\n",
       "      <td>2005</td>\n",
       "      <td>461.0</td>\n",
       "      <td>AFAM</td>\n",
       "      <td>0517</td>\n",
       "      <td>MALE</td>\n",
       "      <td>254.14</td>\n",
       "      <td>0</td>\n",
       "      <td>1</td>\n",
       "      <td>0</td>\n",
       "      <td>1</td>\n",
       "      <td>0</td>\n",
       "      <td>0</td>\n",
       "      <td>0</td>\n",
       "    </tr>\n",
       "    <tr>\n",
       "      <th>6</th>\n",
       "      <td>6001</td>\n",
       "      <td>2005</td>\n",
       "      <td>61.0</td>\n",
       "      <td>ASPI</td>\n",
       "      <td>0004</td>\n",
       "      <td>FEML</td>\n",
       "      <td>51.37</td>\n",
       "      <td>1</td>\n",
       "      <td>0</td>\n",
       "      <td>0</td>\n",
       "      <td>0</td>\n",
       "      <td>1</td>\n",
       "      <td>0</td>\n",
       "      <td>0</td>\n",
       "    </tr>\n",
       "  </tbody>\n",
       "</table>\n",
       "</div>"
      ],
      "text/plain": [
       "   FIPS  Year  Number Ethnicity   Age Gender   Rates  Age (<4)  Gender (M)  \\\n",
       "0  6001  2005   257.0      AFAM  0004   FEML  448.28         1           0   \n",
       "1  6001  2005   420.0      AFAM  0004   MALE  708.98         1           1   \n",
       "3  6001  2005   406.0      AFAM  0517   FEML  221.79         0           0   \n",
       "4  6001  2005   461.0      AFAM  0517   MALE  254.14         0           1   \n",
       "6  6001  2005    61.0      ASPI  0004   FEML   51.37         1           0   \n",
       "\n",
       "   White  African  Asian  Hispanic  Other Ethnicity  \n",
       "0      0        1      0         0                0  \n",
       "1      0        1      0         0                0  \n",
       "3      0        1      0         0                0  \n",
       "4      0        1      0         0                0  \n",
       "6      0        0      1         0                0  "
      ]
     },
     "execution_count": 29,
     "metadata": {},
     "output_type": "execute_result"
    }
   ],
   "source": [
    "ED_df.head()"
   ]
  },
  {
   "cell_type": "markdown",
   "metadata": {},
   "source": [
    "Drop category variables"
   ]
  },
  {
   "cell_type": "code",
   "execution_count": 30,
   "metadata": {
    "collapsed": false
   },
   "outputs": [],
   "source": [
    "ED_df= ED_df.drop('Ethnicity', axis=1)\n",
    "ED_df= ED_df.drop('Gender', axis=1)\n",
    "ED_df= ED_df.drop('Age', axis=1)"
   ]
  },
  {
   "cell_type": "code",
   "execution_count": 31,
   "metadata": {
    "collapsed": false
   },
   "outputs": [
    {
     "data": {
      "text/html": [
       "<div>\n",
       "<table border=\"1\" class=\"dataframe\">\n",
       "  <thead>\n",
       "    <tr style=\"text-align: right;\">\n",
       "      <th></th>\n",
       "      <th>FIPS</th>\n",
       "      <th>Year</th>\n",
       "      <th>Number</th>\n",
       "      <th>Rates</th>\n",
       "      <th>Age (&lt;4)</th>\n",
       "      <th>Gender (M)</th>\n",
       "      <th>White</th>\n",
       "      <th>African</th>\n",
       "      <th>Asian</th>\n",
       "      <th>Hispanic</th>\n",
       "      <th>Other Ethnicity</th>\n",
       "    </tr>\n",
       "  </thead>\n",
       "  <tbody>\n",
       "    <tr>\n",
       "      <th>0</th>\n",
       "      <td>6001</td>\n",
       "      <td>2005</td>\n",
       "      <td>257.0</td>\n",
       "      <td>448.28</td>\n",
       "      <td>1</td>\n",
       "      <td>0</td>\n",
       "      <td>0</td>\n",
       "      <td>1</td>\n",
       "      <td>0</td>\n",
       "      <td>0</td>\n",
       "      <td>0</td>\n",
       "    </tr>\n",
       "    <tr>\n",
       "      <th>1</th>\n",
       "      <td>6001</td>\n",
       "      <td>2005</td>\n",
       "      <td>420.0</td>\n",
       "      <td>708.98</td>\n",
       "      <td>1</td>\n",
       "      <td>1</td>\n",
       "      <td>0</td>\n",
       "      <td>1</td>\n",
       "      <td>0</td>\n",
       "      <td>0</td>\n",
       "      <td>0</td>\n",
       "    </tr>\n",
       "    <tr>\n",
       "      <th>3</th>\n",
       "      <td>6001</td>\n",
       "      <td>2005</td>\n",
       "      <td>406.0</td>\n",
       "      <td>221.79</td>\n",
       "      <td>0</td>\n",
       "      <td>0</td>\n",
       "      <td>0</td>\n",
       "      <td>1</td>\n",
       "      <td>0</td>\n",
       "      <td>0</td>\n",
       "      <td>0</td>\n",
       "    </tr>\n",
       "    <tr>\n",
       "      <th>4</th>\n",
       "      <td>6001</td>\n",
       "      <td>2005</td>\n",
       "      <td>461.0</td>\n",
       "      <td>254.14</td>\n",
       "      <td>0</td>\n",
       "      <td>1</td>\n",
       "      <td>0</td>\n",
       "      <td>1</td>\n",
       "      <td>0</td>\n",
       "      <td>0</td>\n",
       "      <td>0</td>\n",
       "    </tr>\n",
       "    <tr>\n",
       "      <th>6</th>\n",
       "      <td>6001</td>\n",
       "      <td>2005</td>\n",
       "      <td>61.0</td>\n",
       "      <td>51.37</td>\n",
       "      <td>1</td>\n",
       "      <td>0</td>\n",
       "      <td>0</td>\n",
       "      <td>0</td>\n",
       "      <td>1</td>\n",
       "      <td>0</td>\n",
       "      <td>0</td>\n",
       "    </tr>\n",
       "  </tbody>\n",
       "</table>\n",
       "</div>"
      ],
      "text/plain": [
       "   FIPS  Year  Number   Rates  Age (<4)  Gender (M)  White  African  Asian  \\\n",
       "0  6001  2005   257.0  448.28         1           0      0        1      0   \n",
       "1  6001  2005   420.0  708.98         1           1      0        1      0   \n",
       "3  6001  2005   406.0  221.79         0           0      0        1      0   \n",
       "4  6001  2005   461.0  254.14         0           1      0        1      0   \n",
       "6  6001  2005    61.0   51.37         1           0      0        0      1   \n",
       "\n",
       "   Hispanic  Other Ethnicity  \n",
       "0         0                0  \n",
       "1         0                0  \n",
       "3         0                0  \n",
       "4         0                0  \n",
       "6         0                0  "
      ]
     },
     "execution_count": 31,
     "metadata": {},
     "output_type": "execute_result"
    }
   ],
   "source": [
    "ED_df.head()"
   ]
  },
  {
   "cell_type": "code",
   "execution_count": 32,
   "metadata": {
    "collapsed": false
   },
   "outputs": [
    {
     "name": "stdout",
     "output_type": "stream",
     "text": [
      "[6001 6005 6007 6009 6011 6013 6015 6017 6019 6023 6025 6027 6029 6031 6033\n",
      " 6035 6037 6039 6041 6045 6047 6053 6055 6057 6059 6061 6065 6067 6069 6071\n",
      " 6073 6075 6077 6079 6081 6083 6085 6087 6089 6093 6095 6097 6099 6101 6103\n",
      " 6107 6109 6111 6113 6115]\n",
      "50\n"
     ]
    }
   ],
   "source": [
    "print ED_df['FIPS'].sort_values().unique()\n",
    "print len(ED_df['FIPS'].unique())"
   ]
  },
  {
   "cell_type": "code",
   "execution_count": 42,
   "metadata": {
    "collapsed": false
   },
   "outputs": [
    {
     "name": "stdout",
     "output_type": "stream",
     "text": [
      "6003 1    Alpine\n",
      "Name: County, dtype: object\n",
      "6021 10    Glenn\n",
      "Name: County, dtype: object\n",
      "6043 21    Mariposa\n",
      "Name: County, dtype: object\n",
      "6049 24    Modoc\n",
      "Name: County, dtype: object\n",
      "6051 25    Mono\n",
      "Name: County, dtype: object\n",
      "6063 31    Plumas\n",
      "Name: County, dtype: object\n",
      "6091 45    Sierra\n",
      "Name: County, dtype: object\n",
      "6105 52    Trinity\n",
      "Name: County, dtype: object\n"
     ]
    }
   ],
   "source": [
    "FIPS_array= ED_df['FIPS'].unique()\n",
    "for f in County_info_df['FIPS']:\n",
    "    if not(f in FIPS_array):\n",
    "        print f, County_info_df.loc[County_info_df['FIPS']==f,'County']"
   ]
  },
  {
   "cell_type": "markdown",
   "metadata": {},
   "source": [
    "Missing 8 counties: Alpine, Glenn, Mariposa, Modoc, Mono, Plumas, Sierra, Trinity"
   ]
  },
  {
   "cell_type": "code",
   "execution_count": 35,
   "metadata": {
    "collapsed": false
   },
   "outputs": [
    {
     "name": "stdout",
     "output_type": "stream",
     "text": [
      "Total number of data points: 4840\n"
     ]
    }
   ],
   "source": [
    "print 'Total number of data points: %d' % len(ED_df)"
   ]
  },
  {
   "cell_type": "markdown",
   "metadata": {},
   "source": [
    "Save corresponding file"
   ]
  },
  {
   "cell_type": "code",
   "execution_count": 138,
   "metadata": {
    "collapsed": true
   },
   "outputs": [],
   "source": [
    "ED_df.to_csv('temp_ED_visits.csv',index=False, header=True)"
   ]
  }
 ],
 "metadata": {
  "kernelspec": {
   "display_name": "Python [conda env:insight]",
   "language": "python",
   "name": "conda-env-insight-py"
  },
  "language_info": {
   "codemirror_mode": {
    "name": "ipython",
    "version": 2
   },
   "file_extension": ".py",
   "mimetype": "text/x-python",
   "name": "python",
   "nbconvert_exporter": "python",
   "pygments_lexer": "ipython2",
   "version": "2.7.13"
  }
 },
 "nbformat": 4,
 "nbformat_minor": 2
}
