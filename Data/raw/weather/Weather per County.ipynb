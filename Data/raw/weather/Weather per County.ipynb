{
 "cells": [
  {
   "cell_type": "markdown",
   "metadata": {},
   "source": [
    "# Compile weather data from weather stations by county level"
   ]
  },
  {
   "cell_type": "code",
   "execution_count": 2,
   "metadata": {
    "collapsed": true
   },
   "outputs": [],
   "source": [
    "import numpy as np\n",
    "import pandas as pd\n",
    "import requests\n",
    "import json\n",
    "import time"
   ]
  },
  {
   "cell_type": "markdown",
   "metadata": {},
   "source": [
    "### Load weather data from each weather station, together with its geolocation"
   ]
  },
  {
   "cell_type": "code",
   "execution_count": 60,
   "metadata": {
    "collapsed": false
   },
   "outputs": [],
   "source": [
    "filename='2005_GSOY.csv'\n",
    "year=2005\n",
    "stations= pd.read_csv(filename)"
   ]
  },
  {
   "cell_type": "code",
   "execution_count": 61,
   "metadata": {
    "collapsed": false
   },
   "outputs": [
    {
     "data": {
      "text/html": [
       "<div>\n",
       "<table border=\"1\" class=\"dataframe\">\n",
       "  <thead>\n",
       "    <tr style=\"text-align: right;\">\n",
       "      <th></th>\n",
       "      <th>STATION</th>\n",
       "      <th>NAME</th>\n",
       "      <th>LATITUDE</th>\n",
       "      <th>LONGITUDE</th>\n",
       "      <th>ELEVATION</th>\n",
       "      <th>DATE</th>\n",
       "      <th>CDSD</th>\n",
       "      <th>DSND</th>\n",
       "      <th>DSNW</th>\n",
       "      <th>EMNT</th>\n",
       "      <th>EMSD</th>\n",
       "      <th>EMSN</th>\n",
       "      <th>EMXP</th>\n",
       "      <th>EMXT</th>\n",
       "      <th>HDSD</th>\n",
       "      <th>PRCP</th>\n",
       "      <th>SNOW</th>\n",
       "      <th>TAVG</th>\n",
       "      <th>TMAX</th>\n",
       "      <th>TMIN</th>\n",
       "    </tr>\n",
       "  </thead>\n",
       "  <tbody>\n",
       "    <tr>\n",
       "      <th>0</th>\n",
       "      <td>USR0000CDIA</td>\n",
       "      <td>DIABLO GRANDE CALIFORNIA</td>\n",
       "      <td>37.3292</td>\n",
       "      <td>-121.2939</td>\n",
       "      <td>563.9</td>\n",
       "      <td>2005</td>\n",
       "      <td>1423.0</td>\n",
       "      <td>NaN</td>\n",
       "      <td>NaN</td>\n",
       "      <td>30.0</td>\n",
       "      <td>NaN</td>\n",
       "      <td>NaN</td>\n",
       "      <td>NaN</td>\n",
       "      <td>104.0</td>\n",
       "      <td>3044.0</td>\n",
       "      <td>NaN</td>\n",
       "      <td>NaN</td>\n",
       "      <td>61.6</td>\n",
       "      <td>71.1</td>\n",
       "      <td>52.2</td>\n",
       "    </tr>\n",
       "    <tr>\n",
       "      <th>1</th>\n",
       "      <td>USR0000CTHO</td>\n",
       "      <td>THOMES CREEK CALIFORNIA</td>\n",
       "      <td>39.8644</td>\n",
       "      <td>-122.6097</td>\n",
       "      <td>317.0</td>\n",
       "      <td>2005</td>\n",
       "      <td>2200.0</td>\n",
       "      <td>NaN</td>\n",
       "      <td>NaN</td>\n",
       "      <td>32.0</td>\n",
       "      <td>NaN</td>\n",
       "      <td>NaN</td>\n",
       "      <td>NaN</td>\n",
       "      <td>114.0</td>\n",
       "      <td>2504.0</td>\n",
       "      <td>NaN</td>\n",
       "      <td>NaN</td>\n",
       "      <td>64.6</td>\n",
       "      <td>75.5</td>\n",
       "      <td>53.6</td>\n",
       "    </tr>\n",
       "    <tr>\n",
       "      <th>2</th>\n",
       "      <td>USC00049099</td>\n",
       "      <td>TWENTYNINE PALMS</td>\n",
       "      <td>34.1280</td>\n",
       "      <td>-116.0369</td>\n",
       "      <td>602.0</td>\n",
       "      <td>2005</td>\n",
       "      <td>NaN</td>\n",
       "      <td>0.0</td>\n",
       "      <td>0.0</td>\n",
       "      <td>31.0</td>\n",
       "      <td>0.0</td>\n",
       "      <td>0.0</td>\n",
       "      <td>2.34</td>\n",
       "      <td>NaN</td>\n",
       "      <td>1968.0</td>\n",
       "      <td>7.67</td>\n",
       "      <td>0.0</td>\n",
       "      <td>NaN</td>\n",
       "      <td>NaN</td>\n",
       "      <td>56.8</td>\n",
       "    </tr>\n",
       "    <tr>\n",
       "      <th>3</th>\n",
       "      <td>USR0000CRDR</td>\n",
       "      <td>READER RANCH CALIFORNIA</td>\n",
       "      <td>39.3036</td>\n",
       "      <td>-121.1172</td>\n",
       "      <td>599.8</td>\n",
       "      <td>2005</td>\n",
       "      <td>1315.0</td>\n",
       "      <td>NaN</td>\n",
       "      <td>NaN</td>\n",
       "      <td>29.0</td>\n",
       "      <td>NaN</td>\n",
       "      <td>NaN</td>\n",
       "      <td>NaN</td>\n",
       "      <td>105.0</td>\n",
       "      <td>3126.0</td>\n",
       "      <td>NaN</td>\n",
       "      <td>NaN</td>\n",
       "      <td>60.6</td>\n",
       "      <td>73.0</td>\n",
       "      <td>48.2</td>\n",
       "    </tr>\n",
       "    <tr>\n",
       "      <th>4</th>\n",
       "      <td>USR0000CTHS</td>\n",
       "      <td>THOUSAND OAKS CALIFORNIA</td>\n",
       "      <td>34.2100</td>\n",
       "      <td>-118.8700</td>\n",
       "      <td>242.3</td>\n",
       "      <td>2005</td>\n",
       "      <td>528.0</td>\n",
       "      <td>NaN</td>\n",
       "      <td>NaN</td>\n",
       "      <td>37.0</td>\n",
       "      <td>NaN</td>\n",
       "      <td>NaN</td>\n",
       "      <td>NaN</td>\n",
       "      <td>95.0</td>\n",
       "      <td>1964.0</td>\n",
       "      <td>NaN</td>\n",
       "      <td>NaN</td>\n",
       "      <td>61.4</td>\n",
       "      <td>70.6</td>\n",
       "      <td>52.2</td>\n",
       "    </tr>\n",
       "  </tbody>\n",
       "</table>\n",
       "</div>"
      ],
      "text/plain": [
       "       STATION                      NAME  LATITUDE  LONGITUDE  ELEVATION  \\\n",
       "0  USR0000CDIA  DIABLO GRANDE CALIFORNIA   37.3292  -121.2939      563.9   \n",
       "1  USR0000CTHO   THOMES CREEK CALIFORNIA   39.8644  -122.6097      317.0   \n",
       "2  USC00049099          TWENTYNINE PALMS   34.1280  -116.0369      602.0   \n",
       "3  USR0000CRDR   READER RANCH CALIFORNIA   39.3036  -121.1172      599.8   \n",
       "4  USR0000CTHS  THOUSAND OAKS CALIFORNIA   34.2100  -118.8700      242.3   \n",
       "\n",
       "   DATE    CDSD  DSND  DSNW  EMNT  EMSD  EMSN  EMXP   EMXT    HDSD  PRCP  \\\n",
       "0  2005  1423.0   NaN   NaN  30.0   NaN   NaN   NaN  104.0  3044.0   NaN   \n",
       "1  2005  2200.0   NaN   NaN  32.0   NaN   NaN   NaN  114.0  2504.0   NaN   \n",
       "2  2005     NaN   0.0   0.0  31.0   0.0   0.0  2.34    NaN  1968.0  7.67   \n",
       "3  2005  1315.0   NaN   NaN  29.0   NaN   NaN   NaN  105.0  3126.0   NaN   \n",
       "4  2005   528.0   NaN   NaN  37.0   NaN   NaN   NaN   95.0  1964.0   NaN   \n",
       "\n",
       "   SNOW  TAVG  TMAX  TMIN  \n",
       "0   NaN  61.6  71.1  52.2  \n",
       "1   NaN  64.6  75.5  53.6  \n",
       "2   0.0   NaN   NaN  56.8  \n",
       "3   NaN  60.6  73.0  48.2  \n",
       "4   NaN  61.4  70.6  52.2  "
      ]
     },
     "execution_count": 61,
     "metadata": {},
     "output_type": "execute_result"
    }
   ],
   "source": [
    "stations.head()"
   ]
  },
  {
   "cell_type": "code",
   "execution_count": 62,
   "metadata": {
    "collapsed": true
   },
   "outputs": [],
   "source": [
    "Nrows= len(stations)\n",
    "\n",
    "stations['FIPS']= ['-']*Nrows\n",
    "stations['County']= ['-']*Nrows"
   ]
  },
  {
   "cell_type": "code",
   "execution_count": 63,
   "metadata": {
    "collapsed": false
   },
   "outputs": [],
   "source": [
    "for i in xrange(Nrows):\n",
    "    lat= stations.iloc[i,2]\n",
    "    lon= stations.iloc[i,3]\n",
    "\n",
    "    url= 'http://data.fcc.gov/api/block/find?format=json&latitude=%s&longitude=%s' % (str(lat),str(lon))\n",
    "    response= requests.get(url)\n",
    "    temp= json.loads(response.text)\n",
    "    time.sleep(0.1)\n",
    "\n",
    "    stations.iat[i,20]= temp['County']['FIPS']\n",
    "    stations.iat[i,21]= temp['County']['name']"
   ]
  },
  {
   "cell_type": "code",
   "execution_count": 64,
   "metadata": {
    "collapsed": false
   },
   "outputs": [
    {
     "name": "stdout",
     "output_type": "stream",
     "text": [
      "      FIPS          County\n",
      "613  06071  San Bernardino\n",
      "614  06089          Shasta\n",
      "615  06051            Mono\n",
      "616  06097          Sonoma\n",
      "617  06061          Placer\n",
      "618  06105         Trinity\n",
      "619  06115            Yuba\n",
      "620  06043        Mariposa\n",
      "621  06077     San Joaquin\n",
      "622  06037     Los Angeles\n"
     ]
    }
   ],
   "source": [
    "print stations.iloc[-10:,20:]"
   ]
  },
  {
   "cell_type": "markdown",
   "metadata": {},
   "source": [
    "### Get info about counties"
   ]
  },
  {
   "cell_type": "code",
   "execution_count": 65,
   "metadata": {
    "collapsed": true
   },
   "outputs": [],
   "source": [
    "county_info= pd.read_csv('../../county_info.csv',dtype=np.str)"
   ]
  },
  {
   "cell_type": "markdown",
   "metadata": {},
   "source": [
    "### Select columns"
   ]
  },
  {
   "cell_type": "code",
   "execution_count": 66,
   "metadata": {
    "collapsed": true
   },
   "outputs": [],
   "source": [
    "cols_counties= ['Average Temperature','Avg Max Temperature','Avg Min Temperature',\n",
    "          'Extreme Max Temp','Extreme Min Temp','Total Precipitation','Highest Daily Precipitation']"
   ]
  },
  {
   "cell_type": "code",
   "execution_count": 67,
   "metadata": {
    "collapsed": true
   },
   "outputs": [],
   "source": [
    "cols_stations= ['TAVG','TMAX','TMIN','EMXT','EMNT','PRCP','EMXP']"
   ]
  },
  {
   "cell_type": "code",
   "execution_count": 68,
   "metadata": {
    "collapsed": false
   },
   "outputs": [
    {
     "data": {
      "text/plain": [
       "array([['TAVG', 'Average Temperature'],\n",
       "       ['TMAX', 'Avg Max Temperature'],\n",
       "       ['TMIN', 'Avg Min Temperature'],\n",
       "       ['EMXT', 'Extreme Max Temp'],\n",
       "       ['EMNT', 'Extreme Min Temp'],\n",
       "       ['PRCP', 'Total Precipitation'],\n",
       "       ['EMXP', 'Highest Daily Precipitation']], \n",
       "      dtype='|S27')"
      ]
     },
     "execution_count": 68,
     "metadata": {},
     "output_type": "execute_result"
    }
   ],
   "source": [
    "Ncols= len(cols_counties)\n",
    "np.transpose([cols_stations,cols_counties])"
   ]
  },
  {
   "cell_type": "code",
   "execution_count": 69,
   "metadata": {
    "collapsed": false
   },
   "outputs": [
    {
     "name": "stdout",
     "output_type": "stream",
     "text": [
      "(58, 9)\n"
     ]
    }
   ],
   "source": [
    "weather_county= county_info.copy()\n",
    "\n",
    "for c in cols_counties:\n",
    "    weather_county[c]= [np.NaN]*len(weather_county)\n",
    "\n",
    "print weather_county.shape"
   ]
  },
  {
   "cell_type": "code",
   "execution_count": 70,
   "metadata": {
    "collapsed": true
   },
   "outputs": [],
   "source": [
    "Ncounties= len(weather_county)\n",
    "for i in xrange(Ncounties):\n",
    "    fips= weather_county.iloc[i,1]\n",
    "\n",
    "    temp_df= stations[stations['FIPS']==fips]\n",
    "    temp_ds= temp_df.median()\n",
    "\n",
    "    for j in xrange(Ncols):\n",
    "        weather_county.iloc[i,j+2]= temp_ds.loc[cols_stations[j]]"
   ]
  },
  {
   "cell_type": "code",
   "execution_count": 71,
   "metadata": {
    "collapsed": false,
    "scrolled": true
   },
   "outputs": [
    {
     "data": {
      "text/html": [
       "<div>\n",
       "<table border=\"1\" class=\"dataframe\">\n",
       "  <thead>\n",
       "    <tr style=\"text-align: right;\">\n",
       "      <th></th>\n",
       "      <th>County</th>\n",
       "      <th>FIPS</th>\n",
       "      <th>Average Temperature</th>\n",
       "      <th>Avg Max Temperature</th>\n",
       "      <th>Avg Min Temperature</th>\n",
       "      <th>Extreme Max Temp</th>\n",
       "      <th>Extreme Min Temp</th>\n",
       "      <th>Total Precipitation</th>\n",
       "      <th>Highest Daily Precipitation</th>\n",
       "    </tr>\n",
       "  </thead>\n",
       "  <tbody>\n",
       "    <tr>\n",
       "      <th>0</th>\n",
       "      <td>Alameda</td>\n",
       "      <td>06001</td>\n",
       "      <td>59.55</td>\n",
       "      <td>69.35</td>\n",
       "      <td>50.40</td>\n",
       "      <td>95.5</td>\n",
       "      <td>32.0</td>\n",
       "      <td>18.850</td>\n",
       "      <td>1.91</td>\n",
       "    </tr>\n",
       "    <tr>\n",
       "      <th>1</th>\n",
       "      <td>Alpine</td>\n",
       "      <td>06003</td>\n",
       "      <td>41.90</td>\n",
       "      <td>51.50</td>\n",
       "      <td>33.00</td>\n",
       "      <td>79.0</td>\n",
       "      <td>6.0</td>\n",
       "      <td>51.860</td>\n",
       "      <td>3.10</td>\n",
       "    </tr>\n",
       "    <tr>\n",
       "      <th>2</th>\n",
       "      <td>Amador</td>\n",
       "      <td>06005</td>\n",
       "      <td>63.60</td>\n",
       "      <td>75.10</td>\n",
       "      <td>52.10</td>\n",
       "      <td>105.0</td>\n",
       "      <td>33.0</td>\n",
       "      <td>NaN</td>\n",
       "      <td>NaN</td>\n",
       "    </tr>\n",
       "    <tr>\n",
       "      <th>3</th>\n",
       "      <td>Butte</td>\n",
       "      <td>06007</td>\n",
       "      <td>62.05</td>\n",
       "      <td>71.85</td>\n",
       "      <td>49.55</td>\n",
       "      <td>106.5</td>\n",
       "      <td>28.0</td>\n",
       "      <td>77.905</td>\n",
       "      <td>6.12</td>\n",
       "    </tr>\n",
       "    <tr>\n",
       "      <th>4</th>\n",
       "      <td>Calaveras</td>\n",
       "      <td>06009</td>\n",
       "      <td>62.70</td>\n",
       "      <td>66.30</td>\n",
       "      <td>51.60</td>\n",
       "      <td>98.5</td>\n",
       "      <td>33.0</td>\n",
       "      <td>29.390</td>\n",
       "      <td>1.62</td>\n",
       "    </tr>\n",
       "  </tbody>\n",
       "</table>\n",
       "</div>"
      ],
      "text/plain": [
       "      County   FIPS  Average Temperature  Avg Max Temperature  \\\n",
       "0    Alameda  06001                59.55                69.35   \n",
       "1     Alpine  06003                41.90                51.50   \n",
       "2     Amador  06005                63.60                75.10   \n",
       "3      Butte  06007                62.05                71.85   \n",
       "4  Calaveras  06009                62.70                66.30   \n",
       "\n",
       "   Avg Min Temperature  Extreme Max Temp  Extreme Min Temp  \\\n",
       "0                50.40              95.5              32.0   \n",
       "1                33.00              79.0               6.0   \n",
       "2                52.10             105.0              33.0   \n",
       "3                49.55             106.5              28.0   \n",
       "4                51.60              98.5              33.0   \n",
       "\n",
       "   Total Precipitation  Highest Daily Precipitation  \n",
       "0               18.850                         1.91  \n",
       "1               51.860                         3.10  \n",
       "2                  NaN                          NaN  \n",
       "3               77.905                         6.12  \n",
       "4               29.390                         1.62  "
      ]
     },
     "execution_count": 71,
     "metadata": {},
     "output_type": "execute_result"
    }
   ],
   "source": [
    "weather_county.head()"
   ]
  },
  {
   "cell_type": "markdown",
   "metadata": {},
   "source": [
    "Which counties have no weather data"
   ]
  },
  {
   "cell_type": "code",
   "execution_count": 72,
   "metadata": {
    "collapsed": false,
    "scrolled": false
   },
   "outputs": [
    {
     "data": {
      "text/html": [
       "<div>\n",
       "<table border=\"1\" class=\"dataframe\">\n",
       "  <thead>\n",
       "    <tr style=\"text-align: right;\">\n",
       "      <th></th>\n",
       "      <th>County</th>\n",
       "      <th>FIPS</th>\n",
       "      <th>Average Temperature</th>\n",
       "      <th>Avg Max Temperature</th>\n",
       "      <th>Avg Min Temperature</th>\n",
       "      <th>Extreme Max Temp</th>\n",
       "      <th>Extreme Min Temp</th>\n",
       "      <th>Total Precipitation</th>\n",
       "      <th>Highest Daily Precipitation</th>\n",
       "    </tr>\n",
       "  </thead>\n",
       "  <tbody>\n",
       "    <tr>\n",
       "      <th>2</th>\n",
       "      <td>Amador</td>\n",
       "      <td>06005</td>\n",
       "      <td>63.6</td>\n",
       "      <td>75.1</td>\n",
       "      <td>52.1</td>\n",
       "      <td>105.0</td>\n",
       "      <td>33.0</td>\n",
       "      <td>NaN</td>\n",
       "      <td>NaN</td>\n",
       "    </tr>\n",
       "    <tr>\n",
       "      <th>50</th>\n",
       "      <td>Sutter</td>\n",
       "      <td>06101</td>\n",
       "      <td>NaN</td>\n",
       "      <td>NaN</td>\n",
       "      <td>NaN</td>\n",
       "      <td>NaN</td>\n",
       "      <td>NaN</td>\n",
       "      <td>NaN</td>\n",
       "      <td>NaN</td>\n",
       "    </tr>\n",
       "  </tbody>\n",
       "</table>\n",
       "</div>"
      ],
      "text/plain": [
       "    County   FIPS  Average Temperature  Avg Max Temperature  \\\n",
       "2   Amador  06005                 63.6                 75.1   \n",
       "50  Sutter  06101                  NaN                  NaN   \n",
       "\n",
       "    Avg Min Temperature  Extreme Max Temp  Extreme Min Temp  \\\n",
       "2                  52.1             105.0              33.0   \n",
       "50                  NaN               NaN               NaN   \n",
       "\n",
       "    Total Precipitation  Highest Daily Precipitation  \n",
       "2                   NaN                          NaN  \n",
       "50                  NaN                          NaN  "
      ]
     },
     "execution_count": 72,
     "metadata": {},
     "output_type": "execute_result"
    }
   ],
   "source": [
    "weather_county[weather_county.isnull().any(1)]"
   ]
  },
  {
   "cell_type": "code",
   "execution_count": 76,
   "metadata": {
    "collapsed": false,
    "scrolled": true
   },
   "outputs": [
    {
     "data": {
      "text/html": [
       "<div>\n",
       "<table border=\"1\" class=\"dataframe\">\n",
       "  <thead>\n",
       "    <tr style=\"text-align: right;\">\n",
       "      <th></th>\n",
       "      <th>STATION</th>\n",
       "      <th>NAME</th>\n",
       "      <th>LATITUDE</th>\n",
       "      <th>LONGITUDE</th>\n",
       "      <th>ELEVATION</th>\n",
       "      <th>DATE</th>\n",
       "      <th>CDSD</th>\n",
       "      <th>DSND</th>\n",
       "      <th>DSNW</th>\n",
       "      <th>EMNT</th>\n",
       "      <th>...</th>\n",
       "      <th>EMXP</th>\n",
       "      <th>EMXT</th>\n",
       "      <th>HDSD</th>\n",
       "      <th>PRCP</th>\n",
       "      <th>SNOW</th>\n",
       "      <th>TAVG</th>\n",
       "      <th>TMAX</th>\n",
       "      <th>TMIN</th>\n",
       "      <th>FIPS</th>\n",
       "      <th>County</th>\n",
       "    </tr>\n",
       "  </thead>\n",
       "  <tbody>\n",
       "    <tr>\n",
       "      <th>460</th>\n",
       "      <td>USC00046194</td>\n",
       "      <td>NICOLAUS NUMBER 2</td>\n",
       "      <td>38.9261</td>\n",
       "      <td>-121.5447</td>\n",
       "      <td>13.1</td>\n",
       "      <td>2007</td>\n",
       "      <td>NaN</td>\n",
       "      <td>0.0</td>\n",
       "      <td>0.0</td>\n",
       "      <td>NaN</td>\n",
       "      <td>...</td>\n",
       "      <td>1.5</td>\n",
       "      <td>NaN</td>\n",
       "      <td>NaN</td>\n",
       "      <td>10.74</td>\n",
       "      <td>0.0</td>\n",
       "      <td>NaN</td>\n",
       "      <td>NaN</td>\n",
       "      <td>NaN</td>\n",
       "      <td>06101</td>\n",
       "      <td>Sutter</td>\n",
       "    </tr>\n",
       "  </tbody>\n",
       "</table>\n",
       "<p>1 rows × 22 columns</p>\n",
       "</div>"
      ],
      "text/plain": [
       "         STATION               NAME  LATITUDE  LONGITUDE  ELEVATION  DATE  \\\n",
       "460  USC00046194  NICOLAUS NUMBER 2   38.9261  -121.5447       13.1  2007   \n",
       "\n",
       "     CDSD  DSND  DSNW  EMNT   ...    EMXP  EMXT  HDSD   PRCP  SNOW  TAVG  \\\n",
       "460   NaN   0.0   0.0   NaN   ...     1.5   NaN   NaN  10.74   0.0   NaN   \n",
       "\n",
       "     TMAX  TMIN   FIPS  County  \n",
       "460   NaN   NaN  06101  Sutter  \n",
       "\n",
       "[1 rows x 22 columns]"
      ]
     },
     "execution_count": 76,
     "metadata": {},
     "output_type": "execute_result"
    }
   ],
   "source": [
    "stations[stations['County']=='Sutter']"
   ]
  },
  {
   "cell_type": "code",
   "execution_count": 77,
   "metadata": {
    "collapsed": false
   },
   "outputs": [
    {
     "data": {
      "text/html": [
       "<div>\n",
       "<table border=\"1\" class=\"dataframe\">\n",
       "  <thead>\n",
       "    <tr style=\"text-align: right;\">\n",
       "      <th></th>\n",
       "      <th>STATION</th>\n",
       "      <th>NAME</th>\n",
       "      <th>LATITUDE</th>\n",
       "      <th>LONGITUDE</th>\n",
       "      <th>ELEVATION</th>\n",
       "      <th>DATE</th>\n",
       "      <th>CDSD</th>\n",
       "      <th>DSND</th>\n",
       "      <th>DSNW</th>\n",
       "      <th>EMNT</th>\n",
       "      <th>...</th>\n",
       "      <th>EMXP</th>\n",
       "      <th>EMXT</th>\n",
       "      <th>HDSD</th>\n",
       "      <th>PRCP</th>\n",
       "      <th>SNOW</th>\n",
       "      <th>TAVG</th>\n",
       "      <th>TMAX</th>\n",
       "      <th>TMIN</th>\n",
       "      <th>FIPS</th>\n",
       "      <th>County</th>\n",
       "    </tr>\n",
       "  </thead>\n",
       "  <tbody>\n",
       "    <tr>\n",
       "      <th>393</th>\n",
       "      <td>USC00041948</td>\n",
       "      <td>COLUSA 2 SSW</td>\n",
       "      <td>39.1875</td>\n",
       "      <td>-122.0269</td>\n",
       "      <td>15.2</td>\n",
       "      <td>2007</td>\n",
       "      <td>1149.0</td>\n",
       "      <td>0.0</td>\n",
       "      <td>0.0</td>\n",
       "      <td>22.0</td>\n",
       "      <td>...</td>\n",
       "      <td>0.8</td>\n",
       "      <td>104.0</td>\n",
       "      <td>2435.0</td>\n",
       "      <td>10.3</td>\n",
       "      <td>0.0</td>\n",
       "      <td>61.3</td>\n",
       "      <td>76.0</td>\n",
       "      <td>46.5</td>\n",
       "      <td>06011</td>\n",
       "      <td>Colusa</td>\n",
       "    </tr>\n",
       "    <tr>\n",
       "      <th>427</th>\n",
       "      <td>USR0000CSTO</td>\n",
       "      <td>STONYFORD CALIFORNIA</td>\n",
       "      <td>39.3669</td>\n",
       "      <td>-122.5750</td>\n",
       "      <td>365.8</td>\n",
       "      <td>2007</td>\n",
       "      <td>NaN</td>\n",
       "      <td>NaN</td>\n",
       "      <td>NaN</td>\n",
       "      <td>NaN</td>\n",
       "      <td>...</td>\n",
       "      <td>NaN</td>\n",
       "      <td>NaN</td>\n",
       "      <td>2933.0</td>\n",
       "      <td>NaN</td>\n",
       "      <td>NaN</td>\n",
       "      <td>NaN</td>\n",
       "      <td>NaN</td>\n",
       "      <td>NaN</td>\n",
       "      <td>06011</td>\n",
       "      <td>Colusa</td>\n",
       "    </tr>\n",
       "  </tbody>\n",
       "</table>\n",
       "<p>2 rows × 22 columns</p>\n",
       "</div>"
      ],
      "text/plain": [
       "         STATION                  NAME  LATITUDE  LONGITUDE  ELEVATION  DATE  \\\n",
       "393  USC00041948          COLUSA 2 SSW   39.1875  -122.0269       15.2  2007   \n",
       "427  USR0000CSTO  STONYFORD CALIFORNIA   39.3669  -122.5750      365.8  2007   \n",
       "\n",
       "       CDSD  DSND  DSNW  EMNT   ...    EMXP   EMXT    HDSD  PRCP  SNOW  TAVG  \\\n",
       "393  1149.0   0.0   0.0  22.0   ...     0.8  104.0  2435.0  10.3   0.0  61.3   \n",
       "427     NaN   NaN   NaN   NaN   ...     NaN    NaN  2933.0   NaN   NaN   NaN   \n",
       "\n",
       "     TMAX  TMIN   FIPS  County  \n",
       "393  76.0  46.5  06011  Colusa  \n",
       "427   NaN   NaN  06011  Colusa  \n",
       "\n",
       "[2 rows x 22 columns]"
      ]
     },
     "execution_count": 77,
     "metadata": {},
     "output_type": "execute_result"
    }
   ],
   "source": [
    "stations[stations['County']=='Colusa']"
   ]
  },
  {
   "cell_type": "markdown",
   "metadata": {},
   "source": [
    "Saving weather data per county"
   ]
  },
  {
   "cell_type": "code",
   "execution_count": 73,
   "metadata": {
    "collapsed": false
   },
   "outputs": [],
   "source": [
    "weather_county['Year']= [year]*Ncounties"
   ]
  },
  {
   "cell_type": "code",
   "execution_count": 74,
   "metadata": {
    "collapsed": false
   },
   "outputs": [],
   "source": [
    "temp_df= weather_county.drop('FIPS',axis=1)"
   ]
  },
  {
   "cell_type": "code",
   "execution_count": 75,
   "metadata": {
    "collapsed": false
   },
   "outputs": [
    {
     "data": {
      "text/plain": [
       "Index([u'County', u'Average Temperature', u'Avg Max Temperature',\n",
       "       u'Avg Min Temperature', u'Extreme Max Temp', u'Extreme Min Temp',\n",
       "       u'Total Precipitation', u'Highest Daily Precipitation', u'Year'],\n",
       "      dtype='object')"
      ]
     },
     "execution_count": 75,
     "metadata": {},
     "output_type": "execute_result"
    }
   ],
   "source": [
    "temp_df.columns"
   ]
  },
  {
   "cell_type": "code",
   "execution_count": 76,
   "metadata": {
    "collapsed": false
   },
   "outputs": [],
   "source": [
    "weather_county= temp_df.reindex(columns=[u'County', u'Year', u'Average Temperature', u'Avg Max Temperature',\n",
    "       u'Avg Min Temperature', u'Extreme Max Temp', u'Extreme Min Temp',\n",
    "       u'Total Precipitation', u'Highest Daily Precipitation'])"
   ]
  },
  {
   "cell_type": "code",
   "execution_count": 77,
   "metadata": {
    "collapsed": false
   },
   "outputs": [
    {
     "data": {
      "text/html": [
       "<div>\n",
       "<table border=\"1\" class=\"dataframe\">\n",
       "  <thead>\n",
       "    <tr style=\"text-align: right;\">\n",
       "      <th></th>\n",
       "      <th>County</th>\n",
       "      <th>Year</th>\n",
       "      <th>Average Temperature</th>\n",
       "      <th>Avg Max Temperature</th>\n",
       "      <th>Avg Min Temperature</th>\n",
       "      <th>Extreme Max Temp</th>\n",
       "      <th>Extreme Min Temp</th>\n",
       "      <th>Total Precipitation</th>\n",
       "      <th>Highest Daily Precipitation</th>\n",
       "    </tr>\n",
       "  </thead>\n",
       "  <tbody>\n",
       "    <tr>\n",
       "      <th>0</th>\n",
       "      <td>Alameda</td>\n",
       "      <td>2005</td>\n",
       "      <td>59.55</td>\n",
       "      <td>69.35</td>\n",
       "      <td>50.40</td>\n",
       "      <td>95.5</td>\n",
       "      <td>32.0</td>\n",
       "      <td>18.850</td>\n",
       "      <td>1.91</td>\n",
       "    </tr>\n",
       "    <tr>\n",
       "      <th>1</th>\n",
       "      <td>Alpine</td>\n",
       "      <td>2005</td>\n",
       "      <td>41.90</td>\n",
       "      <td>51.50</td>\n",
       "      <td>33.00</td>\n",
       "      <td>79.0</td>\n",
       "      <td>6.0</td>\n",
       "      <td>51.860</td>\n",
       "      <td>3.10</td>\n",
       "    </tr>\n",
       "    <tr>\n",
       "      <th>2</th>\n",
       "      <td>Amador</td>\n",
       "      <td>2005</td>\n",
       "      <td>63.60</td>\n",
       "      <td>75.10</td>\n",
       "      <td>52.10</td>\n",
       "      <td>105.0</td>\n",
       "      <td>33.0</td>\n",
       "      <td>NaN</td>\n",
       "      <td>NaN</td>\n",
       "    </tr>\n",
       "    <tr>\n",
       "      <th>3</th>\n",
       "      <td>Butte</td>\n",
       "      <td>2005</td>\n",
       "      <td>62.05</td>\n",
       "      <td>71.85</td>\n",
       "      <td>49.55</td>\n",
       "      <td>106.5</td>\n",
       "      <td>28.0</td>\n",
       "      <td>77.905</td>\n",
       "      <td>6.12</td>\n",
       "    </tr>\n",
       "    <tr>\n",
       "      <th>4</th>\n",
       "      <td>Calaveras</td>\n",
       "      <td>2005</td>\n",
       "      <td>62.70</td>\n",
       "      <td>66.30</td>\n",
       "      <td>51.60</td>\n",
       "      <td>98.5</td>\n",
       "      <td>33.0</td>\n",
       "      <td>29.390</td>\n",
       "      <td>1.62</td>\n",
       "    </tr>\n",
       "  </tbody>\n",
       "</table>\n",
       "</div>"
      ],
      "text/plain": [
       "      County  Year  Average Temperature  Avg Max Temperature  \\\n",
       "0    Alameda  2005                59.55                69.35   \n",
       "1     Alpine  2005                41.90                51.50   \n",
       "2     Amador  2005                63.60                75.10   \n",
       "3      Butte  2005                62.05                71.85   \n",
       "4  Calaveras  2005                62.70                66.30   \n",
       "\n",
       "   Avg Min Temperature  Extreme Max Temp  Extreme Min Temp  \\\n",
       "0                50.40              95.5              32.0   \n",
       "1                33.00              79.0               6.0   \n",
       "2                52.10             105.0              33.0   \n",
       "3                49.55             106.5              28.0   \n",
       "4                51.60              98.5              33.0   \n",
       "\n",
       "   Total Precipitation  Highest Daily Precipitation  \n",
       "0               18.850                         1.91  \n",
       "1               51.860                         3.10  \n",
       "2                  NaN                          NaN  \n",
       "3               77.905                         6.12  \n",
       "4               29.390                         1.62  "
      ]
     },
     "execution_count": 77,
     "metadata": {},
     "output_type": "execute_result"
    }
   ],
   "source": [
    "weather_county.head()"
   ]
  },
  {
   "cell_type": "code",
   "execution_count": 78,
   "metadata": {
    "collapsed": true
   },
   "outputs": [],
   "source": [
    "weather_county.to_csv('temp_weather.csv',index=False,header=True)"
   ]
  }
 ],
 "metadata": {
  "kernelspec": {
   "display_name": "Python [conda env:insight]",
   "language": "python",
   "name": "conda-env-insight-py"
  },
  "language_info": {
   "codemirror_mode": {
    "name": "ipython",
    "version": 2
   },
   "file_extension": ".py",
   "mimetype": "text/x-python",
   "name": "python",
   "nbconvert_exporter": "python",
   "pygments_lexer": "ipython2",
   "version": "2.7.13"
  }
 },
 "nbformat": 4,
 "nbformat_minor": 2
}
